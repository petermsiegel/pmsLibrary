{
 "cells": [
  {
   "cell_type": "code",
   "execution_count": 1,
   "id": "normal-stream",
   "metadata": {},
   "outputs": [
    {
     "name": "stderr",
     "output_type": "stream",
     "text": [
      "VALUE ERROR: Undefined name: require\n",
      "      require'∆Format'\n",
      "      ∧\n"
     ]
    }
   ],
   "source": [
    "⎕SH 'pwd'"
   ]
  },
  {
   "cell_type": "markdown",
   "id": "outdoor-proxy",
   "metadata": {},
   "source": [
    "2 ⎕FIX 'file://∆Format.dyalog'"
   ]
  },
  {
   "cell_type": "code",
   "execution_count": 6,
   "id": "first-blink",
   "metadata": {},
   "outputs": [
    {
     "data": {
      "text/html": [
       "<span style=\"white-space:pre; font-family: monospace\">123\n",
       "</span>"
      ]
     },
     "execution_count": 6,
     "metadata": {},
     "output_type": "execute_result"
    }
   ],
   "source": [
    "∆F '123'"
   ]
  },
  {
   "cell_type": "code",
   "execution_count": 6,
   "id": "formal-fault",
   "metadata": {},
   "outputs": [
    {
     "data": {
      "text/html": [
       "<span style=\"white-space:pre; font-family: monospace\"> ⎕SE.⍙⍙.⍙ \n",
       "</span>"
      ]
     },
     "execution_count": 6,
     "metadata": {},
     "output_type": "execute_result"
    }
   ],
   "source": [
    "⎕←∆REQ '∆FIX'"
   ]
  },
  {
   "cell_type": "code",
   "execution_count": 8,
   "id": "proprietary-typing",
   "metadata": {},
   "outputs": [
    {
     "data": {
      "text/html": [
       "<span style=\"white-space:pre; font-family: monospace\">⎕←1 + 2               \n",
       "⍝↑::STATIC three←1 + 2\n",
       "three←3               \n",
       "⎕←three               \n",
       "</span>"
      ]
     },
     "execution_count": 8,
     "metadata": {},
     "output_type": "execute_result"
    }
   ],
   "source": [
    "↑'n' ∆FIX '⎕←1 +...' '2'  '::STATIC three←1 +..' '2' '⎕←three'\n"
   ]
  },
  {
   "cell_type": "code",
   "execution_count": null,
   "id": "august-application",
   "metadata": {},
   "outputs": [],
   "source": []
  }
 ],
 "metadata": {
  "kernelspec": {
   "display_name": "Dyalog APL",
   "language": "apl",
   "name": "dyalog-kernel"
  },
  "language_info": {
   "file_extension": ".apl",
   "mimetype": "text/apl",
   "name": "APL"
  }
 },
 "nbformat": 4,
 "nbformat_minor": 5
}
