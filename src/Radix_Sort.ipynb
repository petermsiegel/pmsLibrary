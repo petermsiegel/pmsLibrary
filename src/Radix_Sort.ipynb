{
 "cells": [
  {
   "cell_type": "markdown",
   "id": "bde2e0d3",
   "metadata": {},
   "source": [
    "# Radix Sort\n",
    "#### Python Code from https://github.com/joeyajames/Python/blob/master/Sorting%20Algorithms/Radix_Sort.ipynb\n",
    "\n",
    "### Python Definitions"
   ]
  },
  {
   "cell_type": "markdown",
   "id": "147de60a",
   "metadata": {},
   "source": [
    "```Python\n",
    "# get number of digits in largest item\n",
    "def __get_num_digits(A):\n",
    "    m = 0\n",
    "    for item in A:\n",
    "        m = max(m, item)\n",
    "    return len(str(m))\n",
    "\n",
    "# flatten into a 1D List\n",
    "from functools import reduce\n",
    "def __flatten(A):\n",
    "    return reduce(lambda x, y: x + y, A)\n",
    "\n",
    "def radix(A):\n",
    "    num_digits = __get_num_digits(A)\n",
    "    for digit in range(0, num_digits):\n",
    "        B = [[] for i in range(10)]\n",
    "        for item in A:\n",
    "            # num is the bucket number that the item will be put into\n",
    "            num = item // 10 ** (digit) % 10\n",
    "            B[num].append(item)\n",
    "        A = __flatten(B)\n",
    "    return A\n",
    "```\n",
    "### APL Definitions "
   ]
  },
  {
   "cell_type": "code",
   "execution_count": 68,
   "id": "6b67e56a",
   "metadata": {},
   "outputs": [],
   "source": [
    "∇ a← Radix a\n",
    "    ;⎕IO\n",
    "    ;BASE ;GetNumDigits ;Flatten ;dig  \n",
    "    \n",
    "    ⎕IO ← 0\n",
    "    NBUCKETS←10   ⍝ Good #s: 10, 16, 256\n",
    "        \n",
    "    GetNumDigits←   ⌈NBUCKETS∘⍟⍤( ⌈/ )              ⍝ Simple\n",
    "    Sort2Bucket←{ ⍝ ⍺: which digit \n",
    "        Sel←        NBUCKETS∘| (⌊ × ∘ ( ⍺*⍨÷NBUCKETS )) \n",
    "        Flatten←    ∊                               ⍝ Trivial  \n",
    " \n",
    "        b← NBUCKETS⍴⊂⍬\n",
    "        Flatten b⊣{ \n",
    "            item← ⍵\n",
    "            num← Sel item\n",
    "            (num⊃b),← item\n",
    "            0\n",
    "        }¨⍵\n",
    "    }\n",
    "    \n",
    "    :FOR dig :IN ⍳ GetNumDigits a\n",
    "         a← dig Sort2Bucket a\n",
    "    :EndFor    \n",
    "∇"
   ]
  },
  {
   "cell_type": "markdown",
   "id": "a443c796",
   "metadata": {},
   "source": [
    "### Python: main\n",
    "```Python\n",
    "def main():\n",
    "    A = [55, 45, 3, 289, 213, 1, 288, 53, 2]\n",
    "    A = radix(A)\n",
    "    print(A)\n",
    "    \n",
    "    B  = [i for i in range(1000000)]\n",
    "    from random import shuffle\n",
    "    shuffle(B)\n",
    "    B = radix(B)\n",
    "    print(B[:6], B[-6:])\n",
    "\n",
    "main()\n",
    "```\n",
    "\n",
    "### APL \"main\""
   ]
  },
  {
   "cell_type": "code",
   "execution_count": 69,
   "id": "92cf59b8",
   "metadata": {},
   "outputs": [],
   "source": [
    "⍝ Housekeeping \n",
    "  ]←box on   "
   ]
  },
  {
   "cell_type": "markdown",
   "id": "f0be6321",
   "metadata": {},
   "source": [
    "#### APL:  Execute first part"
   ]
  },
  {
   "cell_type": "code",
   "execution_count": 70,
   "id": "2fe5230a",
   "metadata": {},
   "outputs": [
    {
     "data": {
      "text/html": [
       "<span style=\"white-space:pre; font-family: monospace\">1 2 3 45 53 55 213 288 289\n",
       "</span>"
      ]
     },
     "execution_count": 70,
     "metadata": {},
     "output_type": "execute_result"
    }
   ],
   "source": [
    "⍝ \"main\" part I\n",
    "  a ← 55 45 3 289 213 1 288 53 2 \n",
    "  a ← Radix a\n",
    "  a"
   ]
  },
  {
   "cell_type": "markdown",
   "id": "e7af7dbe",
   "metadata": {},
   "source": [
    "#### APL:  Execute second part"
   ]
  },
  {
   "cell_type": "code",
   "execution_count": 71,
   "id": "1ea3ecc1",
   "metadata": {},
   "outputs": [
    {
     "data": {
      "text/html": [
       "<span style=\"white-space:pre; font-family: monospace\">┌───────────┬───────────────────────────────────┐\n",
       "│0 1 2 3 4 5│99994 99995 99996 99997 99998 99999│\n",
       "└───────────┴───────────────────────────────────┘\n",
       "</span>"
      ]
     },
     "execution_count": 71,
     "metadata": {},
     "output_type": "execute_result"
    }
   ],
   "source": [
    "⍝ \"main\" part II\n",
    "  b← ?⍨100000  \n",
    "  b← Radix b\n",
    "  (6↑b) (¯6↑b)"
   ]
  }
 ],
 "metadata": {
  "kernelspec": {
   "display_name": "Dyalog APL",
   "language": "apl",
   "name": "dyalog-kernel"
  },
  "language_info": {
   "file_extension": ".apl",
   "mimetype": "text/apl",
   "name": "APL"
  }
 },
 "nbformat": 4,
 "nbformat_minor": 5
}
