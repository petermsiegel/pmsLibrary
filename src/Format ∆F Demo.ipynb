{
 "cells": [
  {
   "cell_type": "markdown",
   "id": "technical-posting",
   "metadata": {},
   "source": [
    "# Getting Started with ∆F Strings for Formatting\n",
    "\n",
    "### Description\n",
    "__∆F__ is a utility for Dyalog APL that performs a function similar to string formatters in other languages, such as Python's f-strings, but with an _APL_ flair. "
   ]
  },
  {
   "cell_type": "markdown",
   "id": "numerical-glossary",
   "metadata": {},
   "source": [
    "### Outline\n",
    "* Setup\n",
    "* ∆F Fields\n",
    "  * Text Fields\n",
    "      * Escapes\n",
    "  * Code Fields\n",
    "  * Debug Mode\n",
    "  * DQ Strings \n",
    "      * Escapes\n",
    "  * Space Fields\n",
    "  * Pseudo-Builtin \\$ for ⎕FMT formatting\n",
    "  * Pseudo-builtin $$ for a boxed display\n",
    "  * ∆F arguments: ⍹0, ⍹, etc.\n",
    "  * Justification and Centering with \\$\n",
    "* Miscellaneous Options\n",
    "  * Code Field namespace ⍺\n",
    "  * Assertions with ∆F\n",
    "\n",
    "### Setup\n",
    "<br>Let's get started!\n",
    "\n",
    "Let's be sure the file __∆Format.dyalog__ is accessible and loaded. When fixed, it creates a single function `∆F`."
   ]
  },
  {
   "cell_type": "code",
   "execution_count": 1,
   "id": "normal-stream",
   "metadata": {
    "scrolled": true
   },
   "outputs": [
    {
     "data": {
      "text/html": [
       "<span style=\"white-space:pre; font-family: monospace\">/Users/petermsiegel/MyDyalogLibrary/pmsLibrary/src\n",
       "</span>"
      ]
     },
     "execution_count": 1,
     "metadata": {},
     "output_type": "execute_result"
    },
    {
     "data": {
      "text/html": [
       "<span style=\"white-space:pre; font-family: monospace\"> ∆F \n",
       "</span>"
      ]
     },
     "execution_count": 1,
     "metadata": {},
     "output_type": "execute_result"
    }
   ],
   "source": [
    "⍝ We can start the Jupyter _ipynb_ file up in the same directory as ∆Format.dyalog. \n",
    "⎕SH 'pwd'\n",
    "⎕←2 ⎕FIX 'file://∆Format.dyalog'"
   ]
  },
  {
   "cell_type": "markdown",
   "id": "figured-designation",
   "metadata": {},
   "source": [
    "### ∆F Fields\n",
    "####  Text Fields: `'A simple string'`\n",
    "The simplest possible format string-- we'll call it an __∆F__ string-- consists of a simple __Text__ field."
   ]
  },
  {
   "cell_type": "code",
   "execution_count": 2,
   "id": "august-application",
   "metadata": {},
   "outputs": [
    {
     "data": {
      "text/html": [
       "<span style=\"white-space:pre; font-family: monospace\">This is a simple string.\n",
       "</span>"
      ]
     },
     "execution_count": 2,
     "metadata": {},
     "output_type": "execute_result"
    }
   ],
   "source": [
    "∆F 'This is a simple string.'"
   ]
  },
  {
   "cell_type": "markdown",
   "id": "welsh-perth",
   "metadata": {},
   "source": [
    "##### Text Fields: Newlines and Escapes\n",
    "__Text__ fields can consist of one or more lines, each separated by the special newline escape sequence `\\⋄`. Using __Text__ fields this way is just one way to create a list of items or a multiline paragraph. "
   ]
  },
  {
   "cell_type": "code",
   "execution_count": 3,
   "id": "further-iceland",
   "metadata": {},
   "outputs": [
    {
     "data": {
      "text/html": [
       "<span style=\"white-space:pre; font-family: monospace\">This             \n",
       "is a             \n",
       "multiline string.\n",
       "</span>"
      ]
     },
     "execution_count": 3,
     "metadata": {},
     "output_type": "execute_result"
    }
   ],
   "source": [
    "∆F 'This\\⋄is a\\⋄multiline string.'"
   ]
  },
  {
   "cell_type": "markdown",
   "id": "unauthorized-hampton",
   "metadata": {},
   "source": [
    "You can insert most any Unicode character into a __Text__ field. Only four characters (with special meaning _described below_) require special treatment: \n",
    "\n",
    "`{`, `}`, `⋄`, and `\\`.  \n",
    "   \n",
    " A diamond `⋄` _not_ preceded by a backslash `\\` has no special meaning; only the escaped sequence `\\⋄` denotes a newline.  You'll see below that a bare `{` begins a __Code__ field, which is terminated by a balancing bare `}`. Finally, literal backslashes only need to be escaped themselves (i.e. as `\\\\`) when right before a `⋄`, `{`, `}`, or another backslash `\\`. In other cases, such as `+\\⍳` no extra backslash is required."
   ]
  },
  {
   "cell_type": "code",
   "execution_count": 26,
   "id": "straight-twist",
   "metadata": {},
   "outputs": [
    {
     "data": {
      "text/html": [
       "<span style=\"white-space:pre; font-family: monospace\">\"We can sum the numbers ⍵ via +\\⍵\".\n",
       "</span>"
      ]
     },
     "execution_count": 26,
     "metadata": {},
     "output_type": "execute_result"
    }
   ],
   "source": [
    "∆F '\"We can sum the numbers ⍵ via +\\⍵\"'"
   ]
  },
  {
   "cell_type": "markdown",
   "id": "distant-audit",
   "metadata": {},
   "source": [
    "#### Code Fields: Simple Variables `'{lastName}, {firstName}'`\n",
    "Let's create a more useful example of ∆F strings using the following three variables. "
   ]
  },
  {
   "cell_type": "code",
   "execution_count": 27,
   "id": "inside-examination",
   "metadata": {},
   "outputs": [],
   "source": [
    "what←'This'\n",
    "type←'simple'\n",
    "thing←'string'"
   ]
  },
  {
   "cell_type": "markdown",
   "id": "consistent-ordering",
   "metadata": {},
   "source": [
    "Within separate sets of curly braces `{..}`, which delimit a __Code__ field, we include the three variable names: `what`, `type`, and `thing`. We'll say more about __Code__ fields in a moment."
   ]
  },
  {
   "cell_type": "code",
   "execution_count": 5,
   "id": "restricted-exception",
   "metadata": {},
   "outputs": [
    {
     "data": {
      "text/html": [
       "<span style=\"white-space:pre; font-family: monospace\">This is a simple string.\n",
       "</span>"
      ]
     },
     "execution_count": 5,
     "metadata": {},
     "output_type": "execute_result"
    }
   ],
   "source": [
    "∆F '{what} is a {type} {thing}.'"
   ]
  },
  {
   "cell_type": "markdown",
   "id": "opponent-frequency",
   "metadata": {},
   "source": [
    "#### Knowing Your Fields\n",
    "This ∆F string consists of six fields: \n",
    "   1. a __Code__ field `{what}`, which returns the value of the variable `what`; \n",
    "   2. a __Text__ field `\" is a \"`;\n",
    "   3. another __Code__ field `{type}`, returning the value of the variable `type`;\n",
    "   4. a short __Text__ field `\" \"`; \n",
    "   5. a __Code__ field `{thing}`, referencing `thing`; and finally,\n",
    "   6. a final __Text__ field `\".\"`.\n",
    "\n",
    "##### Debug Mode: `'debug'`\n",
    "We can show each of the fields more graphically using the _debug_ option (abbreviated _d_), which places each field in a separate display box and marks each space in each field by a middle dot `·`."
   ]
  },
  {
   "cell_type": "code",
   "execution_count": 6,
   "id": "proud-tomorrow",
   "metadata": {},
   "outputs": [
    {
     "data": {
      "text/html": [
       "<span style=\"white-space:pre; font-family: monospace\">┌→───┐┌→─────┐┌→─────┐┌→┐┌→─────┐┌→┐\n",
       "↓This│↓·is·a·│↓simple│↓·│↓string│↓.│\n",
       "└────┘└──────┘└──────┘└─┘└──────┘└─┘\n",
       "</span>"
      ]
     },
     "execution_count": 6,
     "metadata": {},
     "output_type": "execute_result"
    }
   ],
   "source": [
    "'d' ∆F '{what} is a {type} {thing}.'"
   ]
  },
  {
   "cell_type": "markdown",
   "id": "blind-singing",
   "metadata": {},
   "source": [
    "#### Code Fields Are DFNS: `'{⍪⍳3} {↑\"Name\" \"Addr\" \"Phone\"}'`\n",
    "As shown above, in addition to __Text__ fields, we can create executable __Code__ fields, using braces {...}. A __Code__ field with a bare variable names is the simplest type of __Code__ field.\n",
    "\n",
    "__Code__ fields can be generalized as dfns* evaluated in the active (caller's) namespace. While each __Code__ field is executed via ordinary APL rules (statements left-to-right and right-to-left within statements), __Code__ fields within a `∆F` format string are themselves executed left-to-right.\n",
    "Each __Code__ field _must_ return a value. \n",
    "\n",
    "                      _______________________________________\n",
    "                      * Code fields may include comments, which each start with a lamp `⍝` \n",
    "                        and contain no braces or ⋄:  { ?0  ⍝ A random number ⍵: 0<⍵<1 }\n",
    "\n",
    "Let's look at more complex examples. First, what if a variable itself is more than a simple one-line text string?"
   ]
  },
  {
   "cell_type": "code",
   "execution_count": 7,
   "id": "rocky-hygiene",
   "metadata": {},
   "outputs": [
    {
     "data": {
      "text/html": [
       "<span style=\"white-space:pre; font-family: monospace\">0 This            is a simple    string     \n",
       "1 That                 hard      matrix     \n",
       "2 The other thing      confusing thingamabob\n",
       "</span>"
      ]
     },
     "execution_count": 7,
     "metadata": {},
     "output_type": "execute_result"
    }
   ],
   "source": [
    "list←⍪⍳3\n",
    "what←↑'This' 'That' 'The other thing'  \n",
    "type←↑'simple' 'hard' 'confusing'\n",
    "thing←↑'string' 'matrix' 'thingamabob'\n",
    "∆F '{list} {what} is a {type} {thing}'"
   ]
  },
  {
   "cell_type": "markdown",
   "id": "corresponding-specialist",
   "metadata": {},
   "source": [
    "Here, `list` is a column vector of integers, and `what`, `type` and `thing` are character matrices. Any object that can be formatted via Dyalog `⎕FMT` can be the result of a __Code__ field."
   ]
  },
  {
   "cell_type": "markdown",
   "id": "fatal-bangkok",
   "metadata": {},
   "source": [
    "Now for a more complex example. You can place arbitrary APL code within the braces `{...}` of a __Code__ field. \n",
    "\n",
    "In the example below, we'll remove the ↑ prefix from the values of each of these three variables. Notice how we insert a period after each word of the variable `thing` and create a quoted string using double quotes: `{ ↑thing,¨\".\" }` Such a string is called a __DQ String__."
   ]
  },
  {
   "cell_type": "code",
   "execution_count": 29,
   "id": "creative-novelty",
   "metadata": {},
   "outputs": [
    {
     "data": {
      "text/html": [
       "<span style=\"white-space:pre; font-family: monospace\">0 This            is a simple    string.     \n",
       "1 That                 hard      matrix.     \n",
       "2 The other thing      confusing thingamabob.\n",
       "</span>"
      ]
     },
     "execution_count": 29,
     "metadata": {},
     "output_type": "execute_result"
    }
   ],
   "source": [
    "what←'This' 'That' 'The other thing'\n",
    "type←'simple' 'hard' 'confusing'\n",
    "thing←'string' 'matrix' 'thingamabob'\n",
    "∆F '{ ⍪⍳≢what } { ↑what } is a { ↑type } { ↑thing,¨\".\" }'    ⍝ See below regarding \".\""
   ]
  },
  {
   "cell_type": "markdown",
   "id": "further-workplace",
   "metadata": {},
   "source": [
    "##### DQ Strings in Code Fields: Use `\"These\"` _not_ `'These'`\n",
    "Within __Code__ fields, strings *require* double quotes (`\"`). These __DQ strings__ `\"like this one\"` are used wherever single-quoted strings `'like this'` would be used in standard APL; single-quoted expressions are ***not*** used. Single quotes may appear, most usually as literal characters, rather than to create strings.\n",
    "\n",
    "##### DQ Strings: Escapes  `\\⋄` \n",
    "__DQ Strings__ support the escaped sequences `\\⋄` and `\\\\`. To include an actual double quote within a __DQ String__, double the doublequote (`\"\"`), just as one would do for single quotes in standard APL strings. Single quotes are doubled on entry as required by APL when entering the ∆F format string:"
   ]
  },
  {
   "cell_type": "code",
   "execution_count": 9,
   "id": "acknowledged-texas",
   "metadata": {},
   "outputs": [
    {
     "data": {
      "text/html": [
       "<span style=\"white-space:pre; font-family: monospace\">This                 \n",
       "is a                 \n",
       "\"DQ\" field, isn't it?\n",
       "</span>"
      ]
     },
     "execution_count": 9,
     "metadata": {},
     "output_type": "execute_result"
    }
   ],
   "source": [
    "∆F '{\"This\\⋄is a\\⋄\"\"DQ\"\" field, isn''t it?\"}'"
   ]
  },
  {
   "cell_type": "markdown",
   "id": "elegant-deployment",
   "metadata": {},
   "source": [
    "#### Space Fields: `{  }`\n",
    "The third and last field type is a <b>Space</b> field, which looks just like a <b>Code</b> field, except that it contains only zero or more spaces between the braces { }*. These spaces will form a separate field. \n",
    "\n",
    "                       _______________________________________\n",
    "                       * Space fields may include comments, which each start with a lamp `⍝` \n",
    "                         and contain no braces or ⋄:   {   ⍝ 3 spaces} "
   ]
  },
  {
   "cell_type": "code",
   "execution_count": 10,
   "id": "dietary-sunset",
   "metadata": {},
   "outputs": [
    {
     "data": {
      "text/html": [
       "<span style=\"white-space:pre; font-family: monospace\">This is a test.\n",
       "</span>"
      ]
     },
     "execution_count": 10,
     "metadata": {},
     "output_type": "execute_result"
    },
    {
     "data": {
      "text/html": [
       "<span style=\"white-space:pre; font-family: monospace\">┌→──────┐┌→┐┌→──────┐\n",
       "↓This·is│↓·│↓a·test.│\n",
       "└───────┘└─┘└───────┘\n",
       "</span>"
      ]
     },
     "execution_count": 10,
     "metadata": {},
     "output_type": "execute_result"
    }
   ],
   "source": [
    "∆F 'This is{ }a test.'\n",
    "'d' ∆F 'This is{ }a test.'"
   ]
  },
  {
   "cell_type": "markdown",
   "id": "greek-danger",
   "metadata": {},
   "source": [
    "But why bother with space fields? \n",
    "- They are useful when separating out multiline string or code fields; even a zero-width space field can separate two __Text__ fields; and \n",
    "- They ensure the expected amount of spacing when preceded or followed by text fields with lines of varying length.\n",
    "\n",
    "Here's an example of two multiline __Text__ field separated by a __Space__ field with a single space: { }."
   ]
  },
  {
   "cell_type": "code",
   "execution_count": 30,
   "id": "outer-atlanta",
   "metadata": {},
   "outputs": [
    {
     "data": {
      "text/html": [
       "<span style=\"white-space:pre; font-family: monospace\">This      This    \n",
       "is a      is      \n",
       "multiline as well!\n",
       "field!            \n",
       "</span>"
      ]
     },
     "execution_count": 30,
     "metadata": {},
     "output_type": "execute_result"
    }
   ],
   "source": [
    "∆F 'This\\⋄is a\\⋄multiline\\⋄field!{ ⍝ Space}{\"This\\⋄is\\⋄as well!\"}'"
   ]
  },
  {
   "cell_type": "markdown",
   "id": "oriented-bristol",
   "metadata": {},
   "source": [
    "In this next example, we use a zero-width __Space__ field simply to allow us to create two independent __Text__ fields:"
   ]
  },
  {
   "cell_type": "code",
   "execution_count": 12,
   "id": "german-trout",
   "metadata": {},
   "outputs": [
    {
     "data": {
      "text/html": [
       "<span style=\"white-space:pre; font-family: monospace\">1. Jane \n",
       "2. John \n",
       "3. Nancy\n",
       "</span>"
      ]
     },
     "execution_count": 12,
     "metadata": {},
     "output_type": "execute_result"
    }
   ],
   "source": [
    "∆F '1. \\⋄2.\\⋄3.{}Jane\\⋄John\\⋄Nancy'   ⍝ Or equivalent:  '1.\\⋄2.\\⋄3.{ }Jane\\⋄John\\⋄Nancy'"
   ]
  },
  {
   "cell_type": "markdown",
   "id": "professional-latter",
   "metadata": {},
   "source": [
    "#### Pseudo-builtin `$`\n",
    "Here's how to do this more elegantly using the pseudo-builtin `$`, which is a nice way to use the Dyalog APL formatting utility `⎕FMT`. "
   ]
  },
  {
   "cell_type": "code",
   "execution_count": 33,
   "id": "agricultural-short",
   "metadata": {},
   "outputs": [
    {
     "data": {
      "text/html": [
       "<span style=\"white-space:pre; font-family: monospace\">1. Jane \n",
       "2. John \n",
       "3. Nancy\n",
       "</span>"
      ]
     },
     "execution_count": 33,
     "metadata": {},
     "output_type": "execute_result"
    }
   ],
   "source": [
    "∆F '{\"I1,⊂. ⊃\" $ 1+⍳3}Jane\\⋄John\\⋄Nancy'"
   ]
  },
  {
   "cell_type": "markdown",
   "id": "unlimited-sport",
   "metadata": {},
   "source": [
    "Now, let's move on to a few more examples."
   ]
  },
  {
   "cell_type": "code",
   "execution_count": 34,
   "id": "aware-infrastructure",
   "metadata": {},
   "outputs": [
    {
     "data": {
      "text/html": [
       "<span style=\"white-space:pre; font-family: monospace\">Multiples of pi: 1×Π =  3.1415927\n",
       "                 2×Π =  6.2831853\n",
       "                 3×Π =  9.4247780\n",
       "                 4×Π = 12.5663706\n",
       "</span>"
      ]
     },
     "execution_count": 34,
     "metadata": {},
     "output_type": "execute_result"
    }
   ],
   "source": [
    "∆F 'Multiples of pi: {\"I1,⊂×Π =⊃\" $ 1+⍳4} {\"F10.7\" $ ○1 2 3 4}'"
   ]
  },
  {
   "cell_type": "markdown",
   "id": "hourly-electron",
   "metadata": {},
   "source": [
    "Again, using the *debug* option, we can see exactly what fields are set up."
   ]
  },
  {
   "cell_type": "code",
   "execution_count": 14,
   "id": "grave-bolivia",
   "metadata": {},
   "outputs": [
    {
     "data": {
      "text/html": [
       "<span style=\"white-space:pre; font-family: monospace\">┌→────────────────┐┌→────┐┌→┐┌→─────────┐\n",
       "↓Multiples·of·pi:·│↓1×Π·=│↓·│↓·3.1415927│\n",
       "└─────────────────┘│2×Π·=│└─┘│·6.2831853│\n",
       "                   │3×Π·=│   │·9.4247780│\n",
       "                   │4×Π·=│   │12.5663706│\n",
       "                   └─────┘   └──────────┘\n",
       "</span>"
      ]
     },
     "execution_count": 14,
     "metadata": {},
     "output_type": "execute_result"
    }
   ],
   "source": [
    "'d' ∆F 'Multiples of pi: {\"I1,⊂×Π =⊃\" $ 1+⍳4} {\"F10.7\" $ ○1 2 3 4}'"
   ]
  },
  {
   "cell_type": "markdown",
   "id": "formal-friendly",
   "metadata": {},
   "source": [
    "#### Pseudo-builtin Function $$ for a boxed display\n",
    "If we want a __Code__ field to be boxed in the regular output, we can use the pseudo-builtin display function __\\$\\$__. Using __\\$\\$__, no middle dots (·) appear, unless you create them yourself!"
   ]
  },
  {
   "cell_type": "code",
   "execution_count": 15,
   "id": "central-villa",
   "metadata": {},
   "outputs": [
    {
     "data": {
      "text/html": [
       "<span style=\"white-space:pre; font-family: monospace\">Multiples of pi: ┌→────┐ ┌→─────────┐\n",
       "                 ↓1×Π =│ ↓ 3.1415927│\n",
       "                 │2×Π =│ │ 6.2831853│\n",
       "                 │3×Π =│ │ 9.4247780│\n",
       "                 │4×Π =│ │12.5663706│\n",
       "                 └─────┘ └──────────┘\n",
       "</span>"
      ]
     },
     "execution_count": 15,
     "metadata": {},
     "output_type": "execute_result"
    }
   ],
   "source": [
    "∆F 'Multiples of pi: {$$ \"I1,⊂×Π =⊃\" $ 1+⍳4} {$$ \"F10.7\" $ ○1 2 3 4}'"
   ]
  },
  {
   "cell_type": "markdown",
   "id": "mobile-bullet",
   "metadata": {},
   "source": [
    "#### ∆F arguments with `⍹0` ... `⍹99` and `⍹`   (or `⍵0` ... `⍵99` and `⍵_`)\n",
    "∆F supports the use of arguments to __∆F__, including the `∆F` format string itself.  The format string is designated `⍹0`, and each subsequent argument is `⍹1`, `⍹2`, etc. These designations can be used in place of `((0+⎕IO)⊃⍵)`, et cetera, within __Code__ fields:"
   ]
  },
  {
   "cell_type": "code",
   "execution_count": 16,
   "id": "curious-blame",
   "metadata": {},
   "outputs": [
    {
     "data": {
      "text/html": [
       "<span style=\"white-space:pre; font-family: monospace\">3 multiples of pi: 1×Π =  3.1415927\n",
       "                   2×Π =  6.2831853\n",
       "                   3×Π =  9.4247780\n",
       "</span>"
      ]
     },
     "execution_count": 16,
     "metadata": {},
     "output_type": "execute_result"
    },
    {
     "data": {
      "text/html": [
       "<span style=\"white-space:pre; font-family: monospace\">2 multiples of pi: 1×Π =  3.1415927\n",
       "                   2×Π =  6.2831853\n",
       "</span>"
      ]
     },
     "execution_count": 16,
     "metadata": {},
     "output_type": "execute_result"
    }
   ],
   "source": [
    "∆F '{⍹1} multiples of pi: {\"I1,⊂×Π =⊃\" $ 1+⍳⍹1 } {\"F10.7\" $ ○ 1+⍳⍹1}'  3  \n",
    "∆F '{⍹1} multiples of pi: {\"I1,⊂×Π =⊃\" $ 1+⍳⍹1 } {\"F10.7\" $ ○ 1+⍳⍹1}'  2  "
   ]
  },
  {
   "cell_type": "markdown",
   "id": "bound-alloy",
   "metadata": {},
   "source": [
    "The symbol ∆F `⍹` alone will select the **next** argument in sequence (one past the **current** argument, which  is the last one selected directly, e.g. `⍹5`, via `⍹`, or `⍹0` if the first use). This makes it easy to format a set of items: "
   ]
  },
  {
   "cell_type": "code",
   "execution_count": 17,
   "id": "listed-permit",
   "metadata": {},
   "outputs": [
    {
     "data": {
      "text/html": [
       "<span style=\"white-space:pre; font-family: monospace\">Rate:  2.20%; cur. value: £1000.23\n",
       "       3.83%              £2250.19\n",
       "       6.00%              £2500.87\n",
       "</span>"
      ]
     },
     "execution_count": 17,
     "metadata": {},
     "output_type": "execute_result"
    }
   ],
   "source": [
    "∆F 'Rate: {⍹ $ ⍹}; cur. value: {⍹ $ ⍹}' 'F5.2,⊂%⊃' (2.200 3.834 5.996) '⊂£⊃,F7.2' (1000.23, 2250.19 2500.868)"
   ]
  },
  {
   "cell_type": "markdown",
   "id": "critical-phone",
   "metadata": {},
   "source": [
    "Note: You may enter `⍵0`, `⍵1`, etc. as equivalents to `⍹0`, `⍹1`, etc. and `⍵_` for `⍹` alone. Note also that `⍹0` can never be selected via the lone ⍹, since the *last* index specified is never less than 0, so the *next* is never less than 1."
   ]
  },
  {
   "cell_type": "markdown",
   "id": "stunning-basic",
   "metadata": {},
   "source": [
    "#### Justification and Centering with  Pseudo-function `$`\n",
    "The pseudo-function `$` has been extended with 3 special codes for left-justified (Lnn), centered (Cnn), and right-justified (Rnn) output within a **Code** field. This is valid for both numeric and text data.  Only one special code may be used in each `$` call (but you may call $ itself more than once) and that code must be the *first* or *only* code specified. If other (usually numerically-oriented) codes  follow, a comma must intervene (following the style of dyadic `⎕FMT`).\n",
    "\n",
    "Here, we *left-, center-*, and *right-*justify three items in the ∆F arguments: ⍵1, ⍵2, ⍵3:"
   ]
  },
  {
   "cell_type": "code",
   "execution_count": 18,
   "id": "ordered-methodology",
   "metadata": {},
   "outputs": [
    {
     "data": {
      "text/html": [
       "<span style=\"white-space:pre; font-family: monospace\">Surname &lt;Smith     &gt;  First &lt;   Mary   &gt;. Salary &lt;  $2534.23&gt;\n",
       "</span>"
      ]
     },
     "execution_count": 18,
     "metadata": {},
     "output_type": "execute_result"
    }
   ],
   "source": [
    "    ∆F 'Surname <{\"L10\" $ ⍵_}>  First <{\"C10\" $ ⍵_}>. Salary <{\"R10,⊂$⊃,F7.2\" $ ⍵_}>' 'Smith' 'Mary' 2534.23"
   ]
  },
  {
   "cell_type": "code",
   "execution_count": 19,
   "id": "literary-endorsement",
   "metadata": {},
   "outputs": [
    {
     "data": {
      "text/html": [
       "<span style=\"white-space:pre; font-family: monospace\">┌→────────┐┌→─────────┐┌→─────────┐┌→─────────┐┌→──────────┐┌→─────────┐┌→┐\n",
       "↓Surname·&lt;│↓Smith·····│↓&gt;··First·&lt;│↓···Mary···│↓&gt;.·Salary·&lt;│↓··$2534.23│↓&gt;│\n",
       "└─────────┘└──────────┘└──────────┘└──────────┘└───────────┘└──────────┘└─┘\n",
       "</span>"
      ]
     },
     "execution_count": 19,
     "metadata": {},
     "output_type": "execute_result"
    }
   ],
   "source": [
    "'d' ∆F 'Surname <{\"L10\" $ ⍵_}>  First <{\"C10\" $ ⍵_}>. Salary <{\"R10,⊂$⊃,F7.2\" $ ⍵_}>' 'Smith' 'Mary' 2534.23"
   ]
  },
  {
   "cell_type": "markdown",
   "id": "hollow-triangle",
   "metadata": {},
   "source": [
    "### Miscellaneous Options\n",
    "#### Code field namespace ⍺\n",
    "For **Code** fields, ∆F passes a namespace as the left argument (⍺). That namespace contains all the support functions and variables for ∆F. Names beginning with an underscore `_` (e.g. `_`, `__`, `_myVar`, ...) are reserved for the user's use. One potential use is setting state that is maintained across all **Code** fields during the execution of ∆F, without cluttering the calling environment:"
   ]
  },
  {
   "cell_type": "code",
   "execution_count": 20,
   "id": "executed-airline",
   "metadata": {},
   "outputs": [
    {
     "data": {
      "text/html": [
       "<span style=\"white-space:pre; font-family: monospace\">3.141592654 6.283185307\n",
       "</span>"
      ]
     },
     "execution_count": 20,
     "metadata": {},
     "output_type": "execute_result"
    }
   ],
   "source": [
    "∆F '{⍺._PITimes←(○1)∘× ⋄ ⍺._PITimes 1} {⍺._PITimes 2}' "
   ]
  },
  {
   "cell_type": "code",
   "execution_count": 21,
   "id": "personal-spoke",
   "metadata": {},
   "outputs": [
    {
     "data": {
      "text/html": [
       "<span style=\"white-space:pre; font-family: monospace\">3.141592654\n",
       "</span>"
      ]
     },
     "execution_count": 21,
     "metadata": {},
     "output_type": "execute_result"
    },
    {
     "data": {
      "text/html": [
       "<span style=\"white-space:pre; font-family: monospace\">⎕FR still 645? Yes\n",
       "</span>"
      ]
     },
     "execution_count": 21,
     "metadata": {},
     "output_type": "execute_result"
    }
   ],
   "source": [
    "⎕FR←645\n",
    "∆F '{⍺._sav←⎕FR  ⋄ ⎕FR∘←1287  ⋄ (⎕FR∘←⍺._sav)⊢$ ○1 }'\n",
    "'⎕FR still 645? ',(⎕FR=645)⊃'No' 'Yes'"
   ]
  },
  {
   "cell_type": "markdown",
   "id": "reliable-flooring",
   "metadata": {},
   "source": [
    "#### ∆F for assertions.\n",
    "Normally, ∆F returns the formatted text as a single formatted matrix (rank 2).\n",
    "<br>If the left argument (⍺) to ∆F is a homogeneous numeric array, it is viewed as an assertion.\n",
    "  * If the assertion contains _no numeric zeroes_, it is __true__. It **prints** the formatted text, returning a shy _1_. (It does _not_ return the formatted text, as in _format_ mode.)\n",
    "  * If the assertion contains one or more zeroes, it is __false__. It does nothing, returning a shy _0_."
   ]
  },
  {
   "cell_type": "code",
   "execution_count": 22,
   "id": "general-check",
   "metadata": {},
   "outputs": [
    {
     "data": {
      "text/html": [
       "<span style=\"white-space:pre; font-family: monospace\">0\n",
       "</span>"
      ]
     },
     "execution_count": 22,
     "metadata": {},
     "output_type": "execute_result"
    }
   ],
   "source": [
    "⍝ Here, var is in range, so no ∆F string message is produced. 0 is returned.\n",
    "var←100\n",
    "⎕←(var<100) ∆F 'Warning! Variable \"var\" is out of range: var={var}'\n"
   ]
  },
  {
   "cell_type": "code",
   "execution_count": 23,
   "id": "defined-encoding",
   "metadata": {},
   "outputs": [
    {
     "data": {
      "text/html": [
       "<span style=\"white-space:pre; font-family: monospace\">Warning! Variable \"var\" is out of range: var=99\n",
       "1\n",
       "</span>"
      ]
     },
     "execution_count": 23,
     "metadata": {},
     "output_type": "execute_result"
    }
   ],
   "source": [
    "⍝ Now, var is out of range (the assertion is true), so a ∆F string message is printed. 1 is returned.\n",
    "var-←1\n",
    "⎕←(var<100) ∆F 'Warning! Variable \"var\" is out of range: var={var}'"
   ]
  },
  {
   "cell_type": "code",
   "execution_count": null,
   "id": "floating-scale",
   "metadata": {},
   "outputs": [],
   "source": []
  }
 ],
 "metadata": {
  "kernelspec": {
   "display_name": "Dyalog APL",
   "language": "apl",
   "name": "dyalog-kernel"
  },
  "language_info": {
   "file_extension": ".apl",
   "mimetype": "text/apl",
   "name": "APL"
  }
 },
 "nbformat": 4,
 "nbformat_minor": 5
}
