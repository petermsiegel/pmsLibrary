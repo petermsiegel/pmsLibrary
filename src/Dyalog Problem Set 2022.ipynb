{
 "cells": [
  {
   "cell_type": "code",
   "execution_count": 36,
   "id": "a6402f52",
   "metadata": {},
   "outputs": [],
   "source": [
    " ⎕IO←0  ⋄ ⎕PW←110\n",
    " ]←box on"
   ]
  },
  {
   "cell_type": "code",
   "execution_count": 37,
   "id": "df0946ef",
   "metadata": {},
   "outputs": [
    {
     "data": {
      "text/html": [
       "<span style=\"white-space:pre; font-family: monospace\">20 12 17 21\n",
       "</span>"
      ]
     },
     "execution_count": 37,
     "metadata": {},
     "output_type": "execute_result"
    },
    {
     "data": {
      "text/html": [
       "<span style=\"white-space:pre; font-family: monospace\">0 0 0 0\n",
       "</span>"
      ]
     },
     "execution_count": 37,
     "metadata": {},
     "output_type": "execute_result"
    },
    {
     "data": {
      "text/html": [
       "<span style=\"white-space:pre; font-family: monospace\">0 0 1 0\n",
       "</span>"
      ]
     },
     "execution_count": 37,
     "metadata": {},
     "output_type": "execute_result"
    }
   ],
   "source": [
    "⍝ P1_1: Problem Set 1. Problem 1\n",
    " P1_1← (¯1++/⍤(≢⊢))⌸'ACGT'∘,\n",
    " \n",
    " P1_1  'AGCTTTTCATTCTGACTGCAACGGGCAATATGTCTCTGTGTGGATTAAAAAAAGAGTGTCTGATAGCAGC'\n",
    " P1_1 ''\n",
    " P1_1 'G'"
   ]
  },
  {
   "cell_type": "code",
   "execution_count": 38,
   "id": "0a36f4cf",
   "metadata": {},
   "outputs": [
    {
     "data": {
      "text/html": [
       "<span style=\"white-space:pre; font-family: monospace\">7\n",
       "</span>"
      ]
     },
     "execution_count": 38,
     "metadata": {},
     "output_type": "execute_result"
    },
    {
     "data": {
      "text/html": [
       "<span style=\"white-space:pre; font-family: monospace\">1\n",
       "</span>"
      ]
     },
     "execution_count": 38,
     "metadata": {},
     "output_type": "execute_result"
    },
    {
     "data": {
      "text/html": [
       "<span style=\"white-space:pre; font-family: monospace\">0\n",
       "</span>"
      ]
     },
     "execution_count": 38,
     "metadata": {},
     "output_type": "execute_result"
    },
    {
     "data": {
      "text/html": [
       "<span style=\"white-space:pre; font-family: monospace\">0\n",
       "</span>"
      ]
     },
     "execution_count": 38,
     "metadata": {},
     "output_type": "execute_result"
    }
   ],
   "source": [
    "⍝ P1_2: Problem Set 1. Problem 1\n",
    "P1_2← +/≠\n",
    "\n",
    "'GAGCCTACTAACGGGAT'  P1_2 'CATCGTAATGACGGCCT'\n",
    "'A' P1_2 'T'\n",
    "'' P1_2 ''\n",
    "P1_2⍨'CATCGTAATGACGGCCT'"
   ]
  },
  {
   "cell_type": "code",
   "execution_count": 39,
   "id": "b9b212e9",
   "metadata": {},
   "outputs": [
    {
     "data": {
      "text/html": [
       "<span style=\"white-space:pre; font-family: monospace\">DYOGP\n",
       "</span>"
      ]
     },
     "execution_count": 39,
     "metadata": {},
     "output_type": "execute_result"
    },
    {
     "data": {
      "text/html": [
       "<span style=\"white-space:pre; font-family: monospace\">┌─┬─┬─┬─┬─┬─┬───┐\n",
       "│D│Y│A│L│O│G│APL│\n",
       "└─┴─┴─┴─┴─┴─┴───┘\n",
       "</span>"
      ]
     },
     "execution_count": 39,
     "metadata": {},
     "output_type": "execute_result"
    },
    {
     "data": {
      "text/html": [
       "<span style=\"white-space:pre; font-family: monospace\">┌─────┬───────┬───┬───────────────┐\n",
       "│Hello│┌─────┐│0 1│Have a nice day│\n",
       "│     ││World││2 3│               │\n",
       "│     │└─────┘│   │               │\n",
       "└─────┴───────┴───┴───────────────┘\n",
       "</span>"
      ]
     },
     "execution_count": 39,
     "metadata": {},
     "output_type": "execute_result"
    },
    {
     "data": {
      "text/html": [
       "<span style=\"white-space:pre; font-family: monospace\">1 1 1 2 2\n",
       "</span>"
      ]
     },
     "execution_count": 39,
     "metadata": {},
     "output_type": "execute_result"
    }
   ],
   "source": [
    "⍝ P1_3: ...\n",
    "P1_3←(~,~⍨)⍥,\n",
    "\n",
    "'DYALOG' P1_3 'APL'\n",
    "'DYALOG'  P1_3  ⊂'APL'\n",
    "(2 2⍴'Hello'(⊂'World')(2 2⍴⍳4)42) P1_3 42 'Have a nice day'\n",
    "1 1 1 P1_3 2 2"
   ]
  },
  {
   "cell_type": "code",
   "execution_count": 40,
   "id": "eff0a4bb",
   "metadata": {},
   "outputs": [
    {
     "data": {
      "text/html": [
       "<span style=\"white-space:pre; font-family: monospace\">4\n",
       "</span>"
      ]
     },
     "execution_count": 40,
     "metadata": {},
     "output_type": "execute_result"
    },
    {
     "data": {
      "text/html": [
       "<span style=\"white-space:pre; font-family: monospace\">0\n",
       "</span>"
      ]
     },
     "execution_count": 40,
     "metadata": {},
     "output_type": "execute_result"
    },
    {
     "data": {
      "text/html": [
       "<span style=\"white-space:pre; font-family: monospace\">1\n",
       "</span>"
      ]
     },
     "execution_count": 40,
     "metadata": {},
     "output_type": "execute_result"
    },
    {
     "data": {
      "text/html": [
       "<span style=\"white-space:pre; font-family: monospace\">0\n",
       "</span>"
      ]
     },
     "execution_count": 40,
     "metadata": {},
     "output_type": "execute_result"
    },
    {
     "data": {
      "text/html": [
       "<span style=\"white-space:pre; font-family: monospace\">12\n",
       "</span>"
      ]
     },
     "execution_count": 40,
     "metadata": {},
     "output_type": "execute_result"
    }
   ],
   "source": [
    "P1_4← 0⌈⌈/∘(+/¨⊆⍨)∘,\n",
    "\n",
    "P1_4 1 1 1 0 1 1 0 0 1 1 1 1 0\n",
    "P1_4 ⍬\n",
    "P1_4 1\n",
    "P1_4 0\n",
    "P1_4 12/0 1 0 1\n"
   ]
  },
  {
   "cell_type": "code",
   "execution_count": 41,
   "id": "4c9f7af0",
   "metadata": {},
   "outputs": [
    {
     "data": {
      "text/html": [
       "<span style=\"white-space:pre; font-family: monospace\">PI_5 10\n",
       "</span>"
      ]
     },
     "execution_count": 41,
     "metadata": {},
     "output_type": "execute_result"
    },
    {
     "data": {
      "text/html": [
       "<span style=\"white-space:pre; font-family: monospace\">          \n",
       "         ⎕\n",
       "        ⎕⎕\n",
       "       ⎕⎕⎕\n",
       "      ⎕⎕⎕⎕\n",
       "     ⎕⎕⎕⎕⎕\n",
       "    ⎕⎕⎕⎕⎕⎕\n",
       "   ⎕⎕⎕⎕⎕⎕⎕\n",
       "  ⎕⎕⎕⎕⎕⎕⎕⎕\n",
       " ⎕⎕⎕⎕⎕⎕⎕⎕⎕\n",
       "</span>"
      ]
     },
     "execution_count": 41,
     "metadata": {},
     "output_type": "execute_result"
    },
    {
     "data": {
      "text/html": [
       "<span style=\"white-space:pre; font-family: monospace\">PI_5 0\n",
       "</span>"
      ]
     },
     "execution_count": 41,
     "metadata": {},
     "output_type": "execute_result"
    },
    {
     "data": {
      "text/html": [
       "<span style=\"white-space:pre; font-family: monospace\">↑↑↑ Empty\n",
       "</span>"
      ]
     },
     "execution_count": 41,
     "metadata": {},
     "output_type": "execute_result"
    }
   ],
   "source": [
    "PI_5←(' ⎕'⌷⍨⊂)(⊖∘.>⍨)∘(-⍳∘⊢)\n",
    "\n",
    "'PI_5 10'\n",
    "PI_5 10\n",
    "'PI_5 0'\n",
    "PI_5 0\n",
    "⎕←'↑↑↑ Empty'"
   ]
  },
  {
   "cell_type": "code",
   "execution_count": 47,
   "id": "de189bd2",
   "metadata": {},
   "outputs": [
    {
     "data": {
      "text/html": [
       "<span style=\"white-space:pre; font-family: monospace\">1 1 1 1 1\n",
       "1 2 2 2 1\n",
       "1 2 3 2 1\n",
       "1 2 2 2 1\n",
       "1 1 1 1 1\n",
       "</span>"
      ]
     },
     "execution_count": 47,
     "metadata": {},
     "output_type": "execute_result"
    },
    {
     "data": {
      "text/html": [
       "<span style=\"white-space:pre; font-family: monospace\">1 1 1 1 1 1 1 1 1\n",
       "1 2 2 2 2 2 2 2 1\n",
       "1 2 3 3 3 3 3 2 1\n",
       "1 2 3 4 4 4 3 2 1\n",
       "1 2 3 4 5 4 3 2 1\n",
       "1 2 3 4 4 4 3 2 1\n",
       "1 2 3 3 3 3 3 2 1\n",
       "1 2 2 2 2 2 2 2 1\n",
       "1 1 1 1 1 1 1 1 1\n",
       "</span>"
      ]
     },
     "execution_count": 47,
     "metadata": {},
     "output_type": "execute_result"
    },
    {
     "data": {
      "text/html": [
       "<span style=\"white-space:pre; font-family: monospace\">1\n",
       "1 1\n",
       "</span>"
      ]
     },
     "execution_count": 47,
     "metadata": {},
     "output_type": "execute_result"
    },
    {
     "data": {
      "text/html": [
       "<span style=\"white-space:pre; font-family: monospace\">(empty)\n",
       "0 0\n",
       "</span>"
      ]
     },
     "execution_count": 47,
     "metadata": {},
     "output_type": "execute_result"
    }
   ],
   "source": [
    "P1_6←∘.⌊⍨∘(⊢,(1↓⌽))1+⍳\n",
    "P1_6 3\n",
    "P1_6 5\n",
    "P1_6 1    ⋄  ⍴P1_6 1 \n",
    "P1_6 0    ⋄  '(empty)' ⋄  ⍴P1_6 0"
   ]
  },
  {
   "cell_type": "code",
   "execution_count": 43,
   "id": "6144c0fc",
   "metadata": {},
   "outputs": [
    {
     "data": {
      "text/html": [
       "<span style=\"white-space:pre; font-family: monospace\">1 2 3 4 5\n",
       "</span>"
      ]
     },
     "execution_count": 43,
     "metadata": {},
     "output_type": "execute_result"
    },
    {
     "data": {
      "text/html": [
       "<span style=\"white-space:pre; font-family: monospace\">1 2.5 2.5 4\n",
       "</span>"
      ]
     },
     "execution_count": 43,
     "metadata": {},
     "output_type": "execute_result"
    },
    {
     "data": {
      "text/html": [
       "<span style=\"white-space:pre; font-family: monospace\">1 2.5 2.5 4 6 6 6 8 9\n",
       "</span>"
      ]
     },
     "execution_count": 43,
     "metadata": {},
     "output_type": "execute_result"
    },
    {
     "data": {
      "text/html": [
       "<span style=\"white-space:pre; font-family: monospace\">3.5 3.5 3.5 3.5 3.5 3.5\n",
       "</span>"
      ]
     },
     "execution_count": 43,
     "metadata": {},
     "output_type": "execute_result"
    },
    {
     "data": {
      "text/html": [
       "<span style=\"white-space:pre; font-family: monospace\">\n",
       "</span>"
      ]
     },
     "execution_count": 43,
     "metadata": {},
     "output_type": "execute_result"
    },
    {
     "data": {
      "text/html": [
       "<span style=\"white-space:pre; font-family: monospace\">1\n",
       "</span>"
      ]
     },
     "execution_count": 43,
     "metadata": {},
     "output_type": "execute_result"
    }
   ],
   "source": [
    "P1_7←∊(⊂(≢⊢)⍴(+/÷≢)⍤(1∘+⊢))⌸∘,    ⍝  ⎕IO←0\n",
    "P1_7 1 2 3 4 5\n",
    "P1_7 68 71 71 73\n",
    "P1_7 67 68 68 69 70 70 70 71 72\n",
    "P1_7 6⍴70\n",
    "P1_7 ⍬\n",
    "P1_7 67"
   ]
  },
  {
   "cell_type": "code",
   "execution_count": 44,
   "id": "3bc6e40d",
   "metadata": {},
   "outputs": [
    {
     "data": {
      "text/html": [
       "<span style=\"white-space:pre; font-family: monospace\">┌────┬───────┐\n",
       "│Hell│o world│\n",
       "└────┴───────┘\n",
       "</span>"
      ]
     },
     "execution_count": 44,
     "metadata": {},
     "output_type": "execute_result"
    },
    {
     "data": {
      "text/html": [
       "<span style=\"white-space:pre; font-family: monospace\">┌────┬──────────────────────┐\n",
       "│ABCD│EFGHIJKLMNOPQRSTUVWXYZ│\n",
       "└────┴──────────────────────┘\n",
       "</span>"
      ]
     },
     "execution_count": 44,
     "metadata": {},
     "output_type": "execute_result"
    },
    {
     "data": {
      "text/html": [
       "<span style=\"white-space:pre; font-family: monospace\">┌┬──────────────────────────┐\n",
       "││ABCDEFGHIJKLMNOPQRSTUVWXYZ│\n",
       "└┴──────────────────────────┘\n",
       "</span>"
      ]
     },
     "execution_count": 44,
     "metadata": {},
     "output_type": "execute_result"
    },
    {
     "data": {
      "text/html": [
       "<span style=\"white-space:pre; font-family: monospace\">┌──────────────────────────┬┐\n",
       "│ABCDEFGHIJKLMNOPQRSTUVWXYZ││\n",
       "└──────────────────────────┴┘\n",
       "</span>"
      ]
     },
     "execution_count": 44,
     "metadata": {},
     "output_type": "execute_result"
    },
    {
     "data": {
      "text/html": [
       "<span style=\"white-space:pre; font-family: monospace\">┌─┬┐\n",
       "│Q││\n",
       "└─┴┘\n",
       "</span>"
      ]
     },
     "execution_count": 44,
     "metadata": {},
     "output_type": "execute_result"
    },
    {
     "data": {
      "text/html": [
       "<span style=\"white-space:pre; font-family: monospace\">┌┬─┐\n",
       "││Q│\n",
       "└┴─┘\n",
       "</span>"
      ]
     },
     "execution_count": 44,
     "metadata": {},
     "output_type": "execute_result"
    }
   ],
   "source": [
    "P1_8←((⌊/⍳)⍨(↑,⍥⊂↓)⊢)∘,\n",
    "\n",
    "'do' P1_8 'Hello world'  \n",
    "'KEI' P1_8 ⎕A \n",
    "(⌽⎕A) P1_8 ⎕A\n",
    "⎕D P1_8 ⎕A ⍝\n",
    "⎕D P1_8 'Q'\n",
    "⎕A P1_8 'Q'"
   ]
  },
  {
   "cell_type": "code",
   "execution_count": 45,
   "id": "84ac7573",
   "metadata": {},
   "outputs": [
    {
     "data": {
      "text/html": [
       "<span style=\"white-space:pre; font-family: monospace\">1 2 3 4 5 6\n",
       "</span>"
      ]
     },
     "execution_count": 45,
     "metadata": {},
     "output_type": "execute_result"
    },
    {
     "data": {
      "text/html": [
       "<span style=\"white-space:pre; font-family: monospace\">1.33333 2 3 4 5 5.66667\n",
       "</span>"
      ]
     },
     "execution_count": 45,
     "metadata": {},
     "output_type": "execute_result"
    },
    {
     "data": {
      "text/html": [
       "<span style=\"white-space:pre; font-family: monospace\">1.6 2.2 3 4 4.8 5.4\n",
       "</span>"
      ]
     },
     "execution_count": 45,
     "metadata": {},
     "output_type": "execute_result"
    },
    {
     "data": {
      "text/html": [
       "<span style=\"white-space:pre; font-family: monospace\">2.53846 2.92308 3.30769 3.69231 4.07692 4.46154\n",
       "</span>"
      ]
     },
     "execution_count": 45,
     "metadata": {},
     "output_type": "execute_result"
    },
    {
     "data": {
      "text/html": [
       "<span style=\"white-space:pre; font-family: monospace\">42\n",
       "</span>"
      ]
     },
     "execution_count": 45,
     "metadata": {},
     "output_type": "execute_result"
    }
   ],
   "source": [
    "P1_9←{(+/÷≢)¨(1+2×⍺),/((⍺⍴⊃),⊢,(⍺⍴⊃∘⌽)),⍵}  \n",
    "\n",
    "0  P1_9  1 2 3 4 5 6 ⍝ 0 neighbors on each side\n",
    "1  P1_9  1 2 3 4 5 6 ⍝ 1 neighbors on each side\n",
    "2  P1_9  1 2 3 4 5 6 ⍝ 2 neighbors on each side\n",
    "6  P1_9  1 2 3 4 5 6\n",
    "10 P1_9  42\n",
    "⍝    0 (fn) 1 2 3 4 5 6 ⍝\n",
    "⍝ 1 2 3 4 5 6\n",
    "⍝    1 (fn) 1 2 3 4 5 6 ⍝ 1 neighbors on each side\n",
    "⍝ 1.333333333 2 3 4 5 5.666666667\n",
    "⍝    2 (fn) 1 2 3 4 5 6 ⍝ 2 neighbors on each side\n",
    "⍝ 1.6 2.2 3 4 4.8 5.4\n",
    "⍝    6 (fn) 1 2 3 4 5 6\n",
    "⍝ 2.538461538 2.923076923 3.307692308 3.692307692 4.076923077 4.461538462\n",
    "⍝   10 (fn) 42\n",
    "⍝ 42"
   ]
  },
  {
   "cell_type": "code",
   "execution_count": 46,
   "id": "13ffd190",
   "metadata": {},
   "outputs": [
    {
     "data": {
      "text/html": [
       "<span style=\"white-space:pre; font-family: monospace\">┌─┬──┬───┬─────┬──────┬───────┬─────────┬──────────┬───────────┬─────────────┬──────────────┐\n",
       "│1│10│100│1,000│10,000│100,000│1,000,000│10,000,000│100,000,000│1,000,000,000│10,000,000,000│\n",
       "└─┴──┴───┴─────┴──────┴───────┴─────────┴──────────┴───────────┴─────────────┴──────────────┘\n",
       "</span>"
      ]
     },
     "execution_count": 46,
     "metadata": {},
     "output_type": "execute_result"
    },
    {
     "data": {
      "text/html": [
       "<span style=\"white-space:pre; font-family: monospace\">987.654.321.098.765.432.109.876.543.210.987.654.321.098.765.432.109.876.543.210\n",
       "</span>"
      ]
     },
     "execution_count": 46,
     "metadata": {},
     "output_type": "execute_result"
    },
    {
     "data": {
      "text/html": [
       "<span style=\"white-space:pre; font-family: monospace\">Same\n",
       "</span>"
      ]
     },
     "execution_count": 46,
     "metadata": {},
     "output_type": "execute_result"
    },
    {
     "data": {
      "text/html": [
       "<span style=\"white-space:pre; font-family: monospace\">9\n",
       "</span>"
      ]
     },
     "execution_count": 46,
     "metadata": {},
     "output_type": "execute_result"
    },
    {
     "data": {
      "text/html": [
       "<span style=\"white-space:pre; font-family: monospace\">Same\n",
       "</span>"
      ]
     },
     "execution_count": 46,
     "metadata": {},
     "output_type": "execute_result"
    }
   ],
   "source": [
    "P1_10←{⌽¯1↓∊⍺,⍨¨(⊢⊂⍨1 0 0⍴⍨≢)⌽,⍵} \n",
    " \n",
    "LONG_NUM←'987.654.321.098.765.432.109.876.543.210.987.654.321.098.765.432.109.876.543.210'\n",
    "DIF_SAME←'Different' 'Same'\n",
    "\n",
    "',' P1_10¨'1' '10' '100' '1000' '10000' '100000' '1000000' '10000000' '100000000' '1000000000' '10000000000'\n",
    "'.'  P1_10 60⍴⌽⎕D\n",
    "\n",
    "DIF_SAME⊃⍨LONG_NUM≡'.'  P1_10 60⍴⌽⎕D\n",
    "'/' P1_10 ,'9' \n",
    "DIF_SAME⊃⍨('/' P1_10 ,'9') ≡ ('/' P1_10 '9') "
   ]
  },
  {
   "cell_type": "code",
   "execution_count": null,
   "id": "84468e12",
   "metadata": {},
   "outputs": [],
   "source": []
  },
  {
   "cell_type": "code",
   "execution_count": null,
   "id": "3601b2ee",
   "metadata": {},
   "outputs": [],
   "source": []
  }
 ],
 "metadata": {
  "kernelspec": {
   "display_name": "Dyalog APL",
   "language": "apl",
   "name": "dyalog-kernel"
  },
  "language_info": {
   "file_extension": ".apl",
   "mimetype": "text/apl",
   "name": "APL"
  }
 },
 "nbformat": 4,
 "nbformat_minor": 5
}
