{
 "cells": [
  {
   "cell_type": "markdown",
   "id": "4e519e31",
   "metadata": {},
   "source": [
    "# Radix Sort\n",
    "### Python\n",
    "```Python\n",
    "# Python program for implementation of Radix Sort\n",
    "# A function to do counting sort of arr[] according to\n",
    "# the digit represented by exp.\n",
    " \n",
    "def countingSort(arr, exp1):\n",
    " \n",
    "    n = len(arr)\n",
    " \n",
    "    # The output array elements that will have sorted arr\n",
    "    output = [0] * (n)\n",
    " \n",
    "    # initialize count array as 0\n",
    "    count = [0] * (10)\n",
    " \n",
    "    # Store count of occurrences in count[]\n",
    "    for i in range(0, n):\n",
    "        index = arr[i] // exp1\n",
    "        count[index % 10] += 1\n",
    " \n",
    "    # Change count[i] so that count[i] now contains actual\n",
    "    # position of this digit in output array\n",
    "    for i in range(1, 10):\n",
    "        count[i] += count[i - 1]\n",
    " \n",
    "    # Build the output array\n",
    "    i = n - 1\n",
    "    while i >= 0:\n",
    "        index = arr[i] // exp1\n",
    "        output[count[index % 10] - 1] = arr[i]\n",
    "        count[index % 10] -= 1\n",
    "        i -= 1\n",
    " \n",
    "    # Copying the output array to arr[],\n",
    "    # so that arr now contains sorted numbers\n",
    "    i = 0\n",
    "    for i in range(0, len(arr)):\n",
    "        arr[i] = output[i]\n",
    " \n",
    "# Method to do Radix Sort\n",
    "def radixSort(arr):\n",
    " \n",
    "    # Find the maximum number to know number of digits\n",
    "    max1 = max(arr)\n",
    " \n",
    "    # Do counting sort for every digit. Note that instead\n",
    "    # of passing digit number, exp is passed. exp is 10^i\n",
    "    # where i is current digit number\n",
    "    exp = 1\n",
    "    while max1 / exp > 1:\n",
    "        countingSort(arr, exp)\n",
    "        exp *= 10\n",
    " \n",
    " \n",
    "# Driver code\n",
    "arr = [170, 45, 75, 90, 802, 24, 2, 66]\n",
    " \n",
    "# Function Call\n",
    "radixSort(arr)\n",
    " \n",
    "for i in range(len(arr)):\n",
    "    print(arr[i])\n",
    " \n",
    "# This code is contributed by Mohit Kumra\n",
    "# Edited by Patrick Gallagher\n",
    "```"
   ]
  },
  {
   "cell_type": "markdown",
   "id": "2943da90",
   "metadata": {},
   "source": [
    "### APL Preliminaries"
   ]
  },
  {
   "cell_type": "code",
   "execution_count": 1,
   "id": "1b8ff2fb",
   "metadata": {},
   "outputs": [],
   "source": [
    "⎕IO ⎕ML←0 1"
   ]
  },
  {
   "cell_type": "markdown",
   "id": "69c24c95",
   "metadata": {},
   "source": [
    "### APL Counting Sort"
   ]
  },
  {
   "cell_type": "code",
   "execution_count": null,
   "id": "2598981d",
   "metadata": {},
   "outputs": [],
   "source": [
    "⍝ output ← arr CountingSort exp\n",
    "⍝          arr: array to sort; exp: the current exponent: 1, 10, 100, ... \n",
    "⍝ Returns the sorted array (per the current exponent)\n",
    "CountingSort←{ \n",
    "    ARR EXP←⍺ ⍵\n",
    "    N← ≢ARR\n",
    "    out← N⍴0\n",
    "    count← 10⍴0\n",
    "  ⍝ Store count of occurrences in count and make count cumulative\n",
    "    Accum←{ \n",
    "        ⍺←0  ⋄ item← ⍵ \n",
    "        item ≥ N: count  \n",
    "        index← ARR[item] ⌊⍤÷ EXP\n",
    "        count[ 10|index ]+← 1\n",
    "        ⊢ ∇ item+1 \n",
    "    } \n",
    "    count← +\\ Accum 0\n",
    "  ⍝ Build and return <out>, the output array\n",
    "    Rebuild← {  \n",
    "     i←⍵   ⋄ i<0: out\n",
    "     index←  ARR[i] ⌊⍤÷ EXP\n",
    "     out[ count[ 10|index ] - 1]← ARR[i]\n",
    "     count[ 10|index]-← 1\n",
    "     ⊢ ∇ i-1\n",
    "    }\n",
    "    Rebuild N-1\n",
    "}"
   ]
  },
  {
   "cell_type": "markdown",
   "id": "c81fc787",
   "metadata": {},
   "source": [
    "### APL Radix Sort"
   ]
  },
  {
   "cell_type": "code",
   "execution_count": null,
   "id": "b7885587",
   "metadata": {},
   "outputs": [],
   "source": [
    "⍝  arr← RadixSort arr\n",
    "⍝       arr: a vector of non-negative integers\n",
    "⍝  Returns: the fully sorted array\n",
    "RadixSort← { \n",
    "    arr← ⍵\n",
    "    max ← ⌈/ arr\n",
    "    arr { ⍝ Returns <arr>\n",
    "      arr exp←⍺ ⍵\n",
    "      max ≤ exp: arr\n",
    "      arr← arr CountingSort exp\n",
    "      arr ∇ exp × 10\n",
    "    } 1\n",
    "}"
   ]
  },
  {
   "cell_type": "code",
   "execution_count": null,
   "id": "a3ab0a7f",
   "metadata": {},
   "outputs": [],
   "source": [
    "a←?1000⍴1000"
   ]
  }
 ],
 "metadata": {
  "kernelspec": {
   "display_name": "Dyalog APL",
   "language": "apl",
   "name": "dyalog-kernel"
  },
  "language_info": {
   "file_extension": ".apl",
   "mimetype": "text/apl",
   "name": "APL"
  },
  "widgets": {
   "application/vnd.jupyter.widget-state+json": {
    "state": {},
    "version_major": 2,
    "version_minor": 0
   }
  }
 },
 "nbformat": 4,
 "nbformat_minor": 5
}
