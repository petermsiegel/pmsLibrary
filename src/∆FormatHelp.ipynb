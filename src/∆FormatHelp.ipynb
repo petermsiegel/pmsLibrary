{
 "cells": [
  {
   "cell_type": "markdown",
   "id": "technical-posting",
   "metadata": {},
   "source": [
    "# ∆F Strings for Formatting\n",
    "\n",
    "## Description\n",
    "\n",
    "\n",
    "<div class=\"alert alert-block alert-info\">\n",
    "    <font color=\"purple\"><b>∆F</b></font> is a <font color=\"red\"><b><i>prototype</i></b></font> for a convenient formatting utility for Dyalog APL.  Expanding on ideas from other languages, such as Python's <i>f-strings</i>, <font color=\"purple\"><b>∆F</b></font> displays multiline text, objects of various types, ranks and depth,arbitrary code, and integrated custom formatting, with an <font color=\"dark-red\"><b><i>APL</i></b></font> flair.<br>\n",
    "    <font color=\"purple\"><b>∆F</b></font> is designed to be useful for assertions (which display values only when boolean conditions are met), debugging, and routine display, expanding on existing capabilities of <b>⎕FMT</b> and other APL tools.\n",
    "</div>"
   ]
  },
  {
   "cell_type": "markdown",
   "id": "numerical-glossary",
   "metadata": {},
   "source": [
    "# Table of Contents\n",
    "* [Getting Started](#Getting-Started)\n",
    "* [∆F Fields: Text, Code, and Space Fields](#∆F-Fields) \n",
    "  * [Text Fields](#Text-Fields)\n",
    "      * Newlines and Escape Sequences: `\\⋄` and `\\{`  `\\}`  `\\`\n",
    "  * [Code Fields: Basics](#Code-Fields:-Basics)\n",
    "      * Simple Variables: `{var1} {var2}`\n",
    "      * Debug Mode:  `'debug' ∆FMT ...`\n",
    "      * Code Fields Are DFNS: `{ c+x×b+x×a }`\n",
    "        * Performing arbitrary calculations: `{¯1+2*31}`\n",
    "      * Comments in Code Fields `{n*0.5 ⍝ sqrt(n)}`\n",
    "      * [Strings in Code Fields Require Double Quotes](#DQ-Strings-Required-in-Code-Fields)\n",
    "        * `{↑\"line1\" \"line2\"}`\n",
    "        * Escapes in DQ Strings: `{\"line1\\⋄line2\"}`\n",
    "  * [Space Fields](#Space-Fields)\n",
    "      * Basic Space Fields: `{   }` and `{}`\n",
    "      * Comments in Space Fields: `{   ⍝ 3 spaces }`\n",
    "      * Examples\n",
    "      * Why Space Fields\n",
    "      * Explicit Width Counts `{ :30: }` and `{ :30: ⍝ 30 spaces }`\n",
    "  * [Code Fields: Advanced Topics](#Code-Fields:-Advanced-Topics)\n",
    "      * [Pseudobuiltin &#36; for Detailed formatting](#Pseudobuiltin-\\$-for-Detailed-Formatting)\n",
    "      * [Pseudobuiltin &#36;&#36; for a Boxed Display](#Pseudobuiltin-\\$\\$-for-a-Boxed-Display) \n",
    "      * [Shortcuts for Accessing Elements of ∆F Right-Argument ⍵](#Shortcuts-for-Accessing-Elements-of-⍵)\n",
    "        * ⍹0, ⍹1, ..., and ⍹ (and aliases ⍵0, ⍵1, ..., and ⍵_).\n",
    "      * [Justification and Centering with &#36;](#Justification-and-Centering-with-\\$)\n",
    "        * Specifiers `L`, `C`, `R`; `l`, `c`, `r`\n",
    "      * [Self-Documenting Code Fields](#Self-Documenting-Code-Fields) \n",
    "        * `{code → }`\n",
    "        * With comments: `{code ... ⍝ comment ⋄ → }` \n",
    "      * [Pseudobuiltin &#36;&#36;&#36; for Adding Quotes or Decorators](#Pseudobuiltin-$$$-for-Adding-Quotes-or-Decorators)\n",
    "      * [Pseudobuiltin % for Formatting Dates and Times](#Pseudobuiltin-%-for-Formatting-Dates-and-Times)\n",
    "      * [Code Fields: Private Namespace ⍺](#Code-Fields:-Private-Namespace-⍺)\n",
    "* [∆F and Looping](#∆F-and-Looping)\n",
    "* [Assertions with ∆F](#Assertions-with-∆F)\n",
    "* [∆F Syntax Summary](#∆F-Syntax-Summary)\n",
    "***\n",
    "\n",
    "## Getting Started\n",
    "Let's get started!  \n",
    "\n"
   ]
  },
  {
   "cell_type": "markdown",
   "id": "709b0bd9",
   "metadata": {},
   "source": [
    "Let's be sure the file __∆Format.dyalog__ is accessible and loaded. When fixed, it creates a single function `∆F`. And let's be sure the environment is set up. ***We'll assume an Index Origin of 0 (`⎕IO←0`) for this session.***"
   ]
  },
  {
   "cell_type": "code",
   "execution_count": 91,
   "id": "normal-stream",
   "metadata": {
    "scrolled": true
   },
   "outputs": [
    {
     "data": {
      "text/html": [
       "<span style=\"white-space:pre; font-family: monospace\">1. Does ∆Format.dyalog exist in this directory? Yes\n",
       "</span>"
      ]
     },
     "execution_count": 91,
     "metadata": {},
     "output_type": "execute_result"
    },
    {
     "data": {
      "text/html": [
       "<span style=\"white-space:pre; font-family: monospace\">2. Loading ∆Format.dyalog as: ∆Format \n",
       "</span>"
      ]
     },
     "execution_count": 91,
     "metadata": {},
     "output_type": "execute_result"
    },
    {
     "data": {
      "text/html": [
       "<span style=\"white-space:pre; font-family: monospace\">3. ∆F utility now exists!\n",
       "</span>"
      ]
     },
     "execution_count": 91,
     "metadata": {},
     "output_type": "execute_result"
    }
   ],
   "source": [
    "⍝ ⎕←  '0. Our active directory is ',⎕SH 'pwd'\n",
    " '1. Does ∆Format.dyalog exist in this directory? ', 'No' 'Yes'⊃⍨ ⎕NEXISTS '∆Format.dyalog' \n",
    " '2. Loading ∆Format.dyalog as:',(2 ⎕FIX 'file://∆Format.dyalog')\n",
    " '3. ','∆F utility now exists!' 'Whoops! No ∆F function.' ⊃⍨3≠⎕NC '∆F'\n",
    "\n",
    "⍝ Set the usual system vars to something reasonable...\n",
    "  ⎕IO← 0 ⋄ ⎕ML← 1 ⋄ ⎕PP← 6 ⋄ ⎕FR← 645"
   ]
  },
  {
   "cell_type": "markdown",
   "id": "scenic-settlement",
   "metadata": {},
   "source": [
    "Before showing how ∆F works, let's create a couple of variables...<BR>\n",
    "Here are the vectors `string` and `numbers`:"
   ]
  },
  {
   "cell_type": "code",
   "execution_count": 92,
   "id": "statistical-albert",
   "metadata": {},
   "outputs": [],
   "source": [
    "string  ← 'This is a string'\n",
    "numbers ← 10 20"
   ]
  },
  {
   "cell_type": "markdown",
   "id": "strong-entrepreneur",
   "metadata": {},
   "source": [
    "We will display them using ∆F."
   ]
  },
  {
   "cell_type": "code",
   "execution_count": 93,
   "id": "patient-michael",
   "metadata": {},
   "outputs": [
    {
     "data": {
      "text/html": [
       "<span style=\"white-space:pre; font-family: monospace\">My string = \"This is a string\".  My numbers = 10 20.\n",
       "</span>"
      ]
     },
     "execution_count": 93,
     "metadata": {},
     "output_type": "execute_result"
    }
   ],
   "source": [
    "∆F 'My string = \"{string}\".  My numbers = {numbers}.'"
   ]
  },
  {
   "cell_type": "markdown",
   "id": "mediterranean-publication",
   "metadata": {},
   "source": [
    "We can do this more concisely using **Self-documenting Code Fields** (thanks to Python), signaled by the trailing right arrow *before* the closing curly brace: `{code → }`. Spaces adjacent to the arrow are optional, but may make the formatted output more readable. **Self-documenting Code Fields** are discussed further below. \n",
    "_(Note: The symbol `➤` is a special right arrow that separates the literal code from its value.)_"
   ]
  },
  {
   "cell_type": "code",
   "execution_count": 94,
   "id": "listed-commitment",
   "metadata": {},
   "outputs": [
    {
     "data": {
      "text/html": [
       "<span style=\"white-space:pre; font-family: monospace\">string ➤ This is a string.  numbers ➤ 10 20\n",
       "</span>"
      ]
     },
     "execution_count": 94,
     "metadata": {},
     "output_type": "execute_result"
    }
   ],
   "source": [
    "∆F '{string → }.  {numbers → }'"
   ]
  },
  {
   "cell_type": "markdown",
   "id": "figured-designation",
   "metadata": {},
   "source": [
    "But, let's start at the __beginning__!\n",
    "\n",
    "## ∆F Fields\n",
    "Text Fields, Code Fields, and Space Fields\n",
    "### Text Fields\n",
    "`'A simple string'`\n",
    "\n",
    "The simplest possible format string-- we'll call it an __∆F__ string-- consists of a simple __Text__ field."
   ]
  },
  {
   "cell_type": "code",
   "execution_count": 95,
   "id": "august-application",
   "metadata": {
    "scrolled": true
   },
   "outputs": [
    {
     "data": {
      "text/html": [
       "<span style=\"white-space:pre; font-family: monospace\">This is a simple string.\n",
       "</span>"
      ]
     },
     "execution_count": 95,
     "metadata": {},
     "output_type": "execute_result"
    }
   ],
   "source": [
    "∆F 'This is a simple string.'"
   ]
  },
  {
   "cell_type": "markdown",
   "id": "4b3775c1",
   "metadata": {},
   "source": [
    "#### Text Fields are 2D\n",
    "Like `⎕FMT`-formatted objects, text fields are always 2-dimensional (matrices)."
   ]
  },
  {
   "cell_type": "code",
   "execution_count": 96,
   "id": "86104ffc",
   "metadata": {},
   "outputs": [
    {
     "data": {
      "text/html": [
       "<span style=\"white-space:pre; font-family: monospace\">1 24\n",
       "</span>"
      ]
     },
     "execution_count": 96,
     "metadata": {},
     "output_type": "execute_result"
    }
   ],
   "source": [
    "⍴∆F 'This is a simple string.'"
   ]
  },
  {
   "cell_type": "markdown",
   "id": "welsh-perth",
   "metadata": {},
   "source": [
    "#### Text Fields are 2D: Newlines and Escapes\n",
    "__Text__ fields can consist of one or more lines, each separated by the special newline escape sequence `\\⋄`. Using __Text__ fields this way is just one way to create a 2D list of items or a multiline paragraph. ∆F always returns a character matrix of 0 or more rows."
   ]
  },
  {
   "cell_type": "code",
   "execution_count": 97,
   "id": "further-iceland",
   "metadata": {},
   "outputs": [
    {
     "data": {
      "text/html": [
       "<span style=\"white-space:pre; font-family: monospace\">This             \n",
       "is a             \n",
       "multiline string.\n",
       "</span>"
      ]
     },
     "execution_count": 97,
     "metadata": {},
     "output_type": "execute_result"
    }
   ],
   "source": [
    "∆F 'This\\⋄is a\\⋄multiline string.'"
   ]
  },
  {
   "cell_type": "markdown",
   "id": "unauthorized-hampton",
   "metadata": {},
   "source": [
    "You can insert most any Unicode character into a __Text__ field. Only four characters (with special meaning _described below_) require special treatment: \n",
    "\n",
    "`⋄`, `{`, `}`, _and_ `\\`.  \n",
    "   \n",
    "A diamond `⋄` _not_ preceded by a backslash `\\` has no special meaning; only the escaped sequence `\\⋄` denotes a newline.  You'll see below that a bare `{` begins a __Code__ field, which is terminated by a balancing bare `}`. So, if you want to enter a left brace literal, escape it with \\\\, as here.\n",
    " \n"
   ]
  },
  {
   "cell_type": "code",
   "execution_count": 98,
   "id": "96a1fd54",
   "metadata": {},
   "outputs": [
    {
     "data": {
      "text/html": [
       "<span style=\"white-space:pre; font-family: monospace\">This is a diamond ⋄, an opening brace {, a closing brace }, and a backslash \\.\n",
       "</span>"
      ]
     },
     "execution_count": 98,
     "metadata": {},
     "output_type": "execute_result"
    }
   ],
   "source": [
    "∆F 'This is a diamond ⋄, an opening brace \\{, a closing brace \\}, and a backslash \\\\.' "
   ]
  },
  {
   "cell_type": "markdown",
   "id": "0b27ca53",
   "metadata": {},
   "source": [
    "Finally, literal backslashes only need to be escaped themselves (i.e. as `\\\\`) when right before a `⋄`, `{`, `}`, or another backslash `\\`. In other cases, such as `+\\⍳` no extra backslash is required."
   ]
  },
  {
   "cell_type": "code",
   "execution_count": 99,
   "id": "straight-twist",
   "metadata": {},
   "outputs": [
    {
     "data": {
      "text/html": [
       "<span style=\"white-space:pre; font-family: monospace\">\"We can sum the numbers ⍵ via +\\⍵\"\n",
       "</span>"
      ]
     },
     "execution_count": 99,
     "metadata": {},
     "output_type": "execute_result"
    },
    {
     "data": {
      "text/html": [
       "<span style=\"white-space:pre; font-family: monospace\">\"We can sum the numbers ⍵ via +\\⍵\"\n",
       "</span>"
      ]
     },
     "execution_count": 99,
     "metadata": {},
     "output_type": "execute_result"
    }
   ],
   "source": [
    "∆F '\"We can sum the numbers ⍵ via +\\⍵\"'\n",
    "∆F '\"We can sum the numbers ⍵ via +\\\\⍵\"'"
   ]
  },
  {
   "cell_type": "markdown",
   "id": "distant-audit",
   "metadata": {},
   "source": [
    "### Code Fields: Basics \n",
    "#### Code Fields: Simple Variables `'{lastName}, {firstName}'`\n",
    "Let's create a more useful example of ∆F strings using the following three variables. "
   ]
  },
  {
   "cell_type": "code",
   "execution_count": 100,
   "id": "inside-examination",
   "metadata": {},
   "outputs": [],
   "source": [
    "what←  'This'\n",
    "type←  'simple'\n",
    "thing← 'string'"
   ]
  },
  {
   "cell_type": "markdown",
   "id": "consistent-ordering",
   "metadata": {},
   "source": [
    "Within separate sets of curly braces `{..}`, which delimit a __Code__ field, we include the three variable names: `what`, `type`, and `thing`. We'll say more about __Code__ fields in a moment."
   ]
  },
  {
   "cell_type": "code",
   "execution_count": 101,
   "id": "restricted-exception",
   "metadata": {},
   "outputs": [
    {
     "data": {
      "text/html": [
       "<span style=\"white-space:pre; font-family: monospace\">This is a simple string.\n",
       "</span>"
      ]
     },
     "execution_count": 101,
     "metadata": {},
     "output_type": "execute_result"
    }
   ],
   "source": [
    "∆F '{what} is a {type} {thing}.'"
   ]
  },
  {
   "cell_type": "markdown",
   "id": "opponent-frequency",
   "metadata": {},
   "source": [
    "#### Knowing Your Fields\n",
    "This ∆F string consists of six fields: \n",
    "\n",
    "1. a __Code__ Field `{what}`, which returns the value of the variable `what`; \n",
    "2. a __Text__ Field `\" is a \"`;\n",
    "3. another __Code__ Field `{type}`, returning the value of the variable `type`;\n",
    "4. a short __Text__ Field `\" \"`; \n",
    "5. a __Code__ Field `{thing}`, referencing `thing`; and finally,\n",
    "6. a final __Text__ Field `\".\"`.\n",
    "\n",
    "#### Debug Mode: `'debug' ∆F ...`\n",
    "We can show each of the fields more graphically using the _debug_ option (abbreviated _d_), which places each field in a separate display box and marks each space in each field by a middle dot `·`."
   ]
  },
  {
   "cell_type": "code",
   "execution_count": 102,
   "id": "proud-tomorrow",
   "metadata": {},
   "outputs": [
    {
     "data": {
      "text/html": [
       "<span style=\"white-space:pre; font-family: monospace\">┌────┐┌──────┐┌──────┐┌─┐┌──────┐┌─┐\n",
       "│This││·is·a·││simple││·││string││.│\n",
       "└────┘└──────┘└──────┘└─┘└──────┘└─┘\n",
       "</span>"
      ]
     },
     "execution_count": 102,
     "metadata": {},
     "output_type": "execute_result"
    }
   ],
   "source": [
    "'d' ∆F '{what} is a {type} {thing}.'"
   ]
  },
  {
   "cell_type": "markdown",
   "id": "blind-singing",
   "metadata": {},
   "source": [
    "#### Code Fields Are DFNS: `∆F '{⍪⍳3} {↑\"Name\" \"Addr\" \"Phone\"}'`\n",
    "As shown above, in addition to __Text__ fields, we can create executable __Code__ fields, using braces {...}. A __Code__ field with bare variable names is the simplest type of __Code__ field.\n",
    "\n",
    "__Code__ fields can be generalized as dfns evaluated in the active (caller's) namespace. While each __Code__ field is executed via ordinary APL rules (statements left-to-right and right-to-left within statements), __Code__ fields within a **∆F** format string are themselves executed left-to-right: \n",
    "\n",
    "- the left-most Code field is executed first, then the one to its right, and so on.\n",
    "     \n",
    "Each **Code** field has implicit arguments `⍵` and `⍺`:\n",
    "\n",
    "- ⍵ consists of all the arguments to the full **∆F**. These can be accessed individually \n",
    "via ⍹0, ⍹1, etc (see below).\n",
    "- ⍺ is a reference to a special namespace for sharing\n",
    "temporary variables across **Code** fields (see below).\n",
    "     \n",
    "Each __Code__ field _must_ return a value (perhaps a null string). \n",
    "\n",
    "#### Code Field Comments: `{... ⍝...}`\n",
    "\n",
    "A Code field may include one or more comments. Each comment starts with a lamp `⍝` and contain no braces or ⋄; it terminates just before a following diamond `⋄` or a closing brace `}`. \n",
    "\n",
    "For example:"
   ]
  },
  {
   "cell_type": "code",
   "execution_count": 103,
   "id": "green-insurance",
   "metadata": {},
   "outputs": [
    {
     "data": {
      "text/html": [
       "<span style=\"white-space:pre; font-family: monospace\">0.156232\n",
       "</span>"
      ]
     },
     "execution_count": 103,
     "metadata": {},
     "output_type": "execute_result"
    }
   ],
   "source": [
    "∆F '{ ?0  ⍝ A random number ⍵: 0<⍵<1 }'"
   ]
  },
  {
   "cell_type": "markdown",
   "id": "environmental-prince",
   "metadata": {},
   "source": [
    "#### Code Fields Are DFNS: More Complex Examples\n",
    "Let's look at more complex examples. First, what if a variable itself is more than a simple one-line text string? Unlike format strings in other languages, __`∆F`__ __strings__ handle multi-dimensional objects the _APL way_!"
   ]
  },
  {
   "cell_type": "code",
   "execution_count": 104,
   "id": "rocky-hygiene",
   "metadata": {},
   "outputs": [
    {
     "data": {
      "text/html": [
       "<span style=\"white-space:pre; font-family: monospace\">0 This            is a simple    string     \n",
       "1 That                 hard      matrix     \n",
       "2 The other thing      confusing thingamabob\n",
       "</span>"
      ]
     },
     "execution_count": 104,
     "metadata": {},
     "output_type": "execute_result"
    }
   ],
   "source": [
    "nums←  ⍪⍳3\n",
    "what←  ↑'This' 'That' 'The other thing'  \n",
    "type←  ↑'simple' 'hard' 'confusing'\n",
    "thing← ↑'string' 'matrix' 'thingamabob'\n",
    "∆F '{nums} {what} is a {type} {thing}'"
   ]
  },
  {
   "cell_type": "markdown",
   "id": "corresponding-specialist",
   "metadata": {},
   "source": [
    "Here, `num` is a column vector of integers, and `what`, `type` and `thing` are character matrices. Any object that can be formatted via Dyalog `⎕FMT` can be returned from a __Code__ field."
   ]
  },
  {
   "cell_type": "markdown",
   "id": "fatal-bangkok",
   "metadata": {},
   "source": [
    "Now for a more complex example: you can place arbitrary APL code within the braces `{...}` of a __Code__ field. \n",
    "\n",
    "In the example below, we'll remove the ↑ prefix from the values of each of the three variables above. Notice how we insert a period after each word of the variable `thing` and create a quoted string using double quotes: `{ ↑thing,¨\".\" }` Such a string is called a __DQ String__ and appears only within __Code__ fields. (We'll say more about __DQ Strings__ in a moment.)"
   ]
  },
  {
   "cell_type": "code",
   "execution_count": 105,
   "id": "creative-novelty",
   "metadata": {},
   "outputs": [
    {
     "data": {
      "text/html": [
       "<span style=\"white-space:pre; font-family: monospace\">0  This            is a simple    string.     \n",
       "1  That                 hard      matrix.     \n",
       "2  The other thing      confusing thingamabob.\n",
       "</span>"
      ]
     },
     "execution_count": 105,
     "metadata": {},
     "output_type": "execute_result"
    }
   ],
   "source": [
    "what←'This' 'That' 'The other thing'\n",
    "type←'simple' 'hard' 'confusing'\n",
    "thing←'string' 'matrix' 'thingamabob'\n",
    "∆F '{ ⍪⍳≢what }  { ↑what } is a { ↑type } { ↑thing,¨\".\" }'     "
   ]
  },
  {
   "cell_type": "markdown",
   "id": "090fab3f",
   "metadata": {},
   "source": [
    "#### Code Fields Support Arbitrary Calculations\n",
    "\n",
    "As you have already seen, `∆F` **Code** fields can be used for arbitrary calculations:"
   ]
  },
  {
   "cell_type": "code",
   "execution_count": 106,
   "id": "0ce6ddde",
   "metadata": {},
   "outputs": [
    {
     "data": {
      "text/html": [
       "<span style=\"white-space:pre; font-family: monospace\">If the radius is 1m, the circumference is  6.28319m, and the area is  3.14159m².\n",
       "                 2                        12.5664                    12.5664    \n",
       "                 5                        31.4159                    78.5398    \n",
       "</span>"
      ]
     },
     "execution_count": 106,
     "metadata": {},
     "output_type": "execute_result"
    }
   ],
   "source": [
    "r←1 2 5    ⍝ radius  \n",
    "script←'If the radius is { ⍪r }m, the circumference is { ⍪○2×r }m, and the area is { ⍪○r*2 }m².'\n",
    "∆F script "
   ]
  },
  {
   "cell_type": "markdown",
   "id": "55bd4b49",
   "metadata": {},
   "source": [
    "As indicated above, **Code** fields are executed sequentially from left to right as independent dfns:"
   ]
  },
  {
   "cell_type": "code",
   "execution_count": 107,
   "id": "2d301cd3",
   "metadata": {},
   "outputs": [
    {
     "data": {
      "text/html": [
       "<span style=\"white-space:pre; font-family: monospace\">ctr is 1, now 2, now 3, now 4\n",
       "</span>"
      ]
     },
     "execution_count": 107,
     "metadata": {},
     "output_type": "execute_result"
    }
   ],
   "source": [
    "ctr←1\n",
    "∆F 'ctr is {ctr}, now {ctr⊣ctr+←1 }, now {ctr⊣ctr+←1 }, now {ctr⊣ctr+←1 }'"
   ]
  },
  {
   "cell_type": "markdown",
   "id": "further-workplace",
   "metadata": {},
   "source": [
    "### DQ Strings Required in Code Fields\n",
    "\n",
    "#### DQ Strings:  Use `\"Double Quotes\"` _not_ `'Single Quotes'`\n",
    "Within __Code__ fields, strings *require* double quotes (`\"`). These __DQ strings__ `\"like this one\"` are used wherever single-quoted strings `'like this'` would be used in standard APL; single-quoted strings are ***not*** used in `∆F` __strings__. Single quotes *may* appear, most usually as literal characters, rather than to create strings.\n",
    "\n",
    "#### DQ Strings: Escapes, including  `\\⋄`... \n",
    "__DQ Strings__ support the escaped sequences `\\⋄` and `\\\\`. `\\⋄` is a convenient way to enter newlines (actually ⎕UCS 13, the carriage return character) into linear strings (APL character vectors). When the `∆F` _string_ is printed, newlines will create separate _rows_ in the output matrix. <br>(Note: Unlike __Text__ fields, __DQ Strings__ in __Code__ fields do not require or allow braces to be escaped: braces are ordinary characters inside __DQ Strings__.)\n",
    "\n",
    "To include an actual double quote within a __DQ String__, double the doublequote (`\"\"`), just as one would for _single_ quotes in standard APL strings. (As always, APL of course requires single quotes within character strings to be doubled on entry). Notice how the string below is a 3-row matrix, one row for each line of the __DQ String__."
   ]
  },
  {
   "cell_type": "code",
   "execution_count": 108,
   "id": "acknowledged-texas",
   "metadata": {},
   "outputs": [
    {
     "data": {
      "text/html": [
       "<span style=\"white-space:pre; font-family: monospace\">This              \n",
       "is a \"DQ\" example,\n",
       "isn't it?         \n",
       "# rows: 3\n",
       "</span>"
      ]
     },
     "execution_count": 108,
     "metadata": {},
     "output_type": "execute_result"
    }
   ],
   "source": [
    "⍝                     Row 1  Row 2                 Row 3...\n",
    "  '# rows:', ≢⎕← ∆F '{\"This \\⋄is a \"\"DQ\"\" example,\\⋄isn''t it?\"}'"
   ]
  },
  {
   "cell_type": "markdown",
   "id": "elegant-deployment",
   "metadata": {},
   "source": [
    "### Space Fields\n",
    "#### `{  }`\n",
    "The third and last field type is a **Space** field, which looks just like an *empty* <b>Code</b> Field, containing only zero or more spaces between the braces `{` `}` and, optionally, a comment. A **Space** field forms a distinct field and is a good way to separate other sorts of fields, i.e. __Text__ or __Code__ fields.\n",
    "#### Space Field Comments: `{  ⍝...}`\n",
    "A **Space** field may include a comment, which starts with a lamp `⍝` and contains ***no*** braces; the comment ends just before the right brace `}` that terminates the **Space** field.\n",
    " \n",
    " For example:"
   ]
  },
  {
   "cell_type": "code",
   "execution_count": 109,
   "id": "initial-correlation",
   "metadata": {},
   "outputs": [
    {
     "data": {
      "text/html": [
       "<span style=\"white-space:pre; font-family: monospace\">1     3.14159\n",
       "2     6.28319\n",
       "3     9.42478\n",
       "</span>"
      ]
     },
     "execution_count": 109,
     "metadata": {},
     "output_type": "execute_result"
    },
    {
     "data": {
      "text/html": [
       "<span style=\"white-space:pre; font-family: monospace\">┌─┐┌─────┐┌───────┐\n",
       "│1││·····││3.14159│\n",
       "│2│└─────┘│6.28319│\n",
       "│3│       │9.42478│\n",
       "└─┘       └───────┘\n",
       "</span>"
      ]
     },
     "execution_count": 109,
     "metadata": {},
     "output_type": "execute_result"
    }
   ],
   "source": [
    "⍝ Show Space Field comments...                           \n",
    "    ∆F '{⍪1 2 3}{     ⍝ 5 spaces }{⍪○1 2 3}'     \n",
    "'d' ∆F '{⍪1 2 3}{     ⍝ 5 spaces }{⍪○1 2 3}' "
   ]
  },
  {
   "cell_type": "markdown",
   "id": "d0e84358",
   "metadata": {},
   "source": [
    "#### Space Field Examples"
   ]
  },
  {
   "cell_type": "code",
   "execution_count": 110,
   "id": "dietary-sunset",
   "metadata": {},
   "outputs": [
    {
     "data": {
      "text/html": [
       "<span style=\"white-space:pre; font-family: monospace\">This is a test.\n",
       "</span>"
      ]
     },
     "execution_count": 110,
     "metadata": {},
     "output_type": "execute_result"
    },
    {
     "data": {
      "text/html": [
       "<span style=\"white-space:pre; font-family: monospace\">┌───────┐┌─┐┌───────┐\n",
       "│This·is││·││a·test.│\n",
       "└───────┘└─┘└───────┘\n",
       "</span>"
      ]
     },
     "execution_count": 110,
     "metadata": {},
     "output_type": "execute_result"
    }
   ],
   "source": [
    "⍝ ...\n",
    "    ∆F 'This is{ }a test.'\n",
    "'d' ∆F 'This is{ }a test.'"
   ]
  },
  {
   "cell_type": "markdown",
   "id": "greek-danger",
   "metadata": {},
   "source": [
    "#### Why Space Fields?\n",
    "But why bother with space fields at all? \n",
    "- They are useful when separating one multiline strings or code field from the next; even a zero-width space field can separate two __Text__ fields;  \n",
    "- They ensure the expected amount of spacing when preceded or followed by text fields with lines of varying length.\n",
    "\n",
    "Here's an example of two multiline __Text__ field separated by a __Space__ field with a single space: { }."
   ]
  },
  {
   "cell_type": "code",
   "execution_count": 111,
   "id": "outer-atlanta",
   "metadata": {},
   "outputs": [
    {
     "data": {
      "text/html": [
       "<span style=\"white-space:pre; font-family: monospace\">This      This    \n",
       "is a      is      \n",
       "multiline as well!\n",
       "field!            \n",
       "</span>"
      ]
     },
     "execution_count": 111,
     "metadata": {},
     "output_type": "execute_result"
    },
    {
     "data": {
      "text/html": [
       "<span style=\"white-space:pre; font-family: monospace\">┌─────────┐┌─┐┌────────┐\n",
       "│This·····││·││This····│\n",
       "│is·a·····│└─┘│is······│\n",
       "│multiline│   │as·well!│\n",
       "│field!···│   └────────┘\n",
       "└─────────┘             \n",
       "</span>"
      ]
     },
     "execution_count": 111,
     "metadata": {},
     "output_type": "execute_result"
    }
   ],
   "source": [
    "⍝ ...\n",
    "    ∆F 'This\\⋄is a\\⋄multiline\\⋄field!{ ⍝ 1 Space}{\"This\\⋄is\\⋄as well!\"}'\n",
    "'d' ∆F 'This\\⋄is a\\⋄multiline\\⋄field!{ ⍝ 1 Space}{\"This\\⋄is\\⋄as well!\"}'"
   ]
  },
  {
   "cell_type": "markdown",
   "id": "oriented-bristol",
   "metadata": {},
   "source": [
    "In this next example, we use a zero-width __Space__ field simply to allow us to create two independent __Text__ fields:"
   ]
  },
  {
   "cell_type": "code",
   "execution_count": 112,
   "id": "german-trout",
   "metadata": {},
   "outputs": [
    {
     "data": {
      "text/html": [
       "<span style=\"white-space:pre; font-family: monospace\">1. Jane \n",
       "2. John \n",
       "3. Nancy\n",
       "</span>"
      ]
     },
     "execution_count": 112,
     "metadata": {},
     "output_type": "execute_result"
    }
   ],
   "source": [
    "∆F '1. \\⋄2.\\⋄3.{}Jane\\⋄John\\⋄Nancy'   "
   ]
  },
  {
   "cell_type": "markdown",
   "id": "professional-latter",
   "metadata": {},
   "source": [
    "This is equivalent, with an explicit Space field of length 1.\n",
    "```   \n",
    " ∆F '1.\\⋄2.\\⋄3.{ }Jane\\⋄John\\⋄Nancy'\n",
    "```\n",
    "#### Space Fields with explicit width counts:  `{  :30: }`\n",
    "Sometimes it's a bit inconvenient to count out a field width or to specify a wide **Space Field**. If so, rather than typing the actual spaces, simply enter inside the braces the desired number of spaces ***as an integer*** between two colons (possibly followed by a comment). The colons are  there to avoid confusion with **dfn** syntax. Each explicit width count must between ***0 and 999***.\n",
    "\n",
    "Here we separate each **Code Field** by exactly five spaces, encoded *slightly* differently:"
   ]
  },
  {
   "cell_type": "code",
   "execution_count": 113,
   "id": "78e165c2",
   "metadata": {},
   "outputs": [
    {
     "data": {
      "text/html": [
       "<span style=\"white-space:pre; font-family: monospace\">1     3.14159     2.71828      8.53973\n",
       "2     6.28319     7.38906     46.4268 \n",
       "</span>"
      ]
     },
     "execution_count": 113,
     "metadata": {},
     "output_type": "execute_result"
    },
    {
     "data": {
      "text/html": [
       "<span style=\"white-space:pre; font-family: monospace\">┌─┐┌─────┐┌───────┐┌─────┐┌───────┐┌─────┐┌────────┐\n",
       "│1││·····││3.14159││·····││2.71828││·····││·8.53973│\n",
       "│2│└─────┘│6.28319│└─────┘│7.38906│└─────┘│46.4268·│\n",
       "└─┘       └───────┘       └───────┘       └────────┘\n",
       "</span>"
      ]
     },
     "execution_count": 113,
     "metadata": {},
     "output_type": "execute_result"
    }
   ],
   "source": [
    "⍝ ...         12345        Five         Still Five Spaces\n",
    "    ∆F '{⍪1 2}     {⍪○1 2}{ :5: }{⍪*1 2}{:5:⍝Five spaces}{⍪(○1 2)×*1 2}'  \n",
    "'d' ∆F '{⍪1 2}     {⍪○1 2}{ :5: }{⍪*1 2}{:5:⍝Five spaces}{⍪(○1 2)×*1 2}'"
   ]
  },
  {
   "cell_type": "markdown",
   "id": "d29de2a8",
   "metadata": {},
   "source": [
    "### Code Fields: Advanced Topics\n",
    "### Pseudobuiltin `$` for Detailed Formatting\n",
    "Dyalog APL has a built-in formatting utility `⎕FMT`, which may be old-fashioned but is rather essential for precise formatting of numerical data (and sometimes text data). To make `⎕FMT` and its standard parameters easier to use, we provide it as the pseudo-builtin `$`, with extensions described below. Here's a typical example, where the (optional) formatted left argument (⍺) is placed within a DQ string (as required with `∆F` **Code** Fields):"
   ]
  },
  {
   "cell_type": "code",
   "execution_count": 114,
   "id": "agricultural-short",
   "metadata": {},
   "outputs": [
    {
     "data": {
      "text/html": [
       "<span style=\"white-space:pre; font-family: monospace\">0.121620  25/12/2021\n",
       "0.943754            \n",
       "0.851188            \n",
       "</span>"
      ]
     },
     "execution_count": 114,
     "metadata": {},
     "output_type": "execute_result"
    }
   ],
   "source": [
    "∆F '{ \"F8.6\" $ ?3⍴0  ⍝ Random Floats }  {\"ZI2,⊂/⊃,ZI2,⊂/⊃,ZI4\" $ ⍉⍪⎕TS[2 1 0] ⍝ a European Style Date}'"
   ]
  },
  {
   "cell_type": "markdown",
   "id": "unlimited-sport",
   "metadata": {},
   "source": [
    "Keep in mind that `$`, like `⎕FMT`, treats simple vectors as column vectors (1-column matrices) ***by default***. (**∆F** has a way to override this default: see below.)\n",
    "\n",
    "Let's move on to another example with `⎕FMT` features you may have forgotten."
   ]
  },
  {
   "cell_type": "code",
   "execution_count": 115,
   "id": "aware-infrastructure",
   "metadata": {},
   "outputs": [
    {
     "data": {
      "text/html": [
       "<span style=\"white-space:pre; font-family: monospace\">Multiples of pi: 1×π =  3.1415927…\n",
       "                 2×π =  6.2831853…\n",
       "                 3×π =  9.4247780…\n",
       "                 4×π = 12.5663706…\n",
       "</span>"
      ]
     },
     "execution_count": 115,
     "metadata": {},
     "output_type": "execute_result"
    }
   ],
   "source": [
    "∆F 'Multiples of pi: {\"I1,⊂×π =⊃\" $ 1+⍳4} {\"F10.7,⊂…⊃\" $ ○1 2 3 4}'"
   ]
  },
  {
   "cell_type": "markdown",
   "id": "hourly-electron",
   "metadata": {},
   "source": [
    "Again, using the *debug* option, we can see exactly what fields are set up."
   ]
  },
  {
   "cell_type": "code",
   "execution_count": 116,
   "id": "grave-bolivia",
   "metadata": {},
   "outputs": [
    {
     "data": {
      "text/html": [
       "<span style=\"white-space:pre; font-family: monospace\">┌─────────────────┐┌─────┐┌─┐┌──────────┐\n",
       "│Multiples·of·pi:·││1×π·=││·││·3.1415927│\n",
       "└─────────────────┘│2×π·=│└─┘│·6.2831853│\n",
       "                   │3×π·=│   │·9.4247780│\n",
       "                   │4×π·=│   │12.5663706│\n",
       "                   └─────┘   └──────────┘\n",
       "</span>"
      ]
     },
     "execution_count": 116,
     "metadata": {},
     "output_type": "execute_result"
    }
   ],
   "source": [
    "'d' ∆F 'Multiples of pi: {\"I1,⊂×π =⊃\" $ 1+⍳4} {\"F10.7\" $ ○1 2 3 4}'"
   ]
  },
  {
   "cell_type": "markdown",
   "id": "formal-friendly",
   "metadata": {},
   "source": [
    "### Pseudobuiltin \\$$ for a Boxed Display\n",
    "If we want a __Code__ field to be boxed in the regular output, we can use the pseudo-builtin function __\\$\\$__. By default (no left argument or a left-argument of 0), no middle dots (·) appear with \\$\\$. If you want middle dots to appear in place of spaces, you must provide a left argument of 1."
   ]
  },
  {
   "cell_type": "code",
   "execution_count": 117,
   "id": "central-villa",
   "metadata": {},
   "outputs": [
    {
     "data": {
      "text/html": [
       "<span style=\"white-space:pre; font-family: monospace\"> Default (Spaces)         With Middle Dots \n",
       "  ┌───────────┐            ┌───────────┐   \n",
       "  │Nina       │            │Nina·······│   \n",
       "  │Pinta      │            │Pinta······│   \n",
       "  │Santa Maria│            │Santa·Maria│   \n",
       "  └───────────┘            └───────────┘   \n",
       "</span>"
      ]
     },
     "execution_count": 117,
     "metadata": {},
     "output_type": "execute_result"
    }
   ],
   "source": [
    "OVER←  (⍪,⍥⊂)                                        ⍝ A Helper Function\n",
    "boats← (↑'Nina' 'Pinta' 'Santa Maria')  \n",
    "\n",
    "title← ∆F 'Default (Spaces) { :7: } With Middle Dots'\n",
    "bfmt←  ∆F ' { $$ ⍵1} {:10:} { 1 $$ ⍵1 }' boats       ⍝ Hold on! We explain ⍵1 just below.\n",
    "title OVER bfmt"
   ]
  },
  {
   "cell_type": "markdown",
   "id": "mobile-bullet",
   "metadata": {},
   "source": [
    "### Shortcuts for Accessing Elements of ⍵\n",
    "#### ∆F Names `⍹0` ... `⍹99` and `⍹`   (or `⍵0` ... `⍵99` and `⍵_`)\n",
    "__∆F__ allows __Code__ fields to access elements in its right argument, including the format string itself. Elements here refer to **top level scalar objects** in the right argument `⍵` to __∆F__, normalized to a nested form `⊆⍵`, ordered scalar by scalar (in ⎕IO=0) as (0⊃⍵) (1⊃⍵) (2⊃⍵) ... (N⊃⍵):\n",
    "\n",
    "- The format string itself `(0⊃⍵)` is abbreviated as `⍹0`, `(1⊃⍵)` as `⍹1`, ..., (N⊃⍵) as `⍹N`.\n",
    "- If a Code field refers to an element that does not exist, a runtime `INDEX ERROR` signal is generated as expected:\n",
    "```\n",
    "      ∆F '{⍹2}' 1 \n",
    "   ∆F INDEX ERROR: ⍹2 is out of range.\n",
    "```\n",
    "- The character `⍹` (omega underscore) is `⎕UCS 9081`. \n",
    "- If `⍹` is not handy, there are alternatives using a simple omega `⍵`: \n",
    "  - for omega underscore with numeric suffixes, use: \n",
    "    - `⍵0` for `⍹0`, `⍵10` for `⍹10`, etc.\n",
    "  - for bare omega underscore (next element-- see below), use: \n",
    "    - `⍵_` for `⍹`. That's a ⍵ followed by an underscore _.\n",
    "    \n",
    "Here is an example accessing `⍹1`, shorthand for `(1⊃⍵)`."
   ]
  },
  {
   "cell_type": "code",
   "execution_count": 118,
   "id": "curious-blame",
   "metadata": {},
   "outputs": [
    {
     "data": {
      "text/html": [
       "<span style=\"white-space:pre; font-family: monospace\">3 multiples of pi: 1×π =  3.1415927\n",
       "                   2×π =  6.2831853\n",
       "                   3×π =  9.4247780\n",
       "</span>"
      ]
     },
     "execution_count": 118,
     "metadata": {},
     "output_type": "execute_result"
    },
    {
     "data": {
      "text/html": [
       "<span style=\"white-space:pre; font-family: monospace\">2 multiples of pi: 1×π =  3.1415927\n",
       "                   2×π =  6.2831853\n",
       "</span>"
      ]
     },
     "execution_count": 118,
     "metadata": {},
     "output_type": "execute_result"
    }
   ],
   "source": [
    "∆F '{⍹1} multiples of pi: {\"I1,⊂×π =⊃\" $ 1+⍳⍹1 } {\"F10.7\" $ ○ 1+⍳⍹1}'  3  \n",
    "∆F '{⍹1} multiples of pi: {\"I1,⊂×π =⊃\" $ 1+⍳⍹1 } {\"F10.7\" $ ○ 1+⍳⍹1}'  2  "
   ]
  },
  {
   "cell_type": "markdown",
   "id": "bound-alloy",
   "metadata": {},
   "source": [
    "The symbol `⍹` used alone in a __Code__ field will select the _next_ argument in sequence:\n",
    "\n",
    "- ⍹ means ⍹1 if this is the first use in any Code field of either an explicit ⍹N or bare ⍹, else \n",
    "- ⍹ means ⍹N+1 if ⍹N was the most recently accessed: \n",
    "    - For example, ⍹ references ⍹5 if ⍹4 was the most recently accessed, explicitly or implicitly. \n",
    "        \n",
    "This makes it easy to format a set of items: "
   ]
  },
  {
   "cell_type": "code",
   "execution_count": 119,
   "id": "listed-permit",
   "metadata": {},
   "outputs": [
    {
     "data": {
      "text/html": [
       "<span style=\"white-space:pre; font-family: monospace\">Rate: 2.20%; cur. value: £1000.23\n",
       "      3.83%              £2250.19\n",
       "      6.00%              £2500.87\n",
       "</span>"
      ]
     },
     "execution_count": 119,
     "metadata": {},
     "output_type": "execute_result"
    }
   ],
   "source": [
    "w1F← 'F4.2,⊂%⊃'\n",
    "w2D← 2.200 3.834 5.996\n",
    "w3F← '⊂£⊃,F7.2'\n",
    "w4D← 1000.23, 2250.19 2500.868\n",
    "⍝          ⍵1  ⍵2               ⍵3  ⍵4   ⍵1   ⍵2   ⍵3    ⍵4\n",
    "∆F 'Rate: {⍹ $ ⍹}; cur. value: {⍹ $ ⍹}'  w1F  w2D  w3F   w4D "
   ]
  },
  {
   "cell_type": "markdown",
   "id": "critical-phone",
   "metadata": {},
   "source": [
    "Note also that `⍹0` (the format string itself) can never be selected via the lone `⍹` (as the _next_ ⍵ argument), since the *last* index specified is never less than 0, so the *next* is never less than 1. In short, if you want `⍹0`, you type it explicitly!"
   ]
  },
  {
   "cell_type": "markdown",
   "id": "stunning-basic",
   "metadata": {},
   "source": [
    "### Justification and Centering with \\$\n",
    "\n",
    "#### Pseudo-builtin `$`: Justification and Centering Codes  _L_, _C_, _R_ <br>Vector Arg treated as Column Vector  \n",
    "The pseudo-function `$` has been extended with special codes for justifying or centering objects within a __Code__ field. (Codes _l_, _c_, _r_— are discussed further below.)"
   ]
  },
  {
   "cell_type": "markdown",
   "id": "0c0b9661",
   "metadata": {},
   "source": [
    "<table align=\"left\">\n",
    "    <caption><center>Codes <i>L, C, R</i></center></caption>\n",
    "<thead>\n",
    "    <tr><th>Justif.<br>Type</th><th>Col Vec<br>Preferred</th><th>Row Vec<br>Preferred</th></tr>\n",
    "</thead>\n",
    "<tbody>\n",
    "    <tr><td>left</td><td><b>L</b><i>nnn</i></td><td><b>l</b><i>nnn</i></td></tr>\n",
    "    <tr><td>center</td><td><b>C</b><i>nnn</i></td><td><b>c</b><i>nnn</i></td></tr>\n",
    "    <tr><td>right</td><td><b>R</b><i>nnn</i></td><td><b>r</b><i>nnn</i></td></tr>\n",
    "</tbody>\n",
    "</table>"
   ]
  },
  {
   "cell_type": "markdown",
   "id": "20d40c6c",
   "metadata": {},
   "source": [
    "The digits `nnn`, a 1- to 3-digit number, indicates the minimum width of the field. If a field is already wider than `nnn` characters, the field is left as is.\n",
    "These codes are valid with either *numeric* or *text* arguments.  Only one special code may be used in each `$` call, but you may call `$` itself more than once) and that code must be the *first* or *only* code specified. If other (usually numerically-oriented) codes  follow, a comma must intervene (following the conventions of dyadic `⎕FMT`).\n",
    "\n",
    "Here, we *left-, center-*, and *right-* justify the variable `names` using ∆F justification/centering codes."
   ]
  },
  {
   "cell_type": "code",
   "execution_count": 120,
   "id": "ordered-methodology",
   "metadata": {},
   "outputs": [
    {
     "data": {
      "text/html": [
       "<span style=\"white-space:pre; font-family: monospace\">&lt;John      &gt; &lt;   John   &gt; &lt;      John&gt;\n",
       " Mary            Mary            Mary \n",
       "</span>"
      ]
     },
     "execution_count": 120,
     "metadata": {},
     "output_type": "execute_result"
    },
    {
     "data": {
      "text/html": [
       "<span style=\"white-space:pre; font-family: monospace\">┌─┐┌──────────┐┌───┐┌──────────┐┌───┐┌──────────┐┌─┐\n",
       "│&lt;││John······││&gt;·&lt;││···John···││&gt;·&lt;││······John││&gt;│\n",
       "└─┘│Mary······│└───┘│···Mary···│└───┘│······Mary│└─┘\n",
       "   └──────────┘     └──────────┘     └──────────┘   \n",
       "</span>"
      ]
     },
     "execution_count": 120,
     "metadata": {},
     "output_type": "execute_result"
    }
   ],
   "source": [
    "names←↑'John' 'Mary'\n",
    "     ∆F '<{\"L10\" $ ⍵1}> <{\"C10\" $ ⍵1}> <{\"R10\" $ ⍵1}>' names  \n",
    "'d'  ∆F '<{\"L10\" $ ⍵1}> <{\"C10\" $ ⍵1}> <{\"R10\" $ ⍵1}>' names  "
   ]
  },
  {
   "cell_type": "markdown",
   "id": "4d0e9584",
   "metadata": {},
   "source": [
    "Here, we format a couple of numeric fields, one centered automatically via $ code `C25` and the other manually via a _standard_ __⎕FMT__ code `X6`, which adds explicit spacing to build the same field width. Both do the job:"
   ]
  },
  {
   "cell_type": "code",
   "execution_count": 121,
   "id": "literary-endorsement",
   "metadata": {},
   "outputs": [
    {
     "data": {
      "text/html": [
       "<span style=\"white-space:pre; font-family: monospace\">     Use ∆F Extension C25             Use ⎕FMT X6: 6+13+6=25    \n",
       "        25 chars wide                     25 chars wide         \n",
       " ┌─────────────────────────┐ versus ┌─────────────────────────┐ \n",
       " │······006.283185307······│        │······006.283185307······│ \n",
       " │······062.831853072······│        │······062.831853072······│ \n",
       " │······942.477796077······│        │······942.477796077······│ \n",
       " └─────────────────────────┘        └─────────────────────────┘ \n",
       "</span>"
      ]
     },
     "execution_count": 121,
     "metadata": {},
     "output_type": "execute_result"
    }
   ],
   "source": [
    "title← ∆F '{    }Use ∆F Extension C25\\⋄   25 chars wide{ :13: }Use ⎕FMT X6: 6+13+6=25\\⋄    25 chars wide'\n",
    "centr← ∆F '{1$$ \"C25,ZF13.9\" $ ⍵1 } versus {1$$ \"X6,ZF13.9,X6\" $ ⍵1 }' (○2 20 300)\n",
    "title OVER centr"
   ]
  },
  {
   "cell_type": "markdown",
   "id": "handled-hamburg",
   "metadata": {},
   "source": [
    "Note also the use of the explicit digits in the **Space** field `{  :13:  }` to insert a significant set of spaces to separate the titles.\n",
    "\n",
    "#### Pseudo-builtin `$`: Justification and Centering Codes _l_, _c_, _r_  <br>Vector arg treated as _Row_ Vector\n",
    "Like standard ⎕FMT, `$` _by default_ considers simple vectors in the code field as column vectors (as in the example above). This is true even for the extensions `L`, `C`, and `R`. However, you can override this, by specifying justification codes in lower case (`nnn` is a 1- to 3-digit number):"
   ]
  },
  {
   "cell_type": "markdown",
   "id": "181ebe06",
   "metadata": {},
   "source": [
    "<table align=\"left\">\n",
    "     <caption><center>Codes <i>l, c, r</i></center></caption>\n",
    "<thead>\n",
    "    <tr><th>Justif.<br>Type</th><th>Col Vec<br>Preferred</th><th>Row Vec<br>Preferred</th></tr>\n",
    "</thead>\n",
    "<tbody>\n",
    "    <tr><td>left</td><td><b>L</b><i>nnn</i></td><td><b>l</b><i>nnn</i></td></tr>\n",
    "    <tr><td>center</td><td><b>C</b><i>nnn</i></td><td><b>c</b><i>nnn</i></td></tr>\n",
    "    <tr><td>right</td><td><b>R</b><i>nnn</i></td><td><b>r</b><i>nnn</i></td></tr>\n",
    "</tbody>\n",
    "</table>"
   ]
  },
  {
   "cell_type": "markdown",
   "id": "ea6a8592",
   "metadata": {},
   "source": [
    "If these are used, simple vectors in the code field used as arguments to `$` are treated as 1-row matrices instead. \n",
    "- Right arguments that are not simple or are not a numeric or character vector are not impacted.\n",
    "\n",
    "Here, `\"c0\"` (or `\"l0\"` or `\"r0\"`) formatting with `$` ensures a simple vector right argument (numeric or character) is treated as a 1-row matrix. Similarly, `\"C0\"` (or `\"L0\"` or `\"R0\"`) formatting with `$` ensures a simple vector right argument (numeric or character) is treated as a column vector, even if no standard ⎕FMT codes are used. \n",
    "- The codes `\"c0\"`, `\"C0\"`, _et cetera_ do the job because justification and centering codes ensure a __minimum__ width, never truncating fields over that width. "
   ]
  },
  {
   "cell_type": "code",
   "execution_count": 122,
   "id": "lined-probability",
   "metadata": {},
   "outputs": [
    {
     "data": {
      "text/html": [
       "<span style=\"white-space:pre; font-family: monospace\">For n∊1 2 3, nπ = 3.14159 6.28319 9.42478.   1π =  3.14159\n",
       "                                             2π =  6.28319\n",
       "                                             3π =  9.42478\n",
       "</span>"
      ]
     },
     "execution_count": 122,
     "metadata": {},
     "output_type": "execute_result"
    }
   ],
   "source": [
    "∆F 'For n∊1 2 3, nπ = { \"c0\" $ ○ ⍵1 }.   {\"I1,⊂π = ⊃\" $ ⍵1} { \"C0\" $ ○⍵1 }' (1 2 3)"
   ]
  },
  {
   "cell_type": "markdown",
   "id": "d6b18fc2",
   "metadata": {},
   "source": [
    "### Self-Documenting Code Fields \n",
    "\n",
    "#### `{ Code → }`\n",
    "\n",
    "As mentioned earlier, a **Code** Field can be made **self-documenting** by inserting a right arrow `→` just before the closing right brace.  In more detail, the entire code of the **Code** Field, including the right arrow *and* the spaces _before_ and _after_ it, will be included in the formatted output, followed by the executed code. For clarity,, the APL right arrow `→` is replaced by a special right arrow `➤ `. "
   ]
  },
  {
   "cell_type": "code",
   "execution_count": 123,
   "id": "089b2e00",
   "metadata": {},
   "outputs": [
    {
     "data": {
      "text/html": [
       "<span style=\"white-space:pre; font-family: monospace\">&lt;MyString ➤ This  &gt;  &lt; 3↑Today ➤ 2021&gt;.  &lt;\"I4\" $ 3↑Today  ➤  2021&gt;\n",
       "            is my                  12                          12 \n",
       "            string                 25                          25 \n",
       "</span>"
      ]
     },
     "execution_count": 123,
     "metadata": {},
     "output_type": "execute_result"
    }
   ],
   "source": [
    "MyString← ↑'This' 'is my' 'string'\n",
    "Today←  ⍪⎕TS \n",
    "∆F '<{MyString → }>  <{ 3↑Today → }>.  <{\"I4\" $ 3↑Today  →  }>'"
   ]
  },
  {
   "cell_type": "markdown",
   "id": "d682fe72",
   "metadata": {},
   "source": [
    "<font color='red'>**Warning:**</font> **Jupyter Notebook** seems to improperly format some APL output, including output from self-documenting **Code** fields. This does not occur in a Dyalog APL **Ride** session.\n",
    "\n",
    "##### Comments in Self-Documenting Code Fields\n",
    "\n",
    "Comments are allowed in **Self-documenting Code Fields**, but must be terminated by a diamond `⋄`; the final right arrow appears just before the right brace that closes the **Code** Field. For example:  "
   ]
  },
  {
   "cell_type": "code",
   "execution_count": 124,
   "id": "12a91e56",
   "metadata": {},
   "outputs": [
    {
     "data": {
      "text/html": [
       "<span style=\"white-space:pre; font-family: monospace\">  ⎕AV ⍳\"aeiou\" ⍝ Find the \"vowels\" in ⎕AV ⋄  ➤ 17 21 25 31 37  \n",
       "</span>"
      ]
     },
     "execution_count": 124,
     "metadata": {},
     "output_type": "execute_result"
    }
   ],
   "source": [
    "∆F ' { ⎕AV ⍳\"aeiou\" ⍝ Find the \"vowels\" in ⎕AV ⋄  → }  '"
   ]
  },
  {
   "cell_type": "markdown",
   "id": "2245fb0c",
   "metadata": {},
   "source": [
    "### Pseudobuiltin `$$$` for Adding Quotes or Decorators\n"
   ]
  },
  {
   "cell_type": "code",
   "execution_count": 125,
   "id": "fleet-hypothetical",
   "metadata": {},
   "outputs": [
    {
     "data": {
      "text/html": [
       "<span style=\"white-space:pre; font-family: monospace\">  \"0\"       «0»       «0»\n",
       "\"100\"     «100»     «100»\n",
       "\"200\"     «200»     «200»\n",
       "</span>"
      ]
     },
     "execution_count": 125,
     "metadata": {},
     "output_type": "execute_result"
    }
   ],
   "source": [
    "guillemets← '«»'             ⍝ guillemets: French-style quotes!\n",
    "gUnicode←   171 187          ⍝ Unicode for «»\n",
    "∆F '{$$$ ⍵1 ⍝ Default qts}     {guillemets $$$ ⍵1}     {gUnicode $$$ $ ⍵1}' (⍪100×⍳3)"
   ]
  },
  {
   "cell_type": "code",
   "execution_count": 126,
   "id": "4a3a2398",
   "metadata": {},
   "outputs": [
    {
     "data": {
      "text/html": [
       "<span style=\"white-space:pre; font-family: monospace\">cats              \"cats\"              \"cats  \"\n",
       "  rats              \"rats\"            \"  rats\"\n",
       "dogs              \"dogs\"              \"dogs  \"\n",
       "</span>"
      ]
     },
     "execution_count": 126,
     "metadata": {},
     "output_type": "execute_result"
    }
   ],
   "source": [
    "animals←↑'cats' '  rats'  'dogs  '        ⍝ Note arbitrary blanks within each row of animals\n",
    "∆F '{animals  } {:10:} { $$$ animals  } {:10:} { \"\"\"\",animals,\"\"\"\"}'"
   ]
  },
  {
   "cell_type": "markdown",
   "id": "ac6f21da",
   "metadata": {},
   "source": [
    "Here's a clever use of `$$$`.\n",
    "\n",
    "Unlike `\"I2\"` (a **⎕FMT** specification), `$$$` automatically adjusts to the width of the numbers being formatted. (**⎕FMT** will insert asterisks (***), if the field width is insufficient."
   ]
  },
  {
   "cell_type": "code",
   "execution_count": 127,
   "id": "f7dee4a1",
   "metadata": {},
   "outputs": [
    {
     "data": {
      "text/html": [
       "<span style=\"white-space:pre; font-family: monospace\">  98.  98.   98.  \n",
       "  99.  99.   99.  \n",
       " 100.  **.  100.  \n",
       "</span>"
      ]
     },
     "execution_count": 127,
     "metadata": {},
     "output_type": "execute_result"
    }
   ],
   "source": [
    "∆F '{ \" .\" $$$ ⍪⍵1}  { \"I2,⊂.⊃\" $ ⍵1}  { \"I3,⊂.⊃\" $ ⍵1}  ' (98 99 100)"
   ]
  },
  {
   "cell_type": "markdown",
   "id": "2d20e0d2",
   "metadata": {},
   "source": [
    "### Pseudobuiltin % for Formatting Dates and Times\n",
    "\n",
    "As Dyalog defines it, a *datetime* is a date and time of day represented by a timestamp, a date number, or a \"military\" timezone character. Dyalog APL provides two very expansive datetime functions, `⎕DT` and `(1200⌶)`, to manipulate datetimes. The `∆F` pseudofunction `%` uses these functions _behind the scenes_ to provide a simple way to format one or more APL date-time specifications:\n",
    "\n",
    "- APL **Timestamps** \n",
    "   - e.g. `⊂⎕TS` which might produce **2021 06 02 14 52 05 443**, \n",
    "\n",
    "- Dyalog **Date Numbers** \n",
    "   - e.g. `1 ⎕DT ⊂⎕TS` which (at the same time as above) would produce the Dyalog Date Number **44348.61951**,\n",
    "\n",
    "- **Timezone Characters**\n",
    "   - e.g. `\"J\"`, which refers to the local timezone, or `\"Z\"` which refers to Coordinated Universal Time (UTC or Greenwich Mean Time).\n",
    "\n",
    "For the specific datetime character codes for the left argument of `%`, see`(1200⌶)`.\n",
    "\n",
    "Here are a few simple examples of how `%` is used.\n",
    "\n",
    "#### Using scalar Timestamps and Date Numbers"
   ]
  },
  {
   "cell_type": "code",
   "execution_count": 136,
   "id": "8ea9db8c",
   "metadata": {},
   "outputs": [
    {
     "data": {
      "text/html": [
       "<span style=\"white-space:pre; font-family: monospace\">d1:  44348.6\n",
       "</span>"
      ]
     },
     "execution_count": 136,
     "metadata": {},
     "output_type": "execute_result"
    },
    {
     "data": {
      "text/html": [
       "<span style=\"white-space:pre; font-family: monospace\">Let's meet at 2:52 PM on the  2nd of Jun 2021.\n",
       "</span>"
      ]
     },
     "execution_count": 136,
     "metadata": {},
     "output_type": "execute_result"
    },
    {
     "data": {
      "text/html": [
       "<span style=\"white-space:pre; font-family: monospace\">Let's meet at 2:52 PM on the  2nd of Jun 2021.\n",
       "</span>"
      ]
     },
     "execution_count": 136,
     "metadata": {},
     "output_type": "execute_result"
    },
    {
     "data": {
      "text/html": [
       "<span style=\"white-space:pre; font-family: monospace\">We   met at 2:52 PM on the  2nd of Jun 2021.\n",
       "They met at 6:05 PM on the  4th of Jul 1776.\n",
       "</span>"
      ]
     },
     "execution_count": 136,
     "metadata": {},
     "output_type": "execute_result"
    }
   ],
   "source": [
    "⍝ t1 is a Timestamp in APL format\n",
    "  t1←2021 06 02 14 52 05 443\n",
    "⍝ d1 is the Date Number equivalent to timestamp t1\n",
    "  'd1: ',(d1← 1 ⎕DT ⊂t1)\n",
    "⍝ tf: Our datetime format string...\n",
    "  tf← 't:mm PP \"on the\" _Doo \"of\" Mmm YYYY\".\"'\n",
    "⍝ t2 is a Timestamp from history...\n",
    "  t2←1776 07 04 18 05\n",
    "  \n",
    "⍝ These are equivalent, since t1 and d1 refer to the same date and time.\n",
    "  ∆F'Let''s meet at {  tf % ⍵1 }' (⊂t1)\n",
    "  ∆F'Let''s meet at {  tf % ⍵1 }' d1\n",
    "⍝ Now, we'll format two timestamps into two rows...\n",
    "  ∆F'We\\⋄They{ }met at\\⋄met at{ }{ ↑ tf  % t1 t2 }' "
   ]
  },
  {
   "cell_type": "markdown",
   "id": "b041f362",
   "metadata": {},
   "source": [
    "#### Using a Timezone Character\n",
    "And here's an example using the ISO (International Standards Organization) format `%ISO%` on the left and \"Zulu\" (UTC) Time on the right::"
   ]
  },
  {
   "cell_type": "code",
   "execution_count": 129,
   "id": "8f904fbf",
   "metadata": {},
   "outputs": [
    {
     "data": {
      "text/html": [
       "<span style=\"white-space:pre; font-family: monospace\">Product A Expired on 2021-12-25T20:05:19 UTC.\n",
       "</span>"
      ]
     },
     "execution_count": 129,
     "metadata": {},
     "output_type": "execute_result"
    }
   ],
   "source": [
    "⍝ Here we specify the current datetime in timezone Zulu, i.e. Greenwich Mean Time or UTC.\n",
    "  ∆F'Product A Expired on { \"%ISO%\" % \"Z\" } UTC.'"
   ]
  },
  {
   "cell_type": "markdown",
   "id": "cce4a0df",
   "metadata": {},
   "source": [
    "#### Performing Datetime Manipulation"
   ]
  },
  {
   "cell_type": "code",
   "execution_count": 130,
   "id": "30eb874d",
   "metadata": {},
   "outputs": [
    {
     "data": {
      "text/html": [
       "<span style=\"white-space:pre; font-family: monospace\">Product B Expired 14 Days Earlier, on: 2021-12-11T20:05:20 UTC.\n",
       "</span>"
      ]
     },
     "execution_count": 130,
     "metadata": {},
     "output_type": "execute_result"
    }
   ],
   "source": [
    "  ndays← ¯14\n",
    "⍝ Add \"ndays\" to the current Zulu time...\n",
    "  ∆F'Product B Expired {|ndays} Days Earlier, on: { \"%ISO%\" %  ndays+1 ⎕DT \"Z\" } UTC.' ndays"
   ]
  },
  {
   "cell_type": "markdown",
   "id": "hollow-triangle",
   "metadata": {},
   "source": [
    "### Code Fields: Private Namespace ⍺\n",
    "**∆F** generates a special namespace, which is passes to each **Code** field as the left argument `⍺` . It allows the user to have functions or variables (e.g. state variables) that are available to all **Code** fields (left to right) during the execution of **∆F**, without cluttering the calling environment:"
   ]
  },
  {
   "cell_type": "code",
   "execution_count": 131,
   "id": "executed-airline",
   "metadata": {},
   "outputs": [
    {
     "data": {
      "text/html": [
       "<span style=\"white-space:pre; font-family: monospace\">The winning numbers are 377, 802, and 768.\n",
       "</span>"
      ]
     },
     "execution_count": 131,
     "metadata": {},
     "output_type": "execute_result"
    }
   ],
   "source": [
    "∆F '{⍬⊣⍺.RND←?3⍴⍵1}The winning numbers are {⍺.RND[0]}, {⍺.RND[1]}, and {⍺.RND[2]}.' 1000"
   ]
  },
  {
   "cell_type": "markdown",
   "id": "bf7e7c67",
   "metadata": {},
   "source": [
    "### ∆F and Looping\n",
    "\n",
    "While languages like Python might tend to examples requiring explicit loops like this:\n",
    "\n",
    "``# Python ...\n",
    "table = [4127, 4098, 7678]\n",
    "for num in table2:\n",
    "    print(f'{num:10}')\n",
    " ``\n",
    " \n",
    " APL can typically format an entire object in a single statement and in a readable format:"
   ]
  },
  {
   "cell_type": "code",
   "execution_count": 132,
   "id": "e20e4cfb",
   "metadata": {},
   "outputs": [
    {
     "data": {
      "text/html": [
       "<span style=\"white-space:pre; font-family: monospace\">[1]  4127\n",
       "[2]  4096\n",
       "[3]  7678\n",
       "</span>"
      ]
     },
     "execution_count": 132,
     "metadata": {},
     "output_type": "execute_result"
    }
   ],
   "source": [
    "table← 4127 4096 7678                           ⍝ Could be much bigger, of course...\n",
    "∆F '{\"[]\" $$$ ⍪1+⍳≢⍵1}  {⍪⍵1}' table            ⍝ $$$ defined above..."
   ]
  },
  {
   "cell_type": "markdown",
   "id": "33ebac0e",
   "metadata": {},
   "source": [
    "Or, compare this Python example:\n",
    "\n",
    "``# Python\n",
    "print(f'Number Square Cube')\n",
    "for x in range(1, 11):\n",
    "     print(f'{x:2d} {x*x:3d} {x*x*x:4d}')\n",
    " ``\n",
    " \n",
    "and its APL equivalent below. *(Of course, a simple Dyalog ⎕FMT statement would work perfectly and concisely in this case!)*"
   ]
  },
  {
   "cell_type": "code",
   "execution_count": 133,
   "id": "13532a3d",
   "metadata": {},
   "outputs": [
    {
     "data": {
      "text/html": [
       "<span style=\"white-space:pre; font-family: monospace\"> Number     Square     Cube \n",
       "    1          1          1 \n",
       "    2          4          8 \n",
       "    3          9         27 \n",
       "    4         16         64 \n",
       "    5         25        125 \n",
       "    6         36        216 \n",
       "    7         49        343 \n",
       "    8         64        512 \n",
       "    9         81        729 \n",
       "   10        100       1000 \n",
       "</span>"
      ]
     },
     "execution_count": 133,
     "metadata": {},
     "output_type": "execute_result"
    }
   ],
   "source": [
    "rangeV ← 1+⍳10\n",
    "Head←'Number     Square     Cube'\n",
    "Head OVER ∆F  '  {\"I2\" $ ⍵1}        {\"I3\" $ ⍵1*2}       {\"I4\" $ ⍵1*3}'  rangeV"
   ]
  },
  {
   "cell_type": "markdown",
   "id": "40491378",
   "metadata": {},
   "source": [
    "Keep in mind as you read examples from Python or Javascript that APL is likely to have more intuitive solutions that do not require explicit looping with **∆F**."
   ]
  },
  {
   "cell_type": "markdown",
   "id": "reliable-flooring",
   "metadata": {},
   "source": [
    "## Assertions with ∆F\n",
    "\n",
    "Normally, ∆F returns the formatted text as a single formatted matrix (rank 2).\n",
    "<br>If the left argument (⍺) to ∆F is a homogeneous numeric array, it is viewed as an assertion.\n",
    "  * If the assertion contains _no numeric zeroes_, it is considered __true__. It **prints** the formatted text, returning a shy _1_. (It does _not_ return the formatted text, as in _format_ mode.)\n",
    "  * If the assertion contains one or more zeroes, it is considered __false__. It does nothing, quickly returning a shy _0_."
   ]
  },
  {
   "cell_type": "code",
   "execution_count": 134,
   "id": "general-check",
   "metadata": {},
   "outputs": [
    {
     "data": {
      "text/html": [
       "<span style=\"white-space:pre; font-family: monospace\">Assertion formatted (and printed) nothing and returned SHY 0\n",
       "</span>"
      ]
     },
     "execution_count": 134,
     "metadata": {},
     "output_type": "execute_result"
    }
   ],
   "source": [
    "⍝ Here, (var<100) is FALSE, so no ∆F string message is produced. 0 is returned.\n",
    "  var←100\n",
    "  rc←(var<100) ∆F 'Warning! Variable \"var\" is out of expected range: var={var}'\n",
    "  'Assertion formatted (and printed) nothing and returned SHY',rc"
   ]
  },
  {
   "cell_type": "code",
   "execution_count": 135,
   "id": "defined-encoding",
   "metadata": {},
   "outputs": [
    {
     "data": {
      "text/html": [
       "<span style=\"white-space:pre; font-family: monospace\">Warning! Variable \"var\" is out of expected range: var=50\n",
       "</span>"
      ]
     },
     "execution_count": 135,
     "metadata": {},
     "output_type": "execute_result"
    },
    {
     "data": {
      "text/html": [
       "<span style=\"white-space:pre; font-family: monospace\">∆F formatted and printed text (via ⎕←) and returned SHY 1\n",
       "</span>"
      ]
     },
     "execution_count": 135,
     "metadata": {},
     "output_type": "execute_result"
    }
   ],
   "source": [
    "⍝ Now, the assertion (var<100) is TRUE, so a ∆F string message is printed. 1 is returned.\n",
    "⍝ We'll show it explicitly, even though it is shy.\n",
    "  var←50\n",
    "  rc←(var<100) ∆F 'Warning! Variable \"var\" is out of expected range: var={var}'\n",
    "  '∆F formatted and printed text (via ⎕←) and returned SHY',rc"
   ]
  },
  {
   "cell_type": "markdown",
   "id": "departmental-rebel",
   "metadata": {},
   "source": [
    "***\n",
    "## ∆F Syntax Summary \n",
    "\n",
    "Syntax:  **result ← [ [ assertion | options ] ]  ∆F  format_string  [ arg1 [arg2 ...] ]**\n",
    "\n",
    "- **assertion** ⍺: a homogeneous numeric array. \n",
    "     - The assertion is \"TRUE\", unless it contains at least one 0.\n",
    "       - If TRUE, **∆F** prints the formatted result and returns a shy 1. \n",
    "       - If FALSE, **∆F** does nothing, returning a shy 0.\n",
    "     \n",
    "- **options** ⍺: DEBUG | COMPILE | HELP | DEFAULT*         \n",
    "     - DEBUG: Displays each field separately (via dfns \"box\")\n",
    "       The abbrev 'DE' or 'D' denotes DEBUG. \n",
    "     - COMPILE: Returns a code string that can be converted to a dfn (executed via ⍎), \n",
    "        rather than scanned on each execution. \n",
    "        - See **COMPILE option** below.\n",
    "     - HELP: Displays HELP documentation (⍵ ignored):  `∆F⍨'HELP'`\n",
    "     - DEFAULT: Returns a formatted 2-D array according to the format_string \n",
    "       specified.\n",
    "              \n",
    "      * If ⍺ is omitted or ⍺ is a null string `''`, option DEFAULT is assumed.\n",
    "     - Options may be in either case and abbreviated.  \n",
    "       \n",
    "- **format_string**  `⍹0` (0⊃⍵)\n",
    "     - Contains the simple format \"fields\" that include strings (**Text** fields), \n",
    "       code (**Code** fields), and spacing (**Space** fields). \n",
    "       <br>**Code** fields support a shorthand for manipulating objects using **\\$**, **\\$\\$**, **\\$\\$\\$**, and **\\%**:\n",
    "       \n",
    "       - **$** does numeric formatting via **⎕FMT**, along with justification and centering;\n",
    "       \n",
    "       - **$$** displays data using dfns **DISPLAY**;\n",
    "       \n",
    "       - **$$$** adds quotes or other decorators around user data.\n",
    "       \n",
    "       - **%** formats timestamps and date numbers using **⎕DT** and **1200⌶**.\n",
    "       \n",
    " - arbitrary **args** `1↓⍵`\n",
    "     - Optional arguments to be referenced in Code Fields. \n",
    "     - Shorthand in Code Fields\n",
    "        - **⍹0** refers to `0⊃⍵`, the ∆F format string.\n",
    "        - **⍹1** refers to `1⊃⍵`, the first \"user\" element.\n",
    "        - **⍹N** refers to `N⊃⍵`, the Nth \"user\" element (where N is a 1- or 2-digit number)\n",
    "        - **⍹**  by itself refers to the element after the one most recently accessed across all code fields viewed from left to right. If no element has been accessed, **⍹** refers to **⍹1**.\n",
    "                \n",
    "     - Allowed synonym for **⍹**: You may use `⍵0` for **⍹0**, `⍵N` for **⍹N**, and `⍵_` for a **⍹** by itself.\n",
    "        \n",
    "- **result**\n",
    "     - For an assertion, result is either a shy 1 (TRUE) or 0 \n",
    "       (FALSE, where *at least* one element of ⍺ was 0).\n",
    "     - The final formatted object is printed (via ⎕←) if the result is TRUE.\n",
    "     - Otherwise, if `DEFAULT` formatting is specified (*i.e.* the option `COMPILE` is not used), \n",
    "       result will be a matrix containing all the fields glued together.\n",
    "     - If the `COMPILE` option is specified, result will be a code string that \n",
    "       can be executed to produce the result either of an assertion (see above) \n",
    "       or the `DEFAULT` formatting. It may be executed immediately via **⍎** or converted \n",
    "       to a fn (via **⍎**) once and then called, e.g. in an implicit or explicit loop. \n",
    "       \n",
    "           myFormat←  ⍎'COMPILE' ∆F '...Make use of variable myVar ...'\n",
    "           :FOR myVar :in CreateVars 1E4\n",
    "              myFormat '' elem1 elem2 ...\n",
    "           :ENDFOR  \n",
    "           \n",
    "- **COMPILE option**: Given a dfn generated via a call to **∆F** via the **COMPILE** option...\n",
    "    - The first (or only) element of its **right** argument `⍵` may be \n",
    "       - a nullstring `''`\n",
    "         - *i.e.* a *dummy* format string which will be ignored; the *original* format string presented at compile time will be available as `⍹0`\n",
    "       - an alternate format string specified at execution time \n",
    "         - which will be available instead as `⍵0`.\n",
    "       - In general: \n",
    "           myFun← ⍎ 'compile' ∆F 'my code'\n",
    "           (myFun '' [⍹1 ... ])    ≡    ('default' ∆F 'my code' [⍹1 ... ])  \n",
    "    - Its **left** argument `⍺` is omitted, unless the formatting dfn is an assertion. \n",
    "      - If ⍺ is present, it must be an **assertion** (see above) with simple numeric data.\n",
    " \n",
    " <div class=\"alert alert-block alert-info\">\n",
    "Note: <font color=\"purple\"><b>∆F</b></font> is a <font color=\"red\"><b><i>prototype</i></b></font>, depending heavily on regular expressions (via <b>⎕R</b> and <b>⎕S</b>, including some rather recursive patterns) so it's rather <font color=\"red\"><b><i>slow</i></b></font>. <b>Compiled</b> <font color=\"purple\"><b>∆F</b></font> strings (namely, associated <i><b>dfns</b></i> generated via the <i>compile</i> option) are several-fold faster than <b>standard</b> <font color=\"purple\"><b>∆F</b></font> strings; they may be useful in loops or oft-repeated expressions. Nothing substitutes, however, for moving from a <font color=\"red\"><b><i>prototype</i></b></font> version to <font color=\"red\"><b><i>production</i></b></font> code.\n",
    "</div>"
   ]
  },
  {
   "cell_type": "markdown",
   "id": "ff1d46ac",
   "metadata": {},
   "source": [
    "### [Go to top](#∆F-Strings-for-Formatting)"
   ]
  }
 ],
 "metadata": {
  "kernelspec": {
   "display_name": "Dyalog APL",
   "language": "apl",
   "name": "dyalog-kernel"
  },
  "language_info": {
   "file_extension": ".apl",
   "mimetype": "text/apl",
   "name": "APL"
  }
 },
 "nbformat": 4,
 "nbformat_minor": 5
}
