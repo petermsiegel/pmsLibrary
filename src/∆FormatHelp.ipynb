{
 "cells": [
  {
   "cell_type": "markdown",
   "id": "technical-posting",
   "metadata": {},
   "source": [
    "# Getting Started with ∆F Strings for Formatting\n",
    "\n",
    "## Description\n",
    "\n",
    "\n",
    "<div class=\"alert alert-block alert-info\">\n",
    "    <b>∆F</b> is a <font color=\"red\"><b><i>prototype</i></b></font> for a powerful formatting utility for Dyalog APL.  Building on string formatters in other languages, such as Python's <i>f-strings</i>, <b>∆F</b> handles multiline text, objects of various types, ranks and depth, and arbitrary code, but with an <i>APL</i> flair.<br>\n",
    "<b>∆F</b> is designed to be useful for assertions (which display values only when boolean conditions are met), debugging, and routine display, expanding on existing capabilities of <b>⎕FMT</b> and other APL tools.\n",
    "</div>"
   ]
  },
  {
   "cell_type": "markdown",
   "id": "numerical-glossary",
   "metadata": {},
   "source": [
    "## Outline\n",
    "* Getting Started\n",
    "* ∆F Fields\n",
    "  * Text Fields are 2D\n",
    "      * Newlines and Escapes: \\⋄  \\\\{  \\\\}  \\\\\n",
    "  * Code Fields: Basics\n",
    "      * Simple Variables \n",
    "      * Code Fields Are DFNS\n",
    "      * Debug Mode\n",
    "      * DQ Strings \n",
    "      * Escapes\n",
    "      * Comments\n",
    "  * Space Fields\n",
    "      * Comments\n",
    "  * Code Fields: Advanced Topics\n",
    "      * Pseudo-Builtin \\$ for ⎕FMT formatting\n",
    "      * Pseudo-builtin $$ for a boxed display\n",
    "      * ∆F arguments: ⍹0, ⍹, etc.\n",
    "      * Justification and Centering with \\$: Beyond ⎕FMT specifications.\n",
    "      * Self-documenting Code fields: {code → }\n",
    "      * Code Field namespace ⍺\n",
    "* Library Routines for Users\n",
    "* Assertions with ∆F\n",
    "* ∆F Syntax\n",
    "***\n",
    "\n",
    "## Getting Started\n",
    "Let's get started!\n",
    "\n",
    "Let's be sure the file __∆Format.dyalog__ is accessible and loaded. When fixed, it creates a single function `∆F`."
   ]
  },
  {
   "cell_type": "code",
   "execution_count": 1,
   "id": "normal-stream",
   "metadata": {
    "scrolled": true
   },
   "outputs": [
    {
     "data": {
      "text/html": [
       "<span style=\"white-space:pre; font-family: monospace\">1. Does ∆Format.dyalog exist in this directory? Yes\n",
       "</span>"
      ]
     },
     "execution_count": 1,
     "metadata": {},
     "output_type": "execute_result"
    },
    {
     "data": {
      "text/html": [
       "<span style=\"white-space:pre; font-family: monospace\">2. Loading ∆Format.dyalog as: ∆Format  ∆F \n",
       "</span>"
      ]
     },
     "execution_count": 1,
     "metadata": {},
     "output_type": "execute_result"
    },
    {
     "data": {
      "text/html": [
       "<span style=\"white-space:pre; font-family: monospace\">3. ∆F utility now exists!\n",
       "</span>"
      ]
     },
     "execution_count": 1,
     "metadata": {},
     "output_type": "execute_result"
    }
   ],
   "source": [
    "⍝ ⎕←  '0. Our active directory is ',⎕SH 'pwd'\n",
    "⎕←  '1. Does ∆Format.dyalog exist in this directory? ',(⎕NEXISTS '∆Format.dyalog')⊃'No' 'Yes'\n",
    "⎕←  '2. Loading ∆Format.dyalog as:',(∪2 ⎕FIX 'file://∆Format.dyalog')\n",
    "⎕←  '3. ∆F utility now exists!' '3. Whoops!' ⊃⍨3≠⎕NC '∆F'"
   ]
  },
  {
   "cell_type": "markdown",
   "id": "scenic-settlement",
   "metadata": {},
   "source": [
    "Before showing how ∆F works, let's create a couple of variables...<BR>\n",
    "Here are the vectors `string` and `numbers`:"
   ]
  },
  {
   "cell_type": "code",
   "execution_count": 2,
   "id": "statistical-albert",
   "metadata": {},
   "outputs": [],
   "source": [
    "string  ← 'This is a string'\n",
    "numbers ← 10 20"
   ]
  },
  {
   "cell_type": "markdown",
   "id": "strong-entrepreneur",
   "metadata": {},
   "source": [
    "We will display them using ∆F."
   ]
  },
  {
   "cell_type": "code",
   "execution_count": 3,
   "id": "patient-michael",
   "metadata": {},
   "outputs": [
    {
     "data": {
      "text/html": [
       "<span style=\"white-space:pre; font-family: monospace\">My string = \"This is a string\".  My numbers = 10 20.\n",
       "</span>"
      ]
     },
     "execution_count": 3,
     "metadata": {},
     "output_type": "execute_result"
    }
   ],
   "source": [
    "∆F 'My string = \"{string}\".  My numbers = {numbers}.'"
   ]
  },
  {
   "cell_type": "markdown",
   "id": "mediterranean-publication",
   "metadata": {},
   "source": [
    "We can do this more concisely using Self-documenting Code Fields (thanks to Python), signified by the trailing right arrow (adjacent spaces are optional). We'll discuss them further below. \n",
    "_(Note: The symbol `➤` is a special right arrow that separates the literal code from its value.)_"
   ]
  },
  {
   "cell_type": "code",
   "execution_count": 4,
   "id": "listed-commitment",
   "metadata": {},
   "outputs": [
    {
     "data": {
      "text/html": [
       "<span style=\"white-space:pre; font-family: monospace\">string ➤ This is a string.  numbers ➤ 10 20\n",
       "</span>"
      ]
     },
     "execution_count": 4,
     "metadata": {},
     "output_type": "execute_result"
    }
   ],
   "source": [
    "∆F '{string → }.  {numbers → }'"
   ]
  },
  {
   "cell_type": "markdown",
   "id": "figured-designation",
   "metadata": {},
   "source": [
    "But, let's start at the __beginning__!\n",
    "\n",
    "## ∆F Fields\n",
    "###  2D Text Fields: `'A simple string'`\n",
    "The simplest possible format string-- we'll call it an __∆F__ string-- consists of a simple __Text__ field."
   ]
  },
  {
   "cell_type": "code",
   "execution_count": 5,
   "id": "august-application",
   "metadata": {},
   "outputs": [
    {
     "data": {
      "text/html": [
       "<span style=\"white-space:pre; font-family: monospace\">This is a simple string.\n",
       "</span>"
      ]
     },
     "execution_count": 5,
     "metadata": {},
     "output_type": "execute_result"
    }
   ],
   "source": [
    "∆F 'This is a simple string.'"
   ]
  },
  {
   "cell_type": "markdown",
   "id": "welsh-perth",
   "metadata": {},
   "source": [
    "#### Text Fields are 2D: Newlines and Escapes\n",
    "__Text__ fields can consist of one or more lines, each separated by the special newline escape sequence `\\⋄`. Using __Text__ fields this way is just one way to create a 2D list of items or a multiline paragraph. ∆F always returns a character matrix of 0 or more rows."
   ]
  },
  {
   "cell_type": "code",
   "execution_count": 6,
   "id": "further-iceland",
   "metadata": {},
   "outputs": [
    {
     "data": {
      "text/html": [
       "<span style=\"white-space:pre; font-family: monospace\">This             \n",
       "is a             \n",
       "multiline string.\n",
       "</span>"
      ]
     },
     "execution_count": 6,
     "metadata": {},
     "output_type": "execute_result"
    }
   ],
   "source": [
    "∆F 'This\\⋄is a\\⋄multiline string.'"
   ]
  },
  {
   "cell_type": "markdown",
   "id": "unauthorized-hampton",
   "metadata": {},
   "source": [
    "You can insert most any Unicode character into a __Text__ field. Only four characters (with special meaning _described below_) require special treatment: \n",
    "\n",
    "`⋄`, `{`, `}`, _and_ `\\`.  \n",
    "   \n",
    " A diamond `⋄` _not_ preceded by a backslash `\\` has no special meaning; only the escaped sequence `\\⋄` denotes a newline.  You'll see below that a bare `{` begins a __Code__ field, which is terminated by a balancing bare `}`. So, if you want to enter a left brace literal, escape it with \\\\, as here.\n",
    " \n"
   ]
  },
  {
   "cell_type": "code",
   "execution_count": 7,
   "id": "96a1fd54",
   "metadata": {},
   "outputs": [
    {
     "data": {
      "text/html": [
       "<span style=\"white-space:pre; font-family: monospace\">This is a diamond ⋄, an opening brace {, a closing brace }, and a backslash \\.\n",
       "</span>"
      ]
     },
     "execution_count": 7,
     "metadata": {},
     "output_type": "execute_result"
    }
   ],
   "source": [
    "∆F 'This is a diamond ⋄, an opening brace \\{, a closing brace \\}, and a backslash \\\\.' "
   ]
  },
  {
   "cell_type": "markdown",
   "id": "0b27ca53",
   "metadata": {},
   "source": [
    "Finally, literal backslashes only need to be escaped themselves (i.e. as `\\\\`) when right before a `⋄`, `{`, `}`, or another backslash `\\`. In other cases, such as `+\\⍳` no extra backslash is required."
   ]
  },
  {
   "cell_type": "code",
   "execution_count": 8,
   "id": "straight-twist",
   "metadata": {},
   "outputs": [
    {
     "data": {
      "text/html": [
       "<span style=\"white-space:pre; font-family: monospace\">\"We can sum the numbers ⍵ via +\\⍵\"\n",
       "</span>"
      ]
     },
     "execution_count": 8,
     "metadata": {},
     "output_type": "execute_result"
    },
    {
     "data": {
      "text/html": [
       "<span style=\"white-space:pre; font-family: monospace\">\"We can sum the numbers ⍵ via +\\⍵\"\n",
       "</span>"
      ]
     },
     "execution_count": 8,
     "metadata": {},
     "output_type": "execute_result"
    }
   ],
   "source": [
    "∆F '\"We can sum the numbers ⍵ via +\\⍵\"'\n",
    "∆F '\"We can sum the numbers ⍵ via +\\\\⍵\"'"
   ]
  },
  {
   "cell_type": "markdown",
   "id": "distant-audit",
   "metadata": {},
   "source": [
    "### Code Fields: Basics \n",
    "#### Code Fields: Simple Variables `'{lastName}, {firstName}'`\n",
    "Let's create a more useful example of ∆F strings using the following three variables. "
   ]
  },
  {
   "cell_type": "code",
   "execution_count": 9,
   "id": "inside-examination",
   "metadata": {},
   "outputs": [],
   "source": [
    "what←  'This'\n",
    "type←  'simple'\n",
    "thing← 'string'"
   ]
  },
  {
   "cell_type": "markdown",
   "id": "consistent-ordering",
   "metadata": {},
   "source": [
    "Within separate sets of curly braces `{..}`, which delimit a __Code__ field, we include the three variable names: `what`, `type`, and `thing`. We'll say more about __Code__ fields in a moment."
   ]
  },
  {
   "cell_type": "code",
   "execution_count": 10,
   "id": "restricted-exception",
   "metadata": {},
   "outputs": [
    {
     "data": {
      "text/html": [
       "<span style=\"white-space:pre; font-family: monospace\">This is a simple string.\n",
       "</span>"
      ]
     },
     "execution_count": 10,
     "metadata": {},
     "output_type": "execute_result"
    }
   ],
   "source": [
    "∆F '{what} is a {type} {thing}.'"
   ]
  },
  {
   "cell_type": "markdown",
   "id": "opponent-frequency",
   "metadata": {},
   "source": [
    "#### Knowing Your Fields\n",
    "This ∆F string consists of six fields: \n",
    "   1. a __Code__ field `{what}`, which returns the value of the variable `what`; \n",
    "   2. a __Text__ field `\" is a \"`;\n",
    "   3. another __Code__ field `{type}`, returning the value of the variable `type`;\n",
    "   4. a short __Text__ field `\" \"`; \n",
    "   5. a __Code__ field `{thing}`, referencing `thing`; and finally,\n",
    "   6. a final __Text__ field `\".\"`.\n",
    "\n",
    "#### Debug Mode: `'debug' ∆F ...`\n",
    "We can show each of the fields more graphically using the _debug_ option (abbreviated _d_), which places each field in a separate display box and marks each space in each field by a middle dot `·`."
   ]
  },
  {
   "cell_type": "code",
   "execution_count": 11,
   "id": "proud-tomorrow",
   "metadata": {},
   "outputs": [
    {
     "data": {
      "text/html": [
       "<span style=\"white-space:pre; font-family: monospace\">┌→───┐┌→─────┐┌→─────┐┌→┐┌→─────┐┌→┐\n",
       "↓This│↓·is·a·│↓simple│↓·│↓string│↓.│\n",
       "└────┘└──────┘└──────┘└─┘└──────┘└─┘\n",
       "</span>"
      ]
     },
     "execution_count": 11,
     "metadata": {},
     "output_type": "execute_result"
    }
   ],
   "source": [
    "'d' ∆F '{what} is a {type} {thing}.'"
   ]
  },
  {
   "cell_type": "markdown",
   "id": "blind-singing",
   "metadata": {},
   "source": [
    "#### Code Fields Are DFNS: `∆F '{⍪⍳3} {↑\"Name\" \"Addr\" \"Phone\"}'`\n",
    "As shown above, in addition to __Text__ fields, we can create executable __Code__ fields, using braces {...}. A __Code__ field with bare variable names is the simplest type of __Code__ field.\n",
    "\n",
    "__Code__ fields can be generalized as dfns evaluated in the active (caller's) namespace. While each __Code__ field is executed via ordinary APL rules (statements left-to-right and right-to-left within statements), __Code__ fields within a `∆F` format string are themselves executed left-to-right: \n",
    "\n",
    "     the left-most Code field is executed first, then the one to its right, and so on.\n",
    "     \n",
    "Each __Code__ field _must_ return a value (perhaps a null string). \n",
    "\n",
    "#### Code Field Comments: `{... ⍝...}`\n",
    "\n",
    "A Code field may end with a comment, which starts with a lamp `⍝` and contain no braces or ⋄; it terminates just before a following lozenge `⋄` or closing brace `}`. \n",
    "\n",
    "For example:"
   ]
  },
  {
   "cell_type": "code",
   "execution_count": 12,
   "id": "green-insurance",
   "metadata": {},
   "outputs": [
    {
     "data": {
      "text/html": [
       "<span style=\"white-space:pre; font-family: monospace\">0.7370822517\n",
       "</span>"
      ]
     },
     "execution_count": 12,
     "metadata": {},
     "output_type": "execute_result"
    }
   ],
   "source": [
    "∆F '{ ?0  ⍝ A random number ⍵: 0<⍵<1 }'"
   ]
  },
  {
   "cell_type": "markdown",
   "id": "environmental-prince",
   "metadata": {},
   "source": [
    "#### Code Fields Are DFNS: More Complex Examples\n",
    "Let's look at more complex examples. First, what if a variable itself is more than a simple one-line text string? Unlike format strings in other languages, __`∆F`__ __strings__ handle multi-dimensional objects the _APL way_!"
   ]
  },
  {
   "cell_type": "code",
   "execution_count": 13,
   "id": "rocky-hygiene",
   "metadata": {},
   "outputs": [
    {
     "data": {
      "text/html": [
       "<span style=\"white-space:pre; font-family: monospace\">0 This            is a simple    string     \n",
       "1 That                 hard      matrix     \n",
       "2 The other thing      confusing thingamabob\n",
       "</span>"
      ]
     },
     "execution_count": 13,
     "metadata": {},
     "output_type": "execute_result"
    }
   ],
   "source": [
    "nums←  ⍪⍳3\n",
    "what←  ↑'This' 'That' 'The other thing'  \n",
    "type←  ↑'simple' 'hard' 'confusing'\n",
    "thing← ↑'string' 'matrix' 'thingamabob'\n",
    "∆F '{nums} {what} is a {type} {thing}'"
   ]
  },
  {
   "cell_type": "markdown",
   "id": "corresponding-specialist",
   "metadata": {},
   "source": [
    "Here, `num` is a column vector of integers, and `what`, `type` and `thing` are character matrices. Any object that can be formatted via Dyalog `⎕FMT` can be returned from a __Code__ field."
   ]
  },
  {
   "cell_type": "markdown",
   "id": "fatal-bangkok",
   "metadata": {},
   "source": [
    "Now for a more complex example: you can place arbitrary APL code within the braces `{...}` of a __Code__ field. \n",
    "\n",
    "In the example below, we'll remove the ↑ prefix from the values of each of the three variables above. Notice how we insert a period after each word of the variable `thing` and create a quoted string using double quotes: `{ ↑thing,¨\".\" }` Such a string is called a __DQ String__ and appears only within __Code__ fields. (We'll say more about __DQ Strings__ in a moment.)"
   ]
  },
  {
   "cell_type": "code",
   "execution_count": 14,
   "id": "creative-novelty",
   "metadata": {},
   "outputs": [
    {
     "data": {
      "text/html": [
       "<span style=\"white-space:pre; font-family: monospace\">0  This            is a simple    string.     \n",
       "1  That                 hard      matrix.     \n",
       "2  The other thing      confusing thingamabob.\n",
       "</span>"
      ]
     },
     "execution_count": 14,
     "metadata": {},
     "output_type": "execute_result"
    }
   ],
   "source": [
    "what←'This' 'That' 'The other thing'\n",
    "type←'simple' 'hard' 'confusing'\n",
    "thing←'string' 'matrix' 'thingamabob'\n",
    "∆F '{ ⍪⍳≢what }  { ↑what } is a { ↑type } { ↑thing,¨\".\" }'     "
   ]
  },
  {
   "cell_type": "markdown",
   "id": "further-workplace",
   "metadata": {},
   "source": [
    "#### DQ Strings in Code Fields: Use `\"These Double Quotes\"` _not_ `'These Single Quotes'`\n",
    "Within __Code__ fields, strings *require* double quotes (`\"`). These __DQ strings__ `\"like this one\"` are used wherever single-quoted strings `'like this'` would be used in standard APL; single-quoted strings are ***not*** used in `∆F` __strings__. Single quotes *may* appear, most usually as literal characters, rather than to create strings.\n",
    "\n",
    "#### DQ Strings: Escapes, including  `\\⋄`... \n",
    "__DQ Strings__ support the escaped sequences `\\⋄` and `\\\\`. `\\⋄` is a convenient way to enter newlines (actually ⎕UCS 13, the carriage return character) into linear strings (APL character vectors). When the `∆F` _string_ is printed, newlines will create separate _rows_ in the output matrix. <br>(Note: Unlike __Text__ fields, __DQ Strings__ in __Code__ fields do not require or allow braces to be escaped: braces are ordinary characters inside __DQ Strings__.)\n",
    "\n",
    "To include an actual double quote within a __DQ String__, double the doublequote (`\"\"`), just as one would for _single_ quotes in standard APL strings. (As always, APL of course requires single quotes within character strings to be doubled on entry). Notice how the string below is a 3-row matrix, one row for each line of the __DQ String__."
   ]
  },
  {
   "cell_type": "code",
   "execution_count": 15,
   "id": "acknowledged-texas",
   "metadata": {},
   "outputs": [
    {
     "data": {
      "text/html": [
       "<span style=\"white-space:pre; font-family: monospace\">This              \n",
       "is a \"DQ\" example,\n",
       "isn't it?         \n",
       "# rows: 3\n",
       "</span>"
      ]
     },
     "execution_count": 15,
     "metadata": {},
     "output_type": "execute_result"
    }
   ],
   "source": [
    "⍝                     Row 1  Row 2                 Row 3...\n",
    "  '# rows:', ≢⎕← ∆F '{\"This \\⋄is a \"\"DQ\"\" example,\\⋄isn''t it?\"}'"
   ]
  },
  {
   "cell_type": "markdown",
   "id": "elegant-deployment",
   "metadata": {},
   "source": [
    "### Space Fields: `{  }`\n",
    "The third and last field type is a <b>Space</b> field, which looks just like an *empty* <b>Code</b> field, containing only zero or more spaces between the braces { } and, optionally, a comment. _A space field forms a separate field and is a good way to separate other fields, i.e._ __Text__ or __Code__ _fields._\n",
    "\n",
    "#### Space Field Comments: `{  ⍝...}`\n",
    " A space fields may include a comment, which starts with a lamp `⍝` and contains no braces; the comment ends just before the right brace `}`.\n",
    " \n",
    " For example:"
   ]
  },
  {
   "cell_type": "code",
   "execution_count": 16,
   "id": "initial-correlation",
   "metadata": {},
   "outputs": [
    {
     "data": {
      "text/html": [
       "<span style=\"white-space:pre; font-family: monospace\">1     3.141592654\n",
       "2     6.283185307\n",
       "3     9.424777961\n",
       "</span>"
      ]
     },
     "execution_count": 16,
     "metadata": {},
     "output_type": "execute_result"
    },
    {
     "data": {
      "text/html": [
       "<span style=\"white-space:pre; font-family: monospace\">┌→┐┌→────┐┌→──────────┐\n",
       "↓1│↓·····│↓3.141592654│\n",
       "│2│└─────┘│6.283185307│\n",
       "│3│       │9.424777961│\n",
       "└─┘       └───────────┘\n",
       "</span>"
      ]
     },
     "execution_count": 16,
     "metadata": {},
     "output_type": "execute_result"
    }
   ],
   "source": [
    "⍝\n",
    "    ∆F '{⍪1 2 3}{     ⍝ 5 spaces }{⍪○1 2 3}'     \n",
    "'d' ∆F '{⍪1 2 3}{     ⍝ 5 spaces }{⍪○1 2 3}' "
   ]
  },
  {
   "cell_type": "markdown",
   "id": "d0e84358",
   "metadata": {},
   "source": [
    "#### Space Field Examples"
   ]
  },
  {
   "cell_type": "code",
   "execution_count": 17,
   "id": "dietary-sunset",
   "metadata": {},
   "outputs": [
    {
     "data": {
      "text/html": [
       "<span style=\"white-space:pre; font-family: monospace\">This is a test.\n",
       "</span>"
      ]
     },
     "execution_count": 17,
     "metadata": {},
     "output_type": "execute_result"
    },
    {
     "data": {
      "text/html": [
       "<span style=\"white-space:pre; font-family: monospace\">┌→──────┐┌→┐┌→──────┐\n",
       "↓This·is│↓·│↓a·test.│\n",
       "└───────┘└─┘└───────┘\n",
       "</span>"
      ]
     },
     "execution_count": 17,
     "metadata": {},
     "output_type": "execute_result"
    }
   ],
   "source": [
    "⍝\n",
    "    ∆F 'This is{ }a test.'\n",
    "'d' ∆F 'This is{ }a test.'"
   ]
  },
  {
   "cell_type": "markdown",
   "id": "greek-danger",
   "metadata": {},
   "source": [
    "But why bother with space fields at all? \n",
    "- They are useful when separating one multiline strings or code field from the next; even a zero-width space field can separate two __Text__ fields;  \n",
    "- They ensure the expected amount of spacing when preceded or followed by text fields with lines of varying length.\n",
    "\n",
    "Here's an example of two multiline __Text__ field separated by a __Space__ field with a single space: { }."
   ]
  },
  {
   "cell_type": "code",
   "execution_count": 18,
   "id": "outer-atlanta",
   "metadata": {},
   "outputs": [
    {
     "data": {
      "text/html": [
       "<span style=\"white-space:pre; font-family: monospace\">This      This    \n",
       "is a      is      \n",
       "multiline as well!\n",
       "field!            \n",
       "</span>"
      ]
     },
     "execution_count": 18,
     "metadata": {},
     "output_type": "execute_result"
    },
    {
     "data": {
      "text/html": [
       "<span style=\"white-space:pre; font-family: monospace\">┌→────────┐┌→┐┌→───────┐\n",
       "↓This·····│↓·│↓This····│\n",
       "│is·a·····│└─┘│is······│\n",
       "│multiline│   │as·well!│\n",
       "│field!···│   └────────┘\n",
       "└─────────┘             \n",
       "</span>"
      ]
     },
     "execution_count": 18,
     "metadata": {},
     "output_type": "execute_result"
    }
   ],
   "source": [
    "⍝\n",
    "    ∆F 'This\\⋄is a\\⋄multiline\\⋄field!{ ⍝ 1 Space}{\"This\\⋄is\\⋄as well!\"}'\n",
    "'d' ∆F 'This\\⋄is a\\⋄multiline\\⋄field!{ ⍝ 1 Space}{\"This\\⋄is\\⋄as well!\"}'"
   ]
  },
  {
   "cell_type": "markdown",
   "id": "oriented-bristol",
   "metadata": {},
   "source": [
    "In this next example, we use a zero-width __Space__ field simply to allow us to create two independent __Text__ fields:"
   ]
  },
  {
   "cell_type": "code",
   "execution_count": 19,
   "id": "german-trout",
   "metadata": {},
   "outputs": [
    {
     "data": {
      "text/html": [
       "<span style=\"white-space:pre; font-family: monospace\">1. Jane \n",
       "2. John \n",
       "3. Nancy\n",
       "</span>"
      ]
     },
     "execution_count": 19,
     "metadata": {},
     "output_type": "execute_result"
    }
   ],
   "source": [
    "∆F '1. \\⋄2.\\⋄3.{}Jane\\⋄John\\⋄Nancy'   "
   ]
  },
  {
   "cell_type": "markdown",
   "id": "professional-latter",
   "metadata": {},
   "source": [
    "This is equivalent, with an explicit Space field of length 1.\n",
    "```   \n",
    " ∆F '1.\\⋄2.\\⋄3.{ }Jane\\⋄John\\⋄Nancy'\n",
    "```\n",
    "\n",
    "### (More on) Code Fields: Advanced Topics\n",
    "#### Pseudo-builtin `$` for Detailed Formatting\n",
    "Here's how to do this more elegantly using the pseudo-builtin `$`, which is a nice way to use the Dyalog APL formatting utility `⎕FMT`. "
   ]
  },
  {
   "cell_type": "code",
   "execution_count": 20,
   "id": "agricultural-short",
   "metadata": {},
   "outputs": [
    {
     "data": {
      "text/html": [
       "<span style=\"white-space:pre; font-family: monospace\">1. Jane \n",
       "2. John \n",
       "3. Nancy\n",
       "</span>"
      ]
     },
     "execution_count": 20,
     "metadata": {},
     "output_type": "execute_result"
    }
   ],
   "source": [
    "∆F '{\"I1,⊂. ⊃\" $ 1+⍳3}Jane\\⋄John\\⋄Nancy'"
   ]
  },
  {
   "cell_type": "markdown",
   "id": "unlimited-sport",
   "metadata": {},
   "source": [
    "Now, let's move on to a few more examples."
   ]
  },
  {
   "cell_type": "code",
   "execution_count": 21,
   "id": "aware-infrastructure",
   "metadata": {},
   "outputs": [
    {
     "data": {
      "text/html": [
       "<span style=\"white-space:pre; font-family: monospace\">Multiples of pi: 1×π =  3.1415927\n",
       "                 2×π =  6.2831853\n",
       "                 3×π =  9.4247780\n",
       "                 4×π = 12.5663706\n",
       "</span>"
      ]
     },
     "execution_count": 21,
     "metadata": {},
     "output_type": "execute_result"
    }
   ],
   "source": [
    "∆F 'Multiples of pi: {\"I1,⊂×π =⊃\" $ 1+⍳4} {\"F10.7\" $ ○1 2 3 4}'"
   ]
  },
  {
   "cell_type": "markdown",
   "id": "hourly-electron",
   "metadata": {},
   "source": [
    "Again, using the *debug* option, we can see exactly what fields are set up."
   ]
  },
  {
   "cell_type": "code",
   "execution_count": 22,
   "id": "grave-bolivia",
   "metadata": {},
   "outputs": [
    {
     "data": {
      "text/html": [
       "<span style=\"white-space:pre; font-family: monospace\">┌→────────────────┐┌→────┐┌→┐┌→─────────┐\n",
       "↓Multiples·of·pi:·│↓1×π·=│↓·│↓·3.1415927│\n",
       "└─────────────────┘│2×π·=│└─┘│·6.2831853│\n",
       "                   │3×π·=│   │·9.4247780│\n",
       "                   │4×π·=│   │12.5663706│\n",
       "                   └─────┘   └──────────┘\n",
       "</span>"
      ]
     },
     "execution_count": 22,
     "metadata": {},
     "output_type": "execute_result"
    }
   ],
   "source": [
    "'d' ∆F 'Multiples of pi: {\"I1,⊂×π =⊃\" $ 1+⍳4} {\"F10.7\" $ ○1 2 3 4}'"
   ]
  },
  {
   "cell_type": "markdown",
   "id": "formal-friendly",
   "metadata": {},
   "source": [
    "#### Pseudo-Function $$ for a Boxed Display\n",
    "If we want a __Code__ field to be boxed in the regular output, we can use the pseudo-builtin display function __\\$\\$__. By default (no left argument or a left-argument of 0), no middle dots (·) appear with \\$\\$. If you want middle dots to appear in place of spaces, you must provide a left argument of 1."
   ]
  },
  {
   "cell_type": "code",
   "execution_count": 23,
   "id": "central-villa",
   "metadata": {},
   "outputs": [
    {
     "data": {
      "text/html": [
       "<span style=\"white-space:pre; font-family: monospace\"> Default (Spaces)  With Middle Dots \n",
       "  ┌→──────────┐     ┌→──────────┐   \n",
       "  ↓Nina       │     ↓Nina·······│   \n",
       "  │Pinta      │     │Pinta······│   \n",
       "  │Santa Maria│     │Santa·Maria│   \n",
       "  └───────────┘     └───────────┘   \n",
       "</span>"
      ]
     },
     "execution_count": 23,
     "metadata": {},
     "output_type": "execute_result"
    }
   ],
   "source": [
    "OVER←  (⍪,⍥⊂)                                     ⍝ A Helper Function\n",
    "boats← (↑'Nina' 'Pinta' 'Santa Maria')  \n",
    "\n",
    "title← ∆F 'Default (Spaces){}  With Middle Dots'\n",
    "bfmt←  ∆F ' { $$ ⍵1}     { 1 $$ ⍵1 }' boats       ⍝ Hold on! We explain ⍵1 just below.\n",
    "title OVER bfmt"
   ]
  },
  {
   "cell_type": "markdown",
   "id": "mobile-bullet",
   "metadata": {},
   "source": [
    "#### ∆F Code field arguments:  `⍹0` ... `⍹99` and `⍹`   (or `⍵0` ... `⍵99` and `⍵_`)\n",
    "__∆F__ allows __Code__ fields to access elements in its right argument, including the format string itself. Elements here refer to **top level scalar objects** in the right argument `⍵` to __∆F__, normalized to a nested form `⊆⍵`, ordered scalar by scalar (in ⎕IO=0) as (0⊃⍵) (1⊃⍵) (2⊃⍵) ... (N⊃⍵):\n",
    "\n",
    "- The format string itself `(0⊃⍵)` is abbreviated as `⍹0`, `(1⊃⍵)` as `⍹1`, ..., (N⊃⍵) as `⍹N`.\n",
    "- If a Code field refers to an element that does not exist, a runtime `INDEX ERROR` signal is generated as expected:\n",
    "```\n",
    "      ∆F '{⍹2}' 1 \n",
    "   ∆F INDEX ERROR: ⍹2 is out of range.\n",
    "```\n",
    "- The character `⍹` (omega underscore) is `⎕UCS 9081`. \n",
    "- If `⍹` is not handy, there are alternatives using a simple omega `⍵`: \n",
    "  - for omega underscore with numeric suffixes, use: \n",
    "    - `⍵0` for `⍹0`, `⍵10` for `⍹10`, etc.\n",
    "  - for bare omega underscore (next element-- see below), use: \n",
    "    - `⍵_` for `⍹`. That's a ⍵ followed by an underscore _.\n",
    "    \n",
    "Here is an example accessing `⍹1`, shorthand for `(⍵⊃⍨1+⎕IO)`."
   ]
  },
  {
   "cell_type": "code",
   "execution_count": 24,
   "id": "curious-blame",
   "metadata": {},
   "outputs": [
    {
     "data": {
      "text/html": [
       "<span style=\"white-space:pre; font-family: monospace\">3 multiples of pi: 1×π =  3.1415927\n",
       "                   2×π =  6.2831853\n",
       "                   3×π =  9.4247780\n",
       "</span>"
      ]
     },
     "execution_count": 24,
     "metadata": {},
     "output_type": "execute_result"
    },
    {
     "data": {
      "text/html": [
       "<span style=\"white-space:pre; font-family: monospace\">2 multiples of pi: 1×π =  3.1415927\n",
       "                   2×π =  6.2831853\n",
       "</span>"
      ]
     },
     "execution_count": 24,
     "metadata": {},
     "output_type": "execute_result"
    }
   ],
   "source": [
    "∆F '{⍹1} multiples of pi: {\"I1,⊂×π =⊃\" $ 1+⍳⍹1 } {\"F10.7\" $ ○ 1+⍳⍹1}'  3  \n",
    "∆F '{⍹1} multiples of pi: {\"I1,⊂×π =⊃\" $ 1+⍳⍹1 } {\"F10.7\" $ ○ 1+⍳⍹1}'  2  "
   ]
  },
  {
   "cell_type": "markdown",
   "id": "bound-alloy",
   "metadata": {},
   "source": [
    "The symbol `⍹` used alone in a __Code__ field will select the _next_ argument in sequence:\n",
    "\n",
    "     - ⍹ means ⍹1 if this is the first use in any Code field of either an explicit ⍹N or bare ⍹, else \n",
    "     - ⍹ means ⍹N+1 if ⍹N was the most recently accessed: \n",
    "        - For example, ⍹ references ⍹5 if ⍹4 was the most recently accessed, explicitly or implicitly. \n",
    "        \n",
    "This makes it easy to format a set of items: "
   ]
  },
  {
   "cell_type": "code",
   "execution_count": 25,
   "id": "listed-permit",
   "metadata": {},
   "outputs": [
    {
     "data": {
      "text/html": [
       "<span style=\"white-space:pre; font-family: monospace\">Rate:  2.20%; cur. value: £1000.23\n",
       "       3.83%              £2250.19\n",
       "       6.00%              £2500.87\n",
       "</span>"
      ]
     },
     "execution_count": 25,
     "metadata": {},
     "output_type": "execute_result"
    }
   ],
   "source": [
    "⍝          ⍵1  ⍵2               ⍵3  ⍵4   ⍵1         ⍵2                  ⍵3         ⍵4\n",
    "∆F 'Rate: {⍹ $ ⍹}; cur. value: {⍹ $ ⍹}' 'F5.2,⊂%⊃' (2.200 3.834 5.996) '⊂£⊃,F7.2' (1000.23, 2250.19 2500.868)"
   ]
  },
  {
   "cell_type": "markdown",
   "id": "critical-phone",
   "metadata": {},
   "source": [
    "Note also that `⍹0` can never be selected via the lone `⍹` (as the _next_ ⍵ argument), since the *last* index specified is never less than 0, so the *next* is never less than 1. In short, if you want `⍹0`, you type it explicitly!"
   ]
  },
  {
   "cell_type": "markdown",
   "id": "stunning-basic",
   "metadata": {},
   "source": [
    "#### Pseudo-Function `$`: Justification and Centering Codes  _L_, _C_, _R_   \n",
    "The pseudo-function `$` has been extended with special codes for justifying or centering objects within a __Code__ field.  \n",
    "\n",
    "    VECTORS IN ⍵ TREATED AS COLUMN VECTORS\n",
    "       TYPE                   CODE    \n",
    "       left-justified text    Lnn        \n",
    "       centered text          Cnn     \n",
    "       right-justified text   Rnn \n",
    "     \n",
    "The digits `nn`, a 1- or 2-digit number, indicates the minimum width of the field. If a field is already wider than `nn` characters, the field is left as is.\n",
    "These codes are valid with either *numeric* or *text* arguments.  Only one special code may be used in each `$` call, but you may call `$` itself more than once) and that code must be the *first* or *only* code specified. If other (usually numerically-oriented) codes  follow, a comma must intervene (following the conventions of dyadic `⎕FMT`).\n",
    "\n",
    "Here, we *left-, center-*, and *right-*justify Names in the ∆F arguments."
   ]
  },
  {
   "cell_type": "code",
   "execution_count": 26,
   "id": "ordered-methodology",
   "metadata": {},
   "outputs": [
    {
     "data": {
      "text/html": [
       "<span style=\"white-space:pre; font-family: monospace\">&lt;John      &gt; &lt;   John   &gt; &lt;      John&gt;\n",
       " Mary            Mary            Mary \n",
       "</span>"
      ]
     },
     "execution_count": 26,
     "metadata": {},
     "output_type": "execute_result"
    },
    {
     "data": {
      "text/html": [
       "<span style=\"white-space:pre; font-family: monospace\">┌→┐┌→─────────┐┌→──┐┌→─────────┐┌→──┐┌→─────────┐┌→┐\n",
       "↓&lt;│↓John······│↓&gt;·&lt;│↓···John···│↓&gt;·&lt;│↓······John│↓&gt;│\n",
       "└─┘│Mary······│└───┘│···Mary···│└───┘│······Mary│└─┘\n",
       "   └──────────┘     └──────────┘     └──────────┘   \n",
       "</span>"
      ]
     },
     "execution_count": 26,
     "metadata": {},
     "output_type": "execute_result"
    }
   ],
   "source": [
    "names←↑'John' 'Mary'\n",
    "     ∆F '<{\"L10\" $ ⍵1}> <{\"C10\" $ ⍵1}> <{\"R10\" $ ⍵1}>' names  \n",
    "'d'  ∆F '<{\"L10\" $ ⍵1}> <{\"C10\" $ ⍵1}> <{\"R10\" $ ⍵1}>' names  "
   ]
  },
  {
   "cell_type": "markdown",
   "id": "4d0e9584",
   "metadata": {},
   "source": [
    "Here, we format a couple of numeric fields, one centered automatically via $ code `C25` and the other manually via a _standard_ __⎕FMT__ code `X6`, which adds explicit spacing to build the same field width; both do the job:"
   ]
  },
  {
   "cell_type": "code",
   "execution_count": 27,
   "id": "literary-endorsement",
   "metadata": {},
   "outputs": [
    {
     "data": {
      "text/html": [
       "<span style=\"white-space:pre; font-family: monospace\">     Use ∆F Extension C25             Use ⎕FMT X6: 6+13+6=25    \n",
       "        25 chars wide                      25 chars wide        \n",
       " ┌→────────────────────────┐ versus ┌→────────────────────────┐ \n",
       " ↓······006.283185307······│        ↓······006.283185307······│ \n",
       " │······062.831853072······│        │······062.831853072······│ \n",
       " │······942.477796077······│        │······942.477796077······│ \n",
       " └─────────────────────────┘        └─────────────────────────┘ \n",
       "</span>"
      ]
     },
     "execution_count": 27,
     "metadata": {},
     "output_type": "execute_result"
    }
   ],
   "source": [
    "cw25←'   25 chars wide'\n",
    "\n",
    "title← ∆F '{    }Use ∆F Extension C25\\⋄',cw25,'{             }Use ⎕FMT X6: 6+13+6=25\\⋄  ',cw25\n",
    "centr← ∆F '{1$$\"C25,ZF13.9\" $ ⍵1 } versus {1$$\"X6,ZF13.9,X6\" $ ⍵1 }' (○2 20 300)\n",
    "title OVER centr"
   ]
  },
  {
   "cell_type": "markdown",
   "id": "handled-hamburg",
   "metadata": {},
   "source": [
    "#### Pseudo-function `$`: Justification and Centering Codes _l_, _c_, _r_  <br>Vector arg treated as _1-Row Matrix_ __vs__ _Column Vector_\n",
    "Like standard ⎕FMT, `$` _by default_ considers simple vectors in the code field as column vectors (as in the example above). This is true even for the extensions `L`, `C`, and `R`. However, you can override this, by specifying justification codes in lower case (`nn` is a 1- or 2-digit number):\n",
    "\n",
    "    VECTORS IN ⍵ TREATED AS 1-ROW MATRICES \n",
    "       TYPE                   CODE   \n",
    "       left-justified text    lnn      (lower-case \"l\") \n",
    "       centered text          cnn     \n",
    "       right-justified text   rnn    \n",
    "\n",
    "If these are used, simple vectors in the code field used as arguments to `$` are treated as 1-row matrices instead. \n",
    "- Right arguments that are not simple or are not a numeric or character vector are not impacted.\n",
    "\n",
    "Here, `\"c0\"` (or `\"l0\"` or `\"r0\"`) formatting with `$` ensures a simple vector right argument (numeric or character) is treated as a 1-row matrix. Similarly, `\"C0\"` (or `\"L0\"` or `\"R0\"`) formatting with `$` ensures a simple vector right argument (numeric or character) is treated as a column vector, even if no standard ⎕FMT codes are used. \n",
    "- The codes `\"c0\"`, `\"C0\"`, _et cetera_ do the job because justification and centering codes ensure a __minimum__ width, never truncating fields over that width. "
   ]
  },
  {
   "cell_type": "code",
   "execution_count": 28,
   "id": "lined-probability",
   "metadata": {},
   "outputs": [
    {
     "data": {
      "text/html": [
       "<span style=\"white-space:pre; font-family: monospace\">For n∊1 2 3, nπ = 3.141592654 6.283185307 9.424777961.   1π =  3.141592654\n",
       "                                                         2π =  6.283185307\n",
       "                                                         3π =  9.424777961\n",
       "</span>"
      ]
     },
     "execution_count": 28,
     "metadata": {},
     "output_type": "execute_result"
    }
   ],
   "source": [
    "∆F 'For n∊1 2 3, nπ = { \"c0\" $ ○ ⍵1 }.   {\"I1,⊂π = ⊃\" $ ⍵1} { \"C0\" $ ○⍵1 }' (1 2 3)"
   ]
  },
  {
   "cell_type": "markdown",
   "id": "55a62e6f",
   "metadata": {},
   "source": [
    "#### Code Fields: Self-Documenting Code Fields `{ Code → }`\n",
    "\n",
    "As shown above, a __Code__ field can be made self-documenting by inserting a right arrow `→` just before the closing right brace.  In more detail, the entire code of the Code field, including the spaces _before_ and _after_ the right arrow will be included in the formatted output, followed by the executed code. For perspicuity (big word), the APL right arrow is replaced by a special right arrow. "
   ]
  },
  {
   "cell_type": "code",
   "execution_count": 29,
   "id": "089b2e00",
   "metadata": {},
   "outputs": [
    {
     "data": {
      "text/html": [
       "<span style=\"white-space:pre; font-family: monospace\">&lt;MyString ➤ This is my string&gt;  &lt;3↑Today ➤ 2021 11 27&gt;.  &lt;\"I4\" $ 3↑Today  ➤  2021&gt;\n",
       "                                                                               11 \n",
       "                                                                               27 \n",
       "</span>"
      ]
     },
     "execution_count": 29,
     "metadata": {},
     "output_type": "execute_result"
    }
   ],
   "source": [
    "MyString← 'This is my string'\n",
    "Today←  ⎕TS \n",
    "∆F '<{MyString → }>  <{3↑Today → }>.  <{\"I4\" $ 3↑Today  →  }>'"
   ]
  },
  {
   "cell_type": "markdown",
   "id": "d682fe72",
   "metadata": {},
   "source": [
    "Note: Currently comments are allowed in Self-documenting Code Fields _only_ if terminated by a ⋄ before the final right arrow. ___Is this a bug or a feature?___"
   ]
  },
  {
   "cell_type": "code",
   "execution_count": 30,
   "id": "12a91e56",
   "metadata": {},
   "outputs": [
    {
     "data": {
      "text/html": [
       "<span style=\"white-space:pre; font-family: monospace\"> MyString⍳\"aeiou\" ⍝ Comments ok here ⋄  ➤ 17 17 2 17 17 \n",
       "</span>"
      ]
     },
     "execution_count": 30,
     "metadata": {},
     "output_type": "execute_result"
    }
   ],
   "source": [
    "∆F ' {MyString⍳\"aeiou\" ⍝ Comments ok here ⋄  → } '"
   ]
  },
  {
   "cell_type": "markdown",
   "id": "hollow-triangle",
   "metadata": {},
   "source": [
    "#### Code Fields:  Namespace `⍺`\n",
    "For **Code** fields, **∆F** passes a special namespace as the left argument `⍺`. That namespace contains all the support functions and variables for **∆F**. Names beginning with an underscore `_` (e.g. `_`, `__`, `_myVar`, ...) are reserved for the application user (you). One potential use is setting state that is maintained across all **Code** fields (left to right) during the execution of **∆F**, without cluttering the calling environment:"
   ]
  },
  {
   "cell_type": "code",
   "execution_count": 31,
   "id": "executed-airline",
   "metadata": {},
   "outputs": [
    {
     "data": {
      "text/html": [
       "<span style=\"white-space:pre; font-family: monospace\">3.141592654 6.283185307\n",
       "</span>"
      ]
     },
     "execution_count": 31,
     "metadata": {},
     "output_type": "execute_result"
    }
   ],
   "source": [
    "∆F '{⍺._PITimes←(○1)∘× ⋄ ⍺._PITimes 1} {⍺._PITimes 2}' "
   ]
  },
  {
   "cell_type": "code",
   "execution_count": 32,
   "id": "personal-spoke",
   "metadata": {},
   "outputs": [
    {
     "data": {
      "text/html": [
       "<span style=\"white-space:pre; font-family: monospace\">To 34 digits, Pi=3.141592653589793238462643383279503\n",
       "</span>"
      ]
     },
     "execution_count": 32,
     "metadata": {},
     "output_type": "execute_result"
    },
    {
     "data": {
      "text/html": [
       "<span style=\"white-space:pre; font-family: monospace\"> ⎕FR still 645? Yes.       ⎕PP still  10? Yes. \n",
       "</span>"
      ]
     },
     "execution_count": 32,
     "metadata": {},
     "output_type": "execute_result"
    }
   ],
   "source": [
    "⎕FR←645 ⋄ ⎕PP ←10\n",
    "∆F 'To 34 digits, Pi={⍺._sav←⎕FR ⎕PP⋄⎕FR ⎕PP∘←1287 34⋄\"\"}{ans←$ ○1 ⋄ ⎕FR ⎕PP∘←⍺._sav ⋄ ans}'\n",
    "('⎕FR still 645? ',(⎕FR=645)⊃'No.' 'Yes.')'   ' ('⎕PP still  10? ',(⎕PP=10) ⊃'No.' 'Yes.')"
   ]
  },
  {
   "cell_type": "markdown",
   "id": "reliable-flooring",
   "metadata": {},
   "source": [
    "## ∆F for assertions\n",
    "\n",
    "Normally, ∆F returns the formatted text as a single formatted matrix (rank 2).\n",
    "<br>If the left argument (⍺) to ∆F is a homogeneous numeric array, it is viewed as an assertion.\n",
    "  * If the assertion contains _no numeric zeroes_, it is considered __true__. It **prints** the formatted text, returning a shy _1_. (It does _not_ return the formatted text, as in _format_ mode.)\n",
    "  * If the assertion contains one or more zeroes, it is considered __false__. It does nothing, quickly returning a shy _0_."
   ]
  },
  {
   "cell_type": "code",
   "execution_count": 33,
   "id": "general-check",
   "metadata": {},
   "outputs": [
    {
     "data": {
      "text/html": [
       "<span style=\"white-space:pre; font-family: monospace\">0\n",
       "</span>"
      ]
     },
     "execution_count": 33,
     "metadata": {},
     "output_type": "execute_result"
    }
   ],
   "source": [
    "⍝ Here, (var<100) is FALSE, so no ∆F string message is produced. 0 is returned.\n",
    "  var←100\n",
    "  ⎕←(var<100) ∆F 'Warning! Variable \"var\" is out of expected range: var={var}'"
   ]
  },
  {
   "cell_type": "code",
   "execution_count": 34,
   "id": "defined-encoding",
   "metadata": {},
   "outputs": [
    {
     "data": {
      "text/html": [
       "<span style=\"white-space:pre; font-family: monospace\">Warning! Variable \"var\" is out of expected range: var=50\n",
       "</span>"
      ]
     },
     "execution_count": 34,
     "metadata": {},
     "output_type": "execute_result"
    },
    {
     "data": {
      "text/html": [
       "<span style=\"white-space:pre; font-family: monospace\">∆F returned 1\n",
       "</span>"
      ]
     },
     "execution_count": 34,
     "metadata": {},
     "output_type": "execute_result"
    }
   ],
   "source": [
    "⍝ Now, the assertion (var<100) is TRUE, so a ∆F string message is printed. 1 is returned.\n",
    "⍝ We'll show it explicitly, even though it is shy.\n",
    "  var←50\n",
    "  rc←(var<100) ∆F 'Warning! Variable \"var\" is out of expected range: var={var}'\n",
    "  '∆F returned',rc"
   ]
  },
  {
   "cell_type": "markdown",
   "id": "serial-latitude",
   "metadata": {},
   "source": [
    "## Library Routines for Users\n",
    "\n",
    "In addition to `$` and `$$`, ∆F provides access to several library routines for use in _Code_ fields. \n",
    "The library reference is passsed in ⍺. The routines are:\n",
    "\n",
    "      [opts] ⍺.FMTX obj\n",
    "         An extended ⎕FMT. Equivalent to $. See $ for details.\n",
    "      ⍺.DISP obj\n",
    "          Display obj using dfns.DISPLAY. Equivalent to $$. See $$ for details.\n",
    "      [opts] ⍺.DDISP obj\n",
    "          Display obj using dfns.DISPLAY, replacing blanks with a middle dot (·). See also the 'DEBUG' option.\n",
    "          If opts is specified, it must be a character scalar, which will replace blanks in the displayed \n",
    "          right argument ⍵.\n",
    "      [opts] ⍺.QT obj     \n",
    "          Place quotes around each row of obj. (⎕FMT will be applied to obj if not already a matrix). \n",
    "          If opts is omitted, the double quote (\") is assumed.\n",
    "          opts may be either 1 or 2 characters or 1 or 2 decimal numbers representing Unicode characters.\n",
    "          \n",
    "FMTX, DISP, and DDISP are used in addition by ∆FMT at runtime, if the COMPILE option is used.\n",
    "     \n",
    "##### QT: Surrounding objects with quotes or other single or paired delimiters."
   ]
  },
  {
   "cell_type": "code",
   "execution_count": 35,
   "id": "fleet-hypothetical",
   "metadata": {},
   "outputs": [
    {
     "data": {
      "text/html": [
       "<span style=\"white-space:pre; font-family: monospace\">\"0\"  «0»  «00»  «One  »\n",
       "\"1\"  «1»  «01»  «Three»\n",
       "\"2\"  «2»  «02»  «Five »\n",
       "</span>"
      ]
     },
     "execution_count": 35,
     "metadata": {},
     "output_type": "execute_result"
    }
   ],
   "source": [
    "guillemets ← '«»'     ⍝ guillemets: French-style quotes!\n",
    "gU←  171 187          ⍝ Unicode for «»\n",
    "∆F '{⍺.QT ⍪⍳3 ⍝ Default qts}  {guillemets ⍺.QT ⍪⍳3}  {gU ⍺.QT \"ZI2\" $ ⍳3}  {\"«»\" ⍺.QT ↑\"One\" \"Three\" \"Five\"}'"
   ]
  },
  {
   "cell_type": "markdown",
   "id": "departmental-rebel",
   "metadata": {},
   "source": [
    "***\n",
    "## <font color='red'>∆F Syntax</font>\n",
    "```\n",
    "Syntax:  result ← [ [ assertion | options ] ]  ∆F  format_string  [ arbitrary args ]\n",
    "\n",
    "  ⍺/assertion: ⍺ must be a simple numeric array. \"TRUE\" unless there is a 0 in the left arg.\n",
    "     - If TRUE, prints formatted result returning shy 1. Otherwise, does nothing, returning shy 0.\n",
    "     \n",
    "  ⍺/options: DEBUG | COMPILE | HELP | DEFAULT*         \n",
    "     - DEBUG: Displays each field separately using dfns \"DISPLAY\"\n",
    "       The abbrev 'DE' or 'D' denotes DEBUG. \n",
    "     - COMPILE: Returns a code string that can be converted to a dfn (executed via ⍎), \n",
    "        rather than scanned on each execution. \n",
    "        - The resulting dfn should have a dummy format ''. If a non-empty string, that\n",
    "          is treated as if the format string ⍵0.  \n",
    "        - If the resulting dfn is called with a left arg ⍺, \n",
    "          it must be an assertion (numeric array) and handled as above.\n",
    "     - HELP: Displays HELP documentation (⍵ ignored):   \n",
    "          ∆F⍨'HELP'\n",
    "     - DEFAULT: Returns a formatted 2-D array according to the format_string specified.\n",
    "              \n",
    "      * If ⍺ is omitted or ⍺≡'', option DEFAULT is assumed.\n",
    "        Options may be in either case and abbreviated.  \n",
    "       \n",
    "  format_string (0⊃⍵ in ⎕IO=0):\n",
    "     - Contains the simple format \"fields\" that include strings (text fields), code (code fields),  \n",
    "       and 2-D spacing (space fields). Code fields accommodate a shorthand using\n",
    "     - $ to do numeric formatting (via ⎕FMT) and justification and centering, as well as\n",
    "     - $$ to display fields or objects using dfns 'DISPLAY'.\n",
    "       \n",
    "  arbitrary args (1↓⍵):\n",
    "     - Optional arguments to be referenced in Code Fields. \n",
    "     - Shorthand in Code Fields\n",
    "             ⍹0 refers to 0⊃⍵, the ∆F format string.\n",
    "             ⍹1 refers to 1⊃⍵, the first \"user\" element.\n",
    "             ⍹N refers to N⊃⍵, the Nth \"user\" element (where N is a 1- or 2-digit number)\n",
    "             ⍹  by itself refers to the NEXT element, counting from left to right across all code fields.\n",
    "     - Variant elements: You may use ⍵0 for ⍹0, ⍵N for ⍹N, and ⍵_ for a ⍹ by itself.\n",
    "       Example: {⍹ ⍹5 ⍹ ⍹1}  {⍹ ⍹10 ⍹}  is the same as  {⍹1 ⍹5 ⍹6 ⍹1} {⍹2 ⍹10 ⍹11}.\n",
    "          \n",
    "  result:\n",
    "     - For an assertion, result is either a shy 1 (TRUE) or 0 (FALSE: at least one element of ⍺ was 0).\n",
    "       The final formatted object is printed (via ⎕←) if the result is TRUE.\n",
    "     - Otherwise, if DEFAULT formatting is specified (the option COMPILE is not used), result will be a matrix  \n",
    "       containing all the fields glued together.\n",
    "     - If the COMPILE option is specified, result will be a code string that can be executed to produce the\n",
    "       result either of an assertion (see above) or the DEFAULT formatting. It may be executed immediately  \n",
    "       via ⍎ or converted to a fn (via ⍎) once and then called, e.g. in an implicit or explicit loop. \n",
    "           myFormat←  ⍎'COMPILE' ∆F '...Something relating to variable <i>...'\n",
    "           :FOR i :in ⍳ 1E4\n",
    "              myFormat '' elem1 elem2 ...\n",
    "           :ENDFOR\n",
    "     - When called, the first (or only) element of the right argument must be '' (a dummy ∆F format string) or\n",
    "       an alternate format string (which ∆F might manipulate).\n",
    "     - In general  \n",
    "             (⍎ 'COMPILE'... ∆F ⍹0) '' [⍹1 ... ] <==>  ('DEFAULT' ... ∆F ⍹0 [⍹1 ... ]  \n",
    " ```"
   ]
  },
  {
   "cell_type": "code",
   "execution_count": null,
   "id": "1d6a5551",
   "metadata": {},
   "outputs": [],
   "source": []
  },
  {
   "cell_type": "code",
   "execution_count": null,
   "id": "ccb50535",
   "metadata": {},
   "outputs": [],
   "source": []
  }
 ],
 "metadata": {
  "kernelspec": {
   "display_name": "Dyalog APL",
   "language": "apl",
   "name": "dyalog-kernel"
  },
  "language_info": {
   "file_extension": ".apl",
   "mimetype": "text/apl",
   "name": "APL"
  }
 },
 "nbformat": 4,
 "nbformat_minor": 5
}
