{
 "cells": [
  {
   "cell_type": "markdown",
   "id": "technical-posting",
   "metadata": {},
   "source": [
    "# Getting Started with ∆F Strings for Formatting\n",
    "\n",
    "## Description\n",
    "__∆F__ is a utility for Dyalog APL that performs a function similar to string formatters in other languages, such as Python's f-strings, but with an _APL_ flair. "
   ]
  },
  {
   "cell_type": "markdown",
   "id": "numerical-glossary",
   "metadata": {},
   "source": [
    "## Outline\n",
    "* Getting Started\n",
    "* ∆F Fields\n",
    "  * Text Fields\n",
    "      * Newlines and Escapes\n",
    "  * Code Fields: Basics\n",
    "      * Simple Variables \n",
    "      * Code Fields Are DFNS\n",
    "      * Debug Mode\n",
    "      * DQ Strings \n",
    "      * Escapes\n",
    "  * Space Fields\n",
    "  * Code Fields: Advanced Topics\n",
    "      * Pseudo-Builtin \\$ for ⎕FMT formatting\n",
    "      * Pseudo-builtin $$ for a boxed display\n",
    "      * ∆F arguments: ⍹0, ⍹, etc.\n",
    "      * Justification and Centering with \\$: Beyond ⎕FMT specifications.\n",
    "      * Code Field namespace ⍺\n",
    "* Assertions with ∆F\n",
    "* ∆F Syntax\n",
    "\n",
    "## Getting Started\n",
    "<br>Let's get started!\n",
    "\n",
    "Let's be sure the file __∆Format.dyalog__ is accessible and loaded. When fixed, it creates a single function `∆F`."
   ]
  },
  {
   "cell_type": "code",
   "execution_count": 68,
   "id": "normal-stream",
   "metadata": {
    "scrolled": true
   },
   "outputs": [
    {
     "data": {
      "text/html": [
       "<span style=\"white-space:pre; font-family: monospace\">1. Does ∆Format.dyalog exist in this directory? Yes\n",
       "</span>"
      ]
     },
     "execution_count": 68,
     "metadata": {},
     "output_type": "execute_result"
    },
    {
     "data": {
      "text/html": [
       "<span style=\"white-space:pre; font-family: monospace\">2. Loading ∆Format.dyalog as: ∆Format  ∆F \n",
       "</span>"
      ]
     },
     "execution_count": 68,
     "metadata": {},
     "output_type": "execute_result"
    },
    {
     "data": {
      "text/html": [
       "<span style=\"white-space:pre; font-family: monospace\">3. ∆F utility now exists!\n",
       "</span>"
      ]
     },
     "execution_count": 68,
     "metadata": {},
     "output_type": "execute_result"
    }
   ],
   "source": [
    "⍝ '1. Our active directory is ',⎕SH 'pwd'\n",
    "'1. Does ∆Format.dyalog exist in this directory? ',(⎕NEXISTS '∆Format.dyalog')⊃'No' 'Yes'\n",
    "'2. Loading ∆Format.dyalog as:',(∪2 ⎕FIX 'file://∆Format.dyalog')\n",
    "'3. ∆F utility now exists!' '3. Whoops!' ⊃⍨3≠⎕NC '∆F'"
   ]
  },
  {
   "cell_type": "markdown",
   "id": "scenic-settlement",
   "metadata": {},
   "source": [
    "Before showing how ∆F works, let's create a couple of variables...<BR>\n",
    "Here are the vectors `string` and `numbers`:"
   ]
  },
  {
   "cell_type": "code",
   "execution_count": 69,
   "id": "statistical-albert",
   "metadata": {},
   "outputs": [],
   "source": [
    "string  ← 'This is a string'\n",
    "numbers ← 10 20"
   ]
  },
  {
   "cell_type": "markdown",
   "id": "strong-entrepreneur",
   "metadata": {},
   "source": [
    "We will display them using ∆F."
   ]
  },
  {
   "cell_type": "code",
   "execution_count": 70,
   "id": "patient-michael",
   "metadata": {},
   "outputs": [
    {
     "data": {
      "text/html": [
       "<span style=\"white-space:pre; font-family: monospace\">My string = \"This is a string\".  My numbers = 10 20.\n",
       "</span>"
      ]
     },
     "execution_count": 70,
     "metadata": {},
     "output_type": "execute_result"
    }
   ],
   "source": [
    "∆F 'My string = \"{string}\".  My numbers = {numbers}.'"
   ]
  },
  {
   "cell_type": "markdown",
   "id": "mediterranean-publication",
   "metadata": {},
   "source": [
    "We can do this more concisely using Self-documenting Code Fields, signified by the trailing right arrow (adjacent spaces are optional). We'll discuss them further below. \n",
    "_(Note: The symbol `➤` is a special right arrow that separates the literal code from its value.)_"
   ]
  },
  {
   "cell_type": "code",
   "execution_count": 71,
   "id": "listed-commitment",
   "metadata": {},
   "outputs": [
    {
     "data": {
      "text/html": [
       "<span style=\"white-space:pre; font-family: monospace\">string ➤ This is a string.  numbers ➤ 10 20\n",
       "</span>"
      ]
     },
     "execution_count": 71,
     "metadata": {},
     "output_type": "execute_result"
    }
   ],
   "source": [
    "∆F '{string → }.  {numbers → }'"
   ]
  },
  {
   "cell_type": "markdown",
   "id": "figured-designation",
   "metadata": {},
   "source": [
    "But, let's start at the __beginning__!\n",
    "\n",
    "## ∆F Fields\n",
    "###  Text Fields: `'A simple string'`\n",
    "The simplest possible format string-- we'll call it an __∆F__ string-- consists of a simple __Text__ field."
   ]
  },
  {
   "cell_type": "code",
   "execution_count": 72,
   "id": "august-application",
   "metadata": {},
   "outputs": [
    {
     "data": {
      "text/html": [
       "<span style=\"white-space:pre; font-family: monospace\">This is a simple string.\n",
       "</span>"
      ]
     },
     "execution_count": 72,
     "metadata": {},
     "output_type": "execute_result"
    }
   ],
   "source": [
    "∆F 'This is a simple string.'"
   ]
  },
  {
   "cell_type": "markdown",
   "id": "welsh-perth",
   "metadata": {},
   "source": [
    "#### Text Fields: Newlines and Escapes\n",
    "__Text__ fields can consist of one or more lines, each separated by the special newline escape sequence `\\⋄`. Using __Text__ fields this way is just one way to create a list of items or a multiline paragraph. ∆F always returns a character matrix of 0 or more rows."
   ]
  },
  {
   "cell_type": "code",
   "execution_count": 73,
   "id": "further-iceland",
   "metadata": {},
   "outputs": [
    {
     "data": {
      "text/html": [
       "<span style=\"white-space:pre; font-family: monospace\">This             \n",
       "is a             \n",
       "multiline string.\n",
       "</span>"
      ]
     },
     "execution_count": 73,
     "metadata": {},
     "output_type": "execute_result"
    }
   ],
   "source": [
    "∆F 'This\\⋄is a\\⋄multiline string.'"
   ]
  },
  {
   "cell_type": "markdown",
   "id": "unauthorized-hampton",
   "metadata": {},
   "source": [
    "You can insert most any Unicode character into a __Text__ field. Only four characters (with special meaning _described below_) require special treatment: \n",
    "\n",
    "`{`, `}`, `⋄`, and `\\`.  \n",
    "   \n",
    " A diamond `⋄` _not_ preceded by a backslash `\\` has no special meaning; only the escaped sequence `\\⋄` denotes a newline.  You'll see below that a bare `{` begins a __Code__ field, which is terminated by a balancing bare `}`. So, if you want to enter a left brace literal, escape it with \\\\, as here.\n",
    " \n"
   ]
  },
  {
   "cell_type": "code",
   "execution_count": 74,
   "id": "96a1fd54",
   "metadata": {},
   "outputs": [
    {
     "data": {
      "text/html": [
       "<span style=\"white-space:pre; font-family: monospace\">This is a diamond ⋄, an opening brace {, a closing brace }, and a backslash \\.\n",
       "</span>"
      ]
     },
     "execution_count": 74,
     "metadata": {},
     "output_type": "execute_result"
    }
   ],
   "source": [
    "∆F 'This is a diamond ⋄, an opening brace \\{, a closing brace \\}, and a backslash \\\\.' "
   ]
  },
  {
   "cell_type": "markdown",
   "id": "0b27ca53",
   "metadata": {},
   "source": [
    "Finally, literal backslashes only need to be escaped themselves (i.e. as `\\\\`) when right before a `⋄`, `{`, `}`, or another backslash `\\`. In other cases, such as `+\\⍳` no extra backslash is required."
   ]
  },
  {
   "cell_type": "code",
   "execution_count": 75,
   "id": "straight-twist",
   "metadata": {},
   "outputs": [
    {
     "data": {
      "text/html": [
       "<span style=\"white-space:pre; font-family: monospace\">\"We can sum the numbers ⍵ via +\\⍵\"\n",
       "</span>"
      ]
     },
     "execution_count": 75,
     "metadata": {},
     "output_type": "execute_result"
    },
    {
     "data": {
      "text/html": [
       "<span style=\"white-space:pre; font-family: monospace\">\"We can sum the numbers ⍵ via +\\⍵\"\n",
       "</span>"
      ]
     },
     "execution_count": 75,
     "metadata": {},
     "output_type": "execute_result"
    }
   ],
   "source": [
    "∆F '\"We can sum the numbers ⍵ via +\\⍵\"'\n",
    "∆F '\"We can sum the numbers ⍵ via +\\\\⍵\"'"
   ]
  },
  {
   "cell_type": "markdown",
   "id": "distant-audit",
   "metadata": {},
   "source": [
    "### Code Fields: Basics \n",
    "#### Code Fields: Simple Variables `'{lastName}, {firstName}'`\n",
    "Let's create a more useful example of ∆F strings using the following three variables. "
   ]
  },
  {
   "cell_type": "code",
   "execution_count": 76,
   "id": "inside-examination",
   "metadata": {},
   "outputs": [],
   "source": [
    "what←  'This'\n",
    "type←  'simple'\n",
    "thing← 'string'"
   ]
  },
  {
   "cell_type": "markdown",
   "id": "consistent-ordering",
   "metadata": {},
   "source": [
    "Within separate sets of curly braces `{..}`, which delimit a __Code__ field, we include the three variable names: `what`, `type`, and `thing`. We'll say more about __Code__ fields in a moment."
   ]
  },
  {
   "cell_type": "code",
   "execution_count": 77,
   "id": "restricted-exception",
   "metadata": {},
   "outputs": [
    {
     "data": {
      "text/html": [
       "<span style=\"white-space:pre; font-family: monospace\">This is a simple string.\n",
       "</span>"
      ]
     },
     "execution_count": 77,
     "metadata": {},
     "output_type": "execute_result"
    }
   ],
   "source": [
    "∆F '{what} is a {type} {thing}.'"
   ]
  },
  {
   "cell_type": "markdown",
   "id": "opponent-frequency",
   "metadata": {},
   "source": [
    "#### Knowing Your Fields\n",
    "This ∆F string consists of six fields: \n",
    "   1. a __Code__ field `{what}`, which returns the value of the variable `what`; \n",
    "   2. a __Text__ field `\" is a \"`;\n",
    "   3. another __Code__ field `{type}`, returning the value of the variable `type`;\n",
    "   4. a short __Text__ field `\" \"`; \n",
    "   5. a __Code__ field `{thing}`, referencing `thing`; and finally,\n",
    "   6. a final __Text__ field `\".\"`.\n",
    "\n",
    "#### Debug Mode: `'debug'`\n",
    "We can show each of the fields more graphically using the _debug_ option (abbreviated _d_), which places each field in a separate display box and marks each space in each field by a middle dot `·`."
   ]
  },
  {
   "cell_type": "code",
   "execution_count": 78,
   "id": "proud-tomorrow",
   "metadata": {},
   "outputs": [
    {
     "data": {
      "text/html": [
       "<span style=\"white-space:pre; font-family: monospace\">┌→───┐┌→─────┐┌→─────┐┌→┐┌→─────┐┌→┐\n",
       "↓This│↓·is·a·│↓simple│↓·│↓string│↓.│\n",
       "└────┘└──────┘└──────┘└─┘└──────┘└─┘\n",
       "</span>"
      ]
     },
     "execution_count": 78,
     "metadata": {},
     "output_type": "execute_result"
    }
   ],
   "source": [
    "'d' ∆F '{what} is a {type} {thing}.'"
   ]
  },
  {
   "cell_type": "markdown",
   "id": "blind-singing",
   "metadata": {},
   "source": [
    "#### Code Fields Are DFNS: `'{⍪⍳3} {↑\"Name\" \"Addr\" \"Phone\"}'`\n",
    "As shown above, in addition to __Text__ fields, we can create executable __Code__ fields, using braces {...}. A __Code__ field with a bare variable names is the simplest type of __Code__ field.\n",
    "\n",
    "__Code__ fields can be generalized as dfns* evaluated in the active (caller's) namespace. While each __Code__ field is executed via ordinary APL rules (statements left-to-right and right-to-left within statements), __Code__ fields within a `∆F` format string are themselves executed left-to-right: \n",
    "\n",
    "     the left-most Code field is executed first, then the one to its right, and so on.\n",
    "     \n",
    "Each __Code__ field _must_ return a value (perhaps a null string). \n",
    "\n",
    "A Code field may end with a comment, which starts with a lamp `⍝` and contain no braces or ⋄. \n",
    "\n",
    "For example:"
   ]
  },
  {
   "cell_type": "code",
   "execution_count": 79,
   "id": "green-insurance",
   "metadata": {},
   "outputs": [
    {
     "data": {
      "text/html": [
       "<span style=\"white-space:pre; font-family: monospace\">0.3027270488\n",
       "</span>"
      ]
     },
     "execution_count": 79,
     "metadata": {},
     "output_type": "execute_result"
    }
   ],
   "source": [
    "∆F '{ ?0  ⍝ A random number ⍵: 0<⍵<1 }'"
   ]
  },
  {
   "cell_type": "markdown",
   "id": "environmental-prince",
   "metadata": {},
   "source": [
    "Let's look at more complex examples. First, what if a variable itself is more than a simple one-line text string? Unlike format strings in other languages, __`∆F`__ __strings__ handle multi-dimensional objects the _APL way_!"
   ]
  },
  {
   "cell_type": "code",
   "execution_count": 80,
   "id": "rocky-hygiene",
   "metadata": {},
   "outputs": [
    {
     "data": {
      "text/html": [
       "<span style=\"white-space:pre; font-family: monospace\">0 This            is a simple    string     \n",
       "1 That                 hard      matrix     \n",
       "2 The other thing      confusing thingamabob\n",
       "</span>"
      ]
     },
     "execution_count": 80,
     "metadata": {},
     "output_type": "execute_result"
    }
   ],
   "source": [
    "nums←  ⍪⍳3\n",
    "what←  ↑'This' 'That' 'The other thing'  \n",
    "type←  ↑'simple' 'hard' 'confusing'\n",
    "thing← ↑'string' 'matrix' 'thingamabob'\n",
    "∆F '{nums} {what} is a {type} {thing}'"
   ]
  },
  {
   "cell_type": "markdown",
   "id": "corresponding-specialist",
   "metadata": {},
   "source": [
    "Here, `num` is a column vector of integers, and `what`, `type` and `thing` are character matrices. Any object that can be formatted via Dyalog `⎕FMT` can be returned from a __Code__ field."
   ]
  },
  {
   "cell_type": "markdown",
   "id": "fatal-bangkok",
   "metadata": {},
   "source": [
    "Now for a more complex example: you can place arbitrary APL code within the braces `{...}` of a __Code__ field. \n",
    "\n",
    "In the example below, we'll remove the ↑ prefix from the values of each of the three variables above. Notice how we insert a period after each word of the variable `thing` and create a quoted string using double quotes: `{ ↑thing,¨\".\" }` Such a string is called a __DQ String__ and appears only within __Code__ fields. (We'll say more about __DQ Strings__ in a moment.)"
   ]
  },
  {
   "cell_type": "code",
   "execution_count": 81,
   "id": "creative-novelty",
   "metadata": {},
   "outputs": [
    {
     "data": {
      "text/html": [
       "<span style=\"white-space:pre; font-family: monospace\">0  This            is a simple    string.     \n",
       "1  That                 hard      matrix.     \n",
       "2  The other thing      confusing thingamabob.\n",
       "</span>"
      ]
     },
     "execution_count": 81,
     "metadata": {},
     "output_type": "execute_result"
    }
   ],
   "source": [
    "what←'This' 'That' 'The other thing'\n",
    "type←'simple' 'hard' 'confusing'\n",
    "thing←'string' 'matrix' 'thingamabob'\n",
    "∆F '{ ⍪⍳≢what }  { ↑what } is a { ↑type } { ↑thing,¨\".\" }'     "
   ]
  },
  {
   "cell_type": "markdown",
   "id": "further-workplace",
   "metadata": {},
   "source": [
    "#### DQ Strings in Code Fields: Use `\"These\"` _not_ `'These'`\n",
    "Within __Code__ fields, strings *require* double quotes (`\"`). These __DQ strings__ `\"like this one\"` are used wherever single-quoted strings `'like this'` would be used in standard APL; single-quoted strings are ***not*** used in `∆F` __strings__. Single quotes *may* appear, most usually as literal characters, rather than to create strings.\n",
    "\n",
    "#### DQ Strings: Escapes  `\\⋄` \n",
    "__DQ Strings__ support the escaped sequences `\\⋄` and `\\\\`. `\\⋄` is a convenient way to enter newlines (actually ⎕UCS 13, the carriage return character) into linear strings (APL character vectors). When the `∆F` _string_ is printed, newlines will create separate _rows_ in the output matrix. <br>(Note: Unlike __Text__ fields, __DQ Strings__ in __Code__ fields do not require or allow braces to be escaped: braces are ordinary characters inside __DQ Strings__.)\n",
    "\n",
    "To include an actual double quote within a __DQ String__, double the doublequote (`\"\"`), just as one would for _single_ quotes in standard APL strings. (As always, APL of course requires single quotes within character strings to be doubled on entry). Notice how the string below is a 3-row matrix, one row for each line of the __DQ String__."
   ]
  },
  {
   "cell_type": "code",
   "execution_count": 82,
   "id": "acknowledged-texas",
   "metadata": {},
   "outputs": [
    {
     "data": {
      "text/html": [
       "<span style=\"white-space:pre; font-family: monospace\">This              \n",
       "is a \"DQ\" example,\n",
       "isn't it?         \n",
       "# rows: 3\n",
       "</span>"
      ]
     },
     "execution_count": 82,
     "metadata": {},
     "output_type": "execute_result"
    }
   ],
   "source": [
    "⍝                   Row 1 Row 2 Row 3...\n",
    "'# rows:', ≢⎕← ∆F '{\"This\\⋄is a \"\"DQ\"\" example,\\⋄isn''t it?\"}'"
   ]
  },
  {
   "cell_type": "markdown",
   "id": "elegant-deployment",
   "metadata": {},
   "source": [
    "### Space Fields: `{  }`\n",
    "The third and last field type is a <b>Space</b> field, which looks just like a <b>Code</b> field, except that it contains only zero or more spaces between the braces { }. _A space field forms a separate field and is a good way to separate Text fields._ \n",
    "\n",
    " A space fields may include a comment, which starts with a lamp `⍝` and contains no braces; the comment ends just before the right brace `}`.\n",
    " \n",
    " For example:"
   ]
  },
  {
   "cell_type": "code",
   "execution_count": 83,
   "id": "initial-correlation",
   "metadata": {},
   "outputs": [
    {
     "data": {
      "text/html": [
       "<span style=\"white-space:pre; font-family: monospace\">1     3.141592654\n",
       "2     6.283185307\n",
       "3     9.424777961\n",
       "</span>"
      ]
     },
     "execution_count": 83,
     "metadata": {},
     "output_type": "execute_result"
    },
    {
     "data": {
      "text/html": [
       "<span style=\"white-space:pre; font-family: monospace\">┌→┐┌→────┐┌→──────────┐\n",
       "↓1│↓·····│↓3.141592654│\n",
       "│2│└─────┘│6.283185307│\n",
       "│3│       │9.424777961│\n",
       "└─┘       └───────────┘\n",
       "</span>"
      ]
     },
     "execution_count": 83,
     "metadata": {},
     "output_type": "execute_result"
    }
   ],
   "source": [
    "    ∆F '{⍪1 2 3}{     ⍝ 5 spaces }{⍪○1 2 3}'     \n",
    "'d' ∆F '{⍪1 2 3}{     ⍝ 5 spaces }{⍪○1 2 3}' "
   ]
  },
  {
   "cell_type": "code",
   "execution_count": 84,
   "id": "dietary-sunset",
   "metadata": {},
   "outputs": [
    {
     "data": {
      "text/html": [
       "<span style=\"white-space:pre; font-family: monospace\">This is a test.\n",
       "</span>"
      ]
     },
     "execution_count": 84,
     "metadata": {},
     "output_type": "execute_result"
    },
    {
     "data": {
      "text/html": [
       "<span style=\"white-space:pre; font-family: monospace\">┌→──────┐┌→┐┌→──────┐\n",
       "↓This·is│↓·│↓a·test.│\n",
       "└───────┘└─┘└───────┘\n",
       "</span>"
      ]
     },
     "execution_count": 84,
     "metadata": {},
     "output_type": "execute_result"
    }
   ],
   "source": [
    "    ∆F 'This is{ }a test.'\n",
    "'d' ∆F 'This is{ }a test.'"
   ]
  },
  {
   "cell_type": "markdown",
   "id": "greek-danger",
   "metadata": {},
   "source": [
    "But why bother with space fields at all? \n",
    "- They are useful when separating one multiline strings or code field from the next; even a zero-width space field can separate two __Text__ fields; and \n",
    "- They ensure the expected amount of spacing when preceded or followed by text fields with lines of varying length.\n",
    "\n",
    "Here's an example of two multiline __Text__ field separated by a __Space__ field with a single space: { }."
   ]
  },
  {
   "cell_type": "code",
   "execution_count": 85,
   "id": "outer-atlanta",
   "metadata": {},
   "outputs": [
    {
     "data": {
      "text/html": [
       "<span style=\"white-space:pre; font-family: monospace\">This      This    \n",
       "is a      is      \n",
       "multiline as well!\n",
       "field!            \n",
       "</span>"
      ]
     },
     "execution_count": 85,
     "metadata": {},
     "output_type": "execute_result"
    },
    {
     "data": {
      "text/html": [
       "<span style=\"white-space:pre; font-family: monospace\">┌→────────┐┌→┐┌→───────┐\n",
       "↓This·····│↓·│↓This····│\n",
       "│is·a·····│└─┘│is······│\n",
       "│multiline│   │as·well!│\n",
       "│field!···│   └────────┘\n",
       "└─────────┘             \n",
       "</span>"
      ]
     },
     "execution_count": 85,
     "metadata": {},
     "output_type": "execute_result"
    }
   ],
   "source": [
    "    ∆F 'This\\⋄is a\\⋄multiline\\⋄field!{ ⍝ 1 Space}{\"This\\⋄is\\⋄as well!\"}'\n",
    "'d' ∆F 'This\\⋄is a\\⋄multiline\\⋄field!{ ⍝ 1 Space}{\"This\\⋄is\\⋄as well!\"}'"
   ]
  },
  {
   "cell_type": "markdown",
   "id": "oriented-bristol",
   "metadata": {},
   "source": [
    "In this next example, we use a zero-width __Space__ field simply to allow us to create two independent __Text__ fields:"
   ]
  },
  {
   "cell_type": "code",
   "execution_count": 86,
   "id": "german-trout",
   "metadata": {},
   "outputs": [
    {
     "data": {
      "text/html": [
       "<span style=\"white-space:pre; font-family: monospace\">1. Jane \n",
       "2. John \n",
       "3. Nancy\n",
       "</span>"
      ]
     },
     "execution_count": 86,
     "metadata": {},
     "output_type": "execute_result"
    }
   ],
   "source": [
    "∆F '1. \\⋄2.\\⋄3.{}Jane\\⋄John\\⋄Nancy'   "
   ]
  },
  {
   "cell_type": "markdown",
   "id": "professional-latter",
   "metadata": {},
   "source": [
    "This is equivalent, with an explicit Space field of length 1.\n",
    "```   \n",
    " ∆F '1.\\⋄2.\\⋄3.{ }Jane\\⋄John\\⋄Nancy'\n",
    "```\n",
    "\n",
    "### Code Fields: Advanced Topics\n",
    "#### Pseudo-builtin `$`\n",
    "Here's how to do this more elegantly using the pseudo-builtin `$`, which is a nice way to use the Dyalog APL formatting utility `⎕FMT`. "
   ]
  },
  {
   "cell_type": "code",
   "execution_count": 87,
   "id": "agricultural-short",
   "metadata": {},
   "outputs": [
    {
     "data": {
      "text/html": [
       "<span style=\"white-space:pre; font-family: monospace\">1. Jane \n",
       "2. John \n",
       "3. Nancy\n",
       "</span>"
      ]
     },
     "execution_count": 87,
     "metadata": {},
     "output_type": "execute_result"
    }
   ],
   "source": [
    "∆F '{\"I1,⊂. ⊃\" $ 1+⍳3}Jane\\⋄John\\⋄Nancy'"
   ]
  },
  {
   "cell_type": "markdown",
   "id": "unlimited-sport",
   "metadata": {},
   "source": [
    "Now, let's move on to a few more examples."
   ]
  },
  {
   "cell_type": "code",
   "execution_count": 88,
   "id": "aware-infrastructure",
   "metadata": {},
   "outputs": [
    {
     "data": {
      "text/html": [
       "<span style=\"white-space:pre; font-family: monospace\">Multiples of pi: 1×π =  3.1415927\n",
       "                 2×π =  6.2831853\n",
       "                 3×π =  9.4247780\n",
       "                 4×π = 12.5663706\n",
       "</span>"
      ]
     },
     "execution_count": 88,
     "metadata": {},
     "output_type": "execute_result"
    }
   ],
   "source": [
    "∆F 'Multiples of pi: {\"I1,⊂×π =⊃\" $ 1+⍳4} {\"F10.7\" $ ○1 2 3 4}'"
   ]
  },
  {
   "cell_type": "markdown",
   "id": "hourly-electron",
   "metadata": {},
   "source": [
    "Again, using the *debug* option, we can see exactly what fields are set up."
   ]
  },
  {
   "cell_type": "code",
   "execution_count": 89,
   "id": "grave-bolivia",
   "metadata": {},
   "outputs": [
    {
     "data": {
      "text/html": [
       "<span style=\"white-space:pre; font-family: monospace\">┌→────────────────┐┌→────┐┌→┐┌→─────────┐\n",
       "↓Multiples·of·pi:·│↓1×π·=│↓·│↓·3.1415927│\n",
       "└─────────────────┘│2×π·=│└─┘│·6.2831853│\n",
       "                   │3×π·=│   │·9.4247780│\n",
       "                   │4×π·=│   │12.5663706│\n",
       "                   └─────┘   └──────────┘\n",
       "</span>"
      ]
     },
     "execution_count": 89,
     "metadata": {},
     "output_type": "execute_result"
    }
   ],
   "source": [
    "'d' ∆F 'Multiples of pi: {\"I1,⊂×π =⊃\" $ 1+⍳4} {\"F10.7\" $ ○1 2 3 4}'"
   ]
  },
  {
   "cell_type": "markdown",
   "id": "formal-friendly",
   "metadata": {},
   "source": [
    "#### Pseudo-Function $$ for a boxed display\n",
    "If we want a __Code__ field to be boxed in the regular output, we can use the pseudo-builtin display function __\\$\\$__. By default (no left argument or a left-argument of 0), no middle dots (·) appear with \\$\\$. If you want middle dots to appear in place of spaces, you must provide a left argument of 1."
   ]
  },
  {
   "cell_type": "code",
   "execution_count": 90,
   "id": "central-villa",
   "metadata": {},
   "outputs": [
    {
     "data": {
      "text/html": [
       "<span style=\"white-space:pre; font-family: monospace\"> Default (Spaces)   With Middle Dots \n",
       "  ┌→──────────┐      ┌→──────────┐   \n",
       "  ↓Nina       │      ↓Nina·······│   \n",
       "  │Pinta      │      │Pinta······│   \n",
       "  │Santa Maria│      │Santa·Maria│   \n",
       "  └───────────┘      └───────────┘   \n",
       "</span>"
      ]
     },
     "execution_count": 90,
     "metadata": {},
     "output_type": "execute_result"
    }
   ],
   "source": [
    "boats ← (↑'Nina' 'Pinta' 'Santa Maria')  \n",
    "title←⊂∆F 'Default (Spaces){}   With Middle Dots'\n",
    "⍪title,⊂∆F ' { $$ ⍵1}      { 1 $$ ⍵1 }' boats      ⍝ Hold on! We explain ⍵1 just below."
   ]
  },
  {
   "cell_type": "markdown",
   "id": "mobile-bullet",
   "metadata": {},
   "source": [
    "#### ∆F Code field arguments:  `⍹0` ... `⍹99` and `⍹`   (or `⍵0` ... `⍵99` and `⍵_`)\n",
    "∆F supports the use of arguments to __∆F__, including the `∆F` format string itself.  The format string is designated `⍹0`, and each subsequent argument is `⍹1`, `⍹2`, etc. The character ⍹ (omega underscore) is `⎕UCS 9081`; if ⍹ is not handy, you may use a simple omega this way: `⍵0`, `⍵1`, etc. are equivalents to `⍹0`, `⍹1`, etc. and `⍵_` for `⍹` alone. \\[Note the underscore _after_ the bare __omega__ ⍵ in `⍵_`, representing __omega underscore__ `⍹`]. \n",
    "_\n",
    "These designations can be used in place of `(⍵⊃⍨0+⎕IO)`, et cetera, within __Code__ fields:"
   ]
  },
  {
   "cell_type": "code",
   "execution_count": 91,
   "id": "curious-blame",
   "metadata": {},
   "outputs": [
    {
     "data": {
      "text/html": [
       "<span style=\"white-space:pre; font-family: monospace\">3 multiples of pi: 1×π =  3.1415927\n",
       "                   2×π =  6.2831853\n",
       "                   3×π =  9.4247780\n",
       "</span>"
      ]
     },
     "execution_count": 91,
     "metadata": {},
     "output_type": "execute_result"
    },
    {
     "data": {
      "text/html": [
       "<span style=\"white-space:pre; font-family: monospace\">2 multiples of pi: 1×π =  3.1415927\n",
       "                   2×π =  6.2831853\n",
       "</span>"
      ]
     },
     "execution_count": 91,
     "metadata": {},
     "output_type": "execute_result"
    }
   ],
   "source": [
    "∆F '{⍹1} multiples of pi: {\"I1,⊂×π =⊃\" $ 1+⍳⍹1 } {\"F10.7\" $ ○ 1+⍳⍹1}'  3  \n",
    "∆F '{⍹1} multiples of pi: {\"I1,⊂×π =⊃\" $ 1+⍳⍹1 } {\"F10.7\" $ ○ 1+⍳⍹1}'  2  "
   ]
  },
  {
   "cell_type": "markdown",
   "id": "bound-alloy",
   "metadata": {},
   "source": [
    "The symbol ∆F `⍹` alone will select the **next** argument in sequence (one past the **current** argument, which  is the last one selected directly, e.g. `⍹5`, via `⍹`, or `⍹0` if the first use). This makes it easy to format a set of items: "
   ]
  },
  {
   "cell_type": "code",
   "execution_count": 92,
   "id": "listed-permit",
   "metadata": {},
   "outputs": [
    {
     "data": {
      "text/html": [
       "<span style=\"white-space:pre; font-family: monospace\">Rate:  2.20%; cur. value: £1000.23\n",
       "       3.83%              £2250.19\n",
       "       6.00%              £2500.87\n",
       "</span>"
      ]
     },
     "execution_count": 92,
     "metadata": {},
     "output_type": "execute_result"
    }
   ],
   "source": [
    "∆F 'Rate: {⍹ $ ⍹}; cur. value: {⍹ $ ⍹}' 'F5.2,⊂%⊃' (2.200 3.834 5.996) '⊂£⊃,F7.2' (1000.23, 2250.19 2500.868)"
   ]
  },
  {
   "cell_type": "markdown",
   "id": "critical-phone",
   "metadata": {},
   "source": [
    "Note also that `⍹0` can never be selected via the lone `⍹` (as the _next_ ⍵ argument), since the *last* index specified is never less than 0, so the *next* is never less than 1. In short, if you want `⍹0`, you type it explicitly!"
   ]
  },
  {
   "cell_type": "markdown",
   "id": "stunning-basic",
   "metadata": {},
   "source": [
    "#### Pseudo-Function `$`: Justification and Centering Codes  _L_, _C_, _R_   \n",
    "The pseudo-function `$` has been extended with 3 special codes (`nn` is a 1- or 2-digit number) for \n",
    "\n",
    "    VECTORS IN ⍵ TREATED AS COLUMN VECTORS\n",
    "     TYPE                   CODE    \n",
    "     left-justified text:   Lnn     \n",
    "     centered text:         Cnn     \n",
    "     right-justified text:  Rnn      \n",
    "     \n",
    "within a **Code** field. This is valid for both *numeric* and *text* data.  Only one special code may be used in each `$` call (but you may call $ itself more than once) and that code must be the *first* or *only* code specified. If other (usually numerically-oriented) codes  follow, a comma must intervene (following the conventions of dyadic `⎕FMT`).\n",
    "\n",
    "Here, we *left-, center-*, and *right-*justify Names in the ∆F arguments."
   ]
  },
  {
   "cell_type": "code",
   "execution_count": 93,
   "id": "ordered-methodology",
   "metadata": {},
   "outputs": [
    {
     "data": {
      "text/html": [
       "<span style=\"white-space:pre; font-family: monospace\">&lt;John      &gt; &lt;   John   &gt; &lt;      John&gt;\n",
       " Mary            Mary            Mary \n",
       "</span>"
      ]
     },
     "execution_count": 93,
     "metadata": {},
     "output_type": "execute_result"
    }
   ],
   "source": [
    "    names←↑'John' 'Mary'\n",
    "    ∆F '<{\"L10\" $ ⍵1}> <{\"C10\" $ ⍵1}> <{\"R10\" $ ⍵1}>' names  "
   ]
  },
  {
   "cell_type": "code",
   "execution_count": 94,
   "id": "literary-endorsement",
   "metadata": {},
   "outputs": [
    {
     "data": {
      "text/html": [
       "<span style=\"white-space:pre; font-family: monospace\">┌→┐┌→─────────┐┌→──┐┌→─────────┐┌→──┐┌→─────────┐┌→┐\n",
       "↓&lt;│↓John······│↓&gt;·&lt;│↓···John···│↓&gt;·&lt;│↓······John│↓&gt;│\n",
       "└─┘│Mary······│└───┘│···Mary···│└───┘│······Mary│└─┘\n",
       "   └──────────┘     └──────────┘     └──────────┘   \n",
       "</span>"
      ]
     },
     "execution_count": 94,
     "metadata": {},
     "output_type": "execute_result"
    }
   ],
   "source": [
    "'d'  ∆F '<{\"L10\" $ ⍵1}> <{\"C10\" $ ⍵1}> <{\"R10\" $ ⍵1}>' names  "
   ]
  },
  {
   "cell_type": "markdown",
   "id": "handled-hamburg",
   "metadata": {},
   "source": [
    "#### Pseudo-function `$`: Justification and Centering Codes _l_, _c_, _r_  <br>Vector arg treated as _1-Row Matrix_ __vs__ _Column Vector_\n",
    "Like standard ⎕FMT, `$` _by default_ considers simple vectors in the code field as column vectors (as in the example above). This is true even for the extensions `L`, `C`, and `R`. However, you can override this, by specifying justification codes in lower case (`nn` is a 1- or 2-digit number):\n",
    "\n",
    "    VECTORS IN ⍵ TREATED AS 1-ROW MATRICES \n",
    "     TYPE                   CODE   \n",
    "     left-justified text    lnn      (lower-case \"l\") \n",
    "     centered text          cnn     \n",
    "     right-justified text   rnn    \n",
    "\n",
    "If these are used, simple vectors in the code field used as arguments to `$` are treated as 1-row matrices instead. \n",
    "- Right arguments that are not simple or are not a numeric or character vector are not impacted.\n",
    "\n",
    "Here, `\"c0\"` (or `\"l0\"` or `\"r0\"`) formatting with `$` ensures a simple vector right argument (numeric or character) is treated as a 1-row matrix. Similarly, `\"C0\"` (or `\"L0\"` or `\"R0\"`) formatting with `$` ensures a simple vector right argument (numeric or character) is treated as a column vector, even if no standard ⎕FMT codes are used. \n",
    "- The code `\"c0\"` or `\"C0\"` works because justification and centering codes ensure a __minimum__ width, never truncating."
   ]
  },
  {
   "cell_type": "code",
   "execution_count": 95,
   "id": "lined-probability",
   "metadata": {},
   "outputs": [
    {
     "data": {
      "text/html": [
       "<span style=\"white-space:pre; font-family: monospace\">For n∊1 2 3, nπ = 3.141592654 6.283185307 9.424777961.   1π =  3.141592654\n",
       "                                                         2π =  6.283185307\n",
       "                                                         3π =  9.424777961\n",
       "</span>"
      ]
     },
     "execution_count": 95,
     "metadata": {},
     "output_type": "execute_result"
    }
   ],
   "source": [
    "∆F 'For n∊1 2 3, nπ = { \"c0\" $ ○ ⍵1 }.   {\"I1,⊂π = ⊃\" $ ⍵1} { \"C0\" $ ○⍵1 }' (1 2 3)"
   ]
  },
  {
   "cell_type": "markdown",
   "id": "hollow-triangle",
   "metadata": {},
   "source": [
    "#### Code Fields:  Namespace `⍺`\n",
    "For **Code** fields, **∆F** passes a special namespace as the left argument `⍺`. That namespace contains all the support functions and variables for **∆F**. Names beginning with an underscore `_` (e.g. `_`, `__`, `_myVar`, ...) are reserved for the application user (you). One potential use is setting state that is maintained across all **Code** fields (left to right) during the execution of **∆F**, without cluttering the calling environment:"
   ]
  },
  {
   "cell_type": "code",
   "execution_count": 96,
   "id": "executed-airline",
   "metadata": {},
   "outputs": [
    {
     "data": {
      "text/html": [
       "<span style=\"white-space:pre; font-family: monospace\">3.141592654 6.283185307\n",
       "</span>"
      ]
     },
     "execution_count": 96,
     "metadata": {},
     "output_type": "execute_result"
    }
   ],
   "source": [
    "∆F '{⍺._PITimes←(○1)∘× ⋄ ⍺._PITimes 1} {⍺._PITimes 2}' "
   ]
  },
  {
   "cell_type": "code",
   "execution_count": 97,
   "id": "personal-spoke",
   "metadata": {},
   "outputs": [
    {
     "data": {
      "text/html": [
       "<span style=\"white-space:pre; font-family: monospace\">To 34 digits, Pi=3.141592653589793238462643383279503\n",
       "</span>"
      ]
     },
     "execution_count": 97,
     "metadata": {},
     "output_type": "execute_result"
    },
    {
     "data": {
      "text/html": [
       "<span style=\"white-space:pre; font-family: monospace\"> ⎕FR still 645? Yes.       ⎕PP still  10? Yes. \n",
       "</span>"
      ]
     },
     "execution_count": 97,
     "metadata": {},
     "output_type": "execute_result"
    }
   ],
   "source": [
    "⎕FR←645 ⋄ ⎕PP ←10\n",
    "∆F 'To 34 digits, Pi={⍺._sav←⎕FR ⎕PP⋄⎕FR ⎕PP∘←1287 34⋄\"\"}{ans←$ ○1 ⋄ ⎕FR ⎕PP∘←⍺._sav ⋄ ans}'\n",
    "('⎕FR still 645? ',(⎕FR=645)⊃'No.' 'Yes.')'   ' ('⎕PP still  10? ',(⎕PP=10) ⊃'No.' 'Yes.')"
   ]
  },
  {
   "cell_type": "markdown",
   "id": "reliable-flooring",
   "metadata": {},
   "source": [
    "## ∆F for assertions.\n",
    "Normally, ∆F returns the formatted text as a single formatted matrix (rank 2).\n",
    "<br>If the left argument (⍺) to ∆F is a homogeneous numeric array, it is viewed as an assertion.\n",
    "  * If the assertion contains _no numeric zeroes_, it is considered __true__. It **prints** the formatted text, returning a shy _1_. (It does _not_ return the formatted text, as in _format_ mode.)\n",
    "  * If the assertion contains one or more zeroes, it is considered __false__. It does nothing, returning a shy _0_."
   ]
  },
  {
   "cell_type": "code",
   "execution_count": 98,
   "id": "general-check",
   "metadata": {},
   "outputs": [
    {
     "data": {
      "text/html": [
       "<span style=\"white-space:pre; font-family: monospace\">0\n",
       "</span>"
      ]
     },
     "execution_count": 98,
     "metadata": {},
     "output_type": "execute_result"
    }
   ],
   "source": [
    "⍝ Here, (var<100) is FALSE, so no ∆F string message is produced. 0 is returned.\n",
    "var←100\n",
    "⎕←(var<100) ∆F 'Warning! Variable \"var\" is out of expected range: var={var}'\n"
   ]
  },
  {
   "cell_type": "code",
   "execution_count": 99,
   "id": "defined-encoding",
   "metadata": {},
   "outputs": [
    {
     "data": {
      "text/html": [
       "<span style=\"white-space:pre; font-family: monospace\">Warning! Variable \"var\" is out of expected range: var=50\n",
       "1\n",
       "</span>"
      ]
     },
     "execution_count": 99,
     "metadata": {},
     "output_type": "execute_result"
    }
   ],
   "source": [
    "⍝ Now, the assertion (var<100) is TRUE, so a ∆F string message is printed. 1 is returned.\n",
    "⍝ We'll show it explicitly, even though it is shy.\n",
    "var←50\n",
    "⎕←(var<100) ∆F 'Warning! Variable \"var\" is out of expected range: var={var}'"
   ]
  },
  {
   "cell_type": "markdown",
   "id": "serial-latitude",
   "metadata": {},
   "source": [
    "## Library Routines for Users\n",
    "\n",
    "In addition to `$` and `$$`, ∆F provides access to several library routines for use in _Code_ fields. \n",
    "The library reference is passsed in ⍺. The routines are:\n",
    "\n",
    "      [⍺] FMTX ⍵\n",
    "         An extended ⎕FMT. Equivalent to $\n",
    "      DISP ⍵\n",
    "          Display ⍵ using dfns.DISPLAY. Equivalent to $$.\n",
    "      [⍺] DDISP ⍵\n",
    "          Display ⍵ using dfns.DISPLAY, replacing blanks with a middle dot (·). See also the 'DEBUG' option.\n",
    "          If ⍺ is specified, it must be a character scalar, which will replace blanks in the displayed \n",
    "          right argument ⍵.\n",
    "      [⍺] QT ⍵     \n",
    "          Place quotes around each row of ⍵. (⎕FMT will be applied to ⍵ if not already a matrix). \n",
    "          If ⍺ is omitted, the double quote (\") is assumed.\n",
    "          ⍺ may be either 1 or 2 characters or 1 or 2 decimal unicode numbers.\n",
    "     \n",
    "##### QT: Placing quotes\n"
   ]
  },
  {
   "cell_type": "code",
   "execution_count": 101,
   "id": "fleet-hypothetical",
   "metadata": {},
   "outputs": [
    {
     "data": {
      "text/html": [
       "<span style=\"white-space:pre; font-family: monospace\">\"0\"  «0»  «00»  «One  »\n",
       "\"1\"  «1»  «01»  «Three»\n",
       "\"2\"  «2»  «02»  «Five »\n",
       "</span>"
      ]
     },
     "execution_count": 101,
     "metadata": {},
     "output_type": "execute_result"
    }
   ],
   "source": [
    "guillemet ← '«»'     ⍝ Used in French, etc.\n",
    "gU←  171 187         ⍝ Unicode for «»\n",
    "∆F '{⍺.QT ⍪⍳3 ⍝ Default qts}  {guillemet ⍺.QT ⍪⍳3}  {gU ⍺.QT \"ZI2\" $ ⍳3}  {\"«»\" ⍺.QT ↑\"One\" \"Three\" \"Five\"}'"
   ]
  },
  {
   "cell_type": "markdown",
   "id": "departmental-rebel",
   "metadata": {},
   "source": [
    "## ∆F Syntax\n",
    "```\n",
    "Syntax:  [assertion | options] ∆F format_string [arbitrary args]\n",
    "\n",
    "  ⍺/assertion: ⍺ must be a simple numeric array. \"TRUE\" unless there is a 0 in the left arg.\n",
    "     ∘ If TRUE, prints formatted result returning shy 1. Otherwise, does nothing, returning shy 0.\n",
    "     \n",
    "  ⍺/options: DEBUG | COMPILE | HELP | DEFAULT*         \n",
    "     ∘ DEBUG: Displays each field separately using dfns \"DISPLAY\"\n",
    "       The abbrev 'DE' or 'D' denotes DEBUG. \n",
    "     ∘ COMPILE: Returns a code string that can be converted to a dfn (executed via ⍎), \n",
    "        rather than scanned on each execution. \n",
    "        - The resulting dfn should have a dummy format ''. If a non-empty string, that\n",
    "          is treated as if the format string ⍵0.  \n",
    "        - If the resulting dfn is called with a left arg ⍺, \n",
    "          it must be an assertion (numeric array) and handled as above.\n",
    "     ∘ HELP: Displays HELP documentation (⍵ ignored):   \n",
    "          ∆F⍨'HELP'\n",
    "     ∘ DEFAULT: Returns a formatted 2-D array according to the format_string specified.\n",
    "       * DEFAULT is assumed if ⍺ is omitted or ''. Options may be in either case and abbreviated.\n",
    "       \n",
    "  format_string (⍵[0]):\n",
    "     ∘ Contains the simple format \"fields\" that include strings (text fields), code (code fields), and \n",
    "       2-D spacing (space fields). Code fields accommodate a shorthand using\n",
    "       ∘ $ to do numeric formatting (via ⎕FMT) and justification and centering, as well as\n",
    "       ∘ $$ to display fields or objects using dfns 'DISPLAY'.\n",
    "  arbitrary args (1↓⍵):\n",
    "     ∘ Optional arguments to be referenced in Code Fields. \n",
    "     ∘ In place of argument references: (0⊃⍵), (1⊃⍵)  or better (⍵⊃⍨0+⎕IO), (⍵⊃⍨1+⎕IO)\n",
    "       arguments can be referred to in Code Fields via \n",
    "             ⍹0, ⍹1, ..., or a bare ⍹,  or alternatively\n",
    "             ⍵0, ⍵1, ..., or a bare ⍵_.\n",
    "       ⍹1 or ⍵1 is the first APL argument after the format string. \n",
    "       ⍹10 or ⍵10 is the 10th such arg.\n",
    "       ⍹0 or ⍵0 refers to the format string itself.\n",
    "       ⍹ or ⍵_ refers to the next arg measuring from left to right across all Code Fields.\n",
    "       If no prior ⍹ specification appears, \n",
    "          ⍹ or ⍵_ refers to ⍹1. \n",
    "       If the previous reference (left to right) was ⍹10, ⍹ refers to ⍹11.\n",
    "          Example: {⍹ ⍹5 ⍹ ⍹1}  {⍹ ⍹10 ⍹}  is the same as  {⍹1 ⍹5 ⍹6 ⍹1} {⍹2 ⍹10 ⍹11}.\n",
    " ```"
   ]
  }
 ],
 "metadata": {
  "kernelspec": {
   "display_name": "Dyalog APL",
   "language": "apl",
   "name": "dyalog-kernel"
  },
  "language_info": {
   "file_extension": ".apl",
   "mimetype": "text/apl",
   "name": "APL"
  }
 },
 "nbformat": 4,
 "nbformat_minor": 5
}
