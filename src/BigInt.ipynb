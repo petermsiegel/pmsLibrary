{
 "cells": [
  {
   "cell_type": "code",
   "execution_count": 14,
   "id": "dd7dbd6a",
   "metadata": {},
   "outputs": [
    {
     "data": {
      "text/html": [
       "<span style=\"white-space:pre; font-family: monospace\">Loading BigInt \n",
       "</span>"
      ]
     },
     "execution_count": 14,
     "metadata": {},
     "output_type": "execute_result"
    }
   ],
   "source": [
    "'Loading',2 ⎕FIX 'file://BigInt.dyalog'  \n",
    "⎕PATH←'BigInt'\n",
    "⎕PW←300\n",
    "⍝ This rows def limits results \n",
    " ]←Rows  -style=cut  "
   ]
  },
  {
   "cell_type": "markdown",
   "id": "b468326e",
   "metadata": {},
   "source": [
    "## The BI operator\n",
    "The `BI` operator takes the expected monadic and dyadic arithmetic operands like `+`, `-`, `*`, and so on to operate on big integers. Big integers, _BigInts_ take the form of\n",
    "\n",
    "* __numeric character strings__, consisting of an optional `¯` or `-` prefix for negation, and one or more digits. They may also include underscores (but not spaces) as spacers for readability.  <br>_Examples:_ '¯123456789_314159_98765',  '4141414142494029423049023423239081'\n",
    "* __APL integers__ <br>_Examples:_    3141592654,    ¯12345\n",
    "* __APL floating point numbers__, including those with exponents, as long as they represent integers (⍵=⌊⍵). Such floats may be used as a shorthand for entering integers with many trailing zeroes. The maximum number allowed is 9.999...9E6144.  <br>_Examples:_ 2.14E200 or its equivalent ('214',198⍴'0')\n",
    "\n",
    "The result of a (valid) `BI` operation will be a BigInt in numeric character string format, using an APL high minus `¯` for negation. Underscores _by default_ are not inserted (but may be includded via the ⍕BI \"Prettify\" operation)."
   ]
  },
  {
   "cell_type": "code",
   "execution_count": 15,
   "id": "5f4acff6",
   "metadata": {},
   "outputs": [],
   "source": [
    "⍝ The ⍕ operand -- Pretty-- will show big integers with underscores every five digits for readability\n",
    "Pretty← ⍕BI"
   ]
  },
  {
   "cell_type": "markdown",
   "id": "a7776aaf",
   "metadata": {},
   "source": [
    "Let's set up 2 BigInts using numeric character strings."
   ]
  },
  {
   "cell_type": "code",
   "execution_count": 16,
   "id": "4bfa81da",
   "metadata": {},
   "outputs": [],
   "source": [
    "A←'244234324343244232'\n",
    "B←'-24234324324444232423'"
   ]
  },
  {
   "cell_type": "markdown",
   "id": "51c36b8b",
   "metadata": {},
   "source": [
    "Let's first add the two numbers."
   ]
  },
  {
   "cell_type": "code",
   "execution_count": 17,
   "id": "fed1389c",
   "metadata": {},
   "outputs": [
    {
     "data": {
      "text/html": [
       "<span style=\"white-space:pre; font-family: monospace\">¯23990090000100988191\n",
       "</span>"
      ]
     },
     "execution_count": 17,
     "metadata": {},
     "output_type": "execute_result"
    }
   ],
   "source": [
    "A +BI B"
   ]
  },
  {
   "cell_type": "markdown",
   "id": "ef09eded",
   "metadata": {},
   "source": [
    "Let's look at this pretty-printed."
   ]
  },
  {
   "cell_type": "code",
   "execution_count": 18,
   "id": "a1b97de9",
   "metadata": {},
   "outputs": [
    {
     "data": {
      "text/html": [
       "<span style=\"white-space:pre; font-family: monospace\">-23990_09000_01009_88191\n",
       "</span>"
      ]
     },
     "execution_count": 18,
     "metadata": {},
     "output_type": "execute_result"
    }
   ],
   "source": [
    "Pretty A +BI B"
   ]
  },
  {
   "cell_type": "markdown",
   "id": "e80eb5d8",
   "metadata": {},
   "source": [
    "We can multiply them as well..."
   ]
  },
  {
   "cell_type": "code",
   "execution_count": 19,
   "id": "7238902a",
   "metadata": {},
   "outputs": [
    {
     "data": {
      "text/html": [
       "<span style=\"white-space:pre; font-family: monospace\">-59_18853_82729_56858_22313_06643_68621_34136\n",
       "</span>"
      ]
     },
     "execution_count": 19,
     "metadata": {},
     "output_type": "execute_result"
    }
   ],
   "source": [
    "Pretty A ×BI B"
   ]
  },
  {
   "cell_type": "markdown",
   "id": "99f49bbe",
   "metadata": {},
   "source": [
    "Now let's take A to a small power __5__. We can quote the number __5__, but since it's a small APL integer, we can enter it as is, for our convenience."
   ]
  },
  {
   "cell_type": "code",
   "execution_count": 20,
   "id": "58cec5cf",
   "metadata": {},
   "outputs": [
    {
     "data": {
      "text/html": [
       "<span style=\"white-space:pre; font-family: monospace\">86_90274_50766_15737_93558_73925_22813_02647_52255_21636_64660_61041_93344_92···\n",
       "</span>"
      ]
     },
     "execution_count": 20,
     "metadata": {},
     "output_type": "execute_result"
    }
   ],
   "source": [
    "Pretty A *BI 5"
   ]
  },
  {
   "cell_type": "markdown",
   "id": "7292cd5c",
   "metadata": {},
   "source": [
    "We can try much bigger powers, but luckily we've asked APL to truncate really big numbers for us."
   ]
  },
  {
   "cell_type": "code",
   "execution_count": 21,
   "id": "50a1b7bb",
   "metadata": {},
   "outputs": [
    {
     "data": {
      "text/html": [
       "<span style=\"white-space:pre; font-family: monospace\">451_26015_51505_14978_65027_44728_67923_71497_82482_23460_09961_88146_90818_8···\n",
       "</span>"
      ]
     },
     "execution_count": 21,
     "metadata": {},
     "output_type": "execute_result"
    }
   ],
   "source": [
    "Pretty A *BI '422'"
   ]
  },
  {
   "cell_type": "markdown",
   "id": "5e5812b6",
   "metadata": {},
   "source": [
    "Just how many digits is this number?"
   ]
  },
  {
   "cell_type": "code",
   "execution_count": 22,
   "id": "45857bb3",
   "metadata": {},
   "outputs": [
    {
     "data": {
      "text/html": [
       "<span style=\"white-space:pre; font-family: monospace\">7338\n",
       "</span>"
      ]
     },
     "execution_count": 22,
     "metadata": {},
     "output_type": "execute_result"
    }
   ],
   "source": [
    "≢ A *BI '422'"
   ]
  },
  {
   "cell_type": "markdown",
   "id": "d62efd4e",
   "metadata": {},
   "source": [
    "For convenience, if we want to determine the # of digits of a number, even if negative or pretty printed, we use ≢BI:"
   ]
  },
  {
   "cell_type": "code",
   "execution_count": 30,
   "id": "9c8e8d80",
   "metadata": {},
   "outputs": [
    {
     "data": {
      "text/html": [
       "<span style=\"white-space:pre; font-family: monospace\">451_26015_51505_14978_65027_44728_67923_71497_82482_23460_09961_88146_90818_8···\n",
       "</span>"
      ]
     },
     "execution_count": 30,
     "metadata": {},
     "output_type": "execute_result"
    },
    {
     "data": {
      "text/html": [
       "<span style=\"white-space:pre; font-family: monospace\">7338 7338\n",
       "</span>"
      ]
     },
     "execution_count": 30,
     "metadata": {},
     "output_type": "execute_result"
    }
   ],
   "source": [
    "⊢a←Pretty A *BI '422'\n",
    "(≢BI a)  (≢a~'¯_')"
   ]
  },
  {
   "cell_type": "code",
   "execution_count": null,
   "id": "f8c0046d",
   "metadata": {},
   "outputs": [],
   "source": []
  }
 ],
 "metadata": {
  "kernelspec": {
   "display_name": "Dyalog APL",
   "language": "apl",
   "name": "dyalog-kernel"
  },
  "language_info": {
   "file_extension": ".apl",
   "mimetype": "text/apl",
   "name": "APL"
  }
 },
 "nbformat": 4,
 "nbformat_minor": 5
}
