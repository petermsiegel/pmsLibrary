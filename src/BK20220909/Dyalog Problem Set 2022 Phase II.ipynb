{
 "cells": [
  {
   "cell_type": "code",
   "execution_count": 1,
   "id": "a80abcfa",
   "metadata": {},
   "outputs": [],
   "source": [
    "]←box on\n"
   ]
  },
  {
   "cell_type": "code",
   "execution_count": 2,
   "id": "6ee69201",
   "metadata": {},
   "outputs": [],
   "source": [
    "∇runs←{\n",
    "⍝ Task 1: Write a function named runs that:\n",
    "⍝   • takes a non-negative integer scalar left argument n which specifies the length of the result.\n",
    "⍝   • takes a 2-column integer matrix right argument in which:\n",
    "⍝ ◦ column 1 is a positive integer representing the index in the result where a run of 1s will start.\n",
    "⍝ ◦ column 2 is a non-negative integer representing the length of the run (number of consecutive 1s)\n",
    "⍝ starting at the index indicated by column 1.\n",
    "⍝   • returns a Boolean vector of length n comprising runs of consecutive 1s as indicated by the right argument.\n",
    "\n",
    "     ⎕IO←1\n",
    "\n",
    "⍝    n per above, specs per matrix right arg\n",
    "     n←⍺ ⋄ specs←⍵\n",
    "⍝ The whole enchilada...\n",
    "     1@(n∘⌊∊(¯1∘+⊣+∘⍳¨⊢)/specs)⊢n⍴0\n",
    "  \n",
    "⍝ R: Range over ⍵\n",
    "⍝ For each row r of ⍵\n",
    "⍝ ... generate indices starting in column# (¯1+⍵[r;1]) and extending ⍳⍵[r;2] elem\n",
    "⍝ (All required clipping is done via <SK> below).\n",
    "  R←¯1∘+⊣+∘⍳¨⊢\n",
    "⍝ E.g. with ⍺=10, ⍵=2 2⍴3 6 5 4\n",
    "⍝       R/⍵\n",
    "⍝    ┌─────────────┬─────────┐\n",
    "⍝    │┌───────────┐│┌───────┐│\n",
    "⍝    ││3 4 5 6 7 8│││5 6 7 8││\n",
    "⍝    │└───────────┘│└───────┘│\n",
    "⍝    └─────────────┴─────────┘\n",
    "\n",
    "⍝ SK: Select ⍵ and keep elem in range up to <n>\n",
    "     SK←∪(n∘⌊⍤∊R/)      ⍝ ∪ removes duplicates (not strictly necc.)\n",
    "⍝ With ⍺, ⍵ above:\n",
    "⍝       SR ⍵\n",
    "⍝    3 4 5 6 7 8\n",
    "\n",
    "⍝ Start with working result n⍴0.\n",
    "⍝ Set all those elements at indices (SR ⍵) to 1 and return the result.\n",
    "     1@(SK specs)⊢n⍴0\n",
    " }\n",
    " ∇"
   ]
  },
  {
   "cell_type": "code",
   "execution_count": 3,
   "id": "c58dfe09",
   "metadata": {},
   "outputs": [
    {
     "data": {
      "text/html": [
       "<span style=\"white-space:pre; font-family: monospace\">0 0 1 1 1 1 1 0 0 0\n",
       "</span>"
      ]
     },
     "execution_count": 3,
     "metadata": {},
     "output_type": "execute_result"
    },
    {
     "data": {
      "text/html": [
       "<span style=\"white-space:pre; font-family: monospace\">0 0 1 1 1\n",
       "</span>"
      ]
     },
     "execution_count": 3,
     "metadata": {},
     "output_type": "execute_result"
    }
   ],
   "source": [
    "10 runs 2 2⍴3 5 5 3\n",
    "5  runs 2 2⍴3 5 5 3"
   ]
  },
  {
   "cell_type": "code",
   "execution_count": 14,
   "id": "9c260893",
   "metadata": {},
   "outputs": [],
   "source": [
    "∇fill←{\n",
    "⍝ Task 2: Having written runs in Task 1, let's complicate things a bit...\n",
    "⍝ Write a function named fill that:\n",
    "⍝ • takes a non-negative integer scalar or non-empty vector left argument size that specifies the shape of the\n",
    "⍝ result. We'll also specify rank←≢size.\n",
    "⍝ • takes a (2×rank)-column integer matrix subspaces where the first rank columns specify the index where\n",
    "⍝ a sub-space starts and the last rank columns specify the shape of the sub-space.\n",
    "⍝ For example, a row containing 2 1 3 6 4 5 describes a 6×4×5 sub-space starting at index (2,1,3) in a\n",
    "⍝ 3-dimensional array.\n",
    "⍝ • returns an integer array of the shape specified in size, where each sub-space is filled with the row index in\n",
    "⍝ subspaces for that sub-space. Positions not in any described sub-space should be 0.\n",
    "  rank←≢size←⍺\n",
    "  specs←⍵\n",
    "  ⎕←subspID←⍪ ⍳≢specs\n",
    "  subspID@(size∘⌊∊(¯1∘+⊣+∘⍳¨⊢)/specs)⊢size⍴0\n",
    " }\n",
    "∇"
   ]
  },
  {
   "cell_type": "code",
   "execution_count": 15,
   "id": "2b7dad9d",
   "metadata": {},
   "outputs": [
    {
     "name": "stderr",
     "output_type": "stream",
     "text": [
      "1\n",
      "2\n",
      "LENGTH ERROR\n",
      "fill[14] subspID@(size∘⌊∊(¯1∘+⊣+∘⍳¨⊢)/specs)⊢size⍴0\n",
      "                ∧\n"
     ]
    },
    {
     "data": {
      "text/html": [
       "<span style=\"white-space:pre; font-family: monospace\">0 0 1 1 2 2 2 2 2 2 2 0 0 0 0\n",
       "</span>"
      ]
     },
     "execution_count": 15,
     "metadata": {},
     "output_type": "execute_result"
    }
   ],
   "source": [
    "15 fill 2 2⍴3 6 5 7 ⍝ overlapping fills are permitted\n",
    "⎕←0 0 1 1 2 2 2 2 2 2 2 0 0 0 0"
   ]
  },
  {
   "cell_type": "code",
   "execution_count": null,
   "id": "344da443",
   "metadata": {},
   "outputs": [],
   "source": []
  }
 ],
 "metadata": {
  "kernelspec": {
   "display_name": "Dyalog APL",
   "language": "apl",
   "name": "dyalog-kernel"
  },
  "language_info": {
   "file_extension": ".apl",
   "mimetype": "text/apl",
   "name": "APL"
  }
 },
 "nbformat": 4,
 "nbformat_minor": 5
}
