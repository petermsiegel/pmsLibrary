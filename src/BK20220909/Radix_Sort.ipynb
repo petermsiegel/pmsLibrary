{
 "cells": [
  {
   "cell_type": "markdown",
   "id": "bde2e0d3",
   "metadata": {},
   "source": [
    "# Radix Sort\n",
    "#### APL Housekeeping"
   ]
  },
  {
   "cell_type": "code",
   "execution_count": 28,
   "id": "92cf59b8",
   "metadata": {},
   "outputs": [],
   "source": [
    "]←box on  "
   ]
  },
  {
   "cell_type": "markdown",
   "id": "8f072c51",
   "metadata": {},
   "source": [
    "#### Python Code from https://github.com/joeyajames/Python/blob/master/Sorting%20Algorithms/Radix_Sort.ipynb\n",
    "\n",
    "### Python Definitions"
   ]
  },
  {
   "cell_type": "markdown",
   "id": "147de60a",
   "metadata": {},
   "source": [
    "```Python\n",
    "# get number of digits in largest item\n",
    "def __get_num_digits(A):\n",
    "    m = 0\n",
    "    for item in A:\n",
    "        m = max(m, item)\n",
    "    return len(str(m))\n",
    "\n",
    "# flatten into a 1D List\n",
    "from functools import reduce\n",
    "def __flatten(A):\n",
    "    return reduce(lambda x, y: x + y, A)\n",
    "\n",
    "def radix(A):\n",
    "    num_digits = __get_num_digits(A)\n",
    "    for digit in range(0, num_digits):\n",
    "        B = [[] for i in range(10)]\n",
    "        for item in A:\n",
    "            # num is the bucket number that the item will be put into\n",
    "            num = item // 10 ** (digit) % 10\n",
    "            B[num].append(item)\n",
    "        A = __flatten(B)\n",
    "    return A\n",
    "```\n",
    "### APL Definitions "
   ]
  },
  {
   "cell_type": "code",
   "execution_count": 32,
   "id": "6b67e56a",
   "metadata": {},
   "outputs": [],
   "source": [
    "∇ A← RadixSort A\n",
    "    ;⎕IO\n",
    "    ;BASE ;SortByDig ;MaxDigits ;dig  \n",
    "    \n",
    "    ⎕IO ← 0\n",
    "    BASE← 10             ⍝ Good #s: 10, 16, 100, 256\n",
    "    \n",
    "    ⍝ Error if: not a true integer array; not a vector; contains any negative numbers\n",
    "    :IF {3≠80|⎕DR ⍵: 0 ⋄ 1≠⍴⍴⍵: 0 ⋄ ⍵ ∨.< 0} a\n",
    "       'DOMAIN ERROR: Only non-negative integer vectors allowed' ⎕SIGNAL 11\n",
    "    :ENDIF\n",
    "        \n",
    "  ⍝ sorted_list ← (dig base) SortByDig array:   \n",
    "    SortByDig ←{ (dig shift) a← ⍺ ⍵\n",
    "        b← BASE⍴⊂⍬                              ⍝ b: buckets\n",
    "       ⍝ Select← base∘|( ⌊×∘( dig*⍨÷base ))  \n",
    "         sel← BASE | ⌊ shift × a \n",
    "        ∊ b⊣ sel{ 0⊣ (⍺⊃b),← ⍵ }¨a        ⍝ ∊: Flatten\n",
    "    }\n",
    "    \n",
    "    MaxDigits←   ⌈BASE∘⍟⍤( ⌈/ )     ⍝ Equiv: ≢⍕⌈/  iff BASE is 10   \n",
    "    shift←1 \n",
    "    :FOR dig :IN ⍳ MaxDigits A\n",
    "         A← dig shift SortByDig A\n",
    "         shift×←0.1\n",
    "    :EndFor    \n",
    "∇"
   ]
  },
  {
   "cell_type": "markdown",
   "id": "a443c796",
   "metadata": {},
   "source": [
    "### Python: main\n",
    "```Python\n",
    "def main():\n",
    "    A = [55, 45, 3, 289, 213, 1, 288, 53, 2]\n",
    "    A = radix(A)\n",
    "    print(A)\n",
    "    \n",
    "    B  = [i for i in range(1000000)]\n",
    "    from random import shuffle\n",
    "    shuffle(B)\n",
    "    B = radix(B)\n",
    "    print(B[:6], B[-6:])\n",
    "\n",
    "main()\n",
    "```\n",
    "\n",
    "### APL \"main\""
   ]
  },
  {
   "cell_type": "markdown",
   "id": "f0be6321",
   "metadata": {},
   "source": [
    "#### APL:  Execute first part"
   ]
  },
  {
   "cell_type": "code",
   "execution_count": 33,
   "id": "2fe5230a",
   "metadata": {},
   "outputs": [
    {
     "data": {
      "text/html": [
       "<span style=\"white-space:pre; font-family: monospace\">1 2 3 45 53 55 213 288 289\n",
       "</span>"
      ]
     },
     "execution_count": 33,
     "metadata": {},
     "output_type": "execute_result"
    }
   ],
   "source": [
    "⍝ \"main\" part I\n",
    "  a ← 55 45 3 289 213 1 288 53 2 \n",
    "  a ← RadixSort a\n",
    "  a"
   ]
  },
  {
   "cell_type": "markdown",
   "id": "e7af7dbe",
   "metadata": {},
   "source": [
    "#### APL:  Execute second part"
   ]
  },
  {
   "cell_type": "code",
   "execution_count": 31,
   "id": "1ea3ecc1",
   "metadata": {},
   "outputs": [
    {
     "data": {
      "text/html": [
       "<span style=\"white-space:pre; font-family: monospace\">┌───────────┬───────────────────────────────────┐\n",
       "│0 1 2 3 4 5│99994 99995 99996 99997 99998 99999│\n",
       "└───────────┴───────────────────────────────────┘\n",
       "</span>"
      ]
     },
     "execution_count": 31,
     "metadata": {},
     "output_type": "execute_result"
    }
   ],
   "source": [
    "⍝ \"main\" part II\n",
    "  b← ?⍨100000       ⍝  100,000\n",
    "  b← RadixSort b\n",
    "  (6↑b) (¯6↑b)"
   ]
  },
  {
   "cell_type": "code",
   "execution_count": null,
   "id": "e0703705",
   "metadata": {},
   "outputs": [],
   "source": []
  }
 ],
 "metadata": {
  "kernelspec": {
   "display_name": "Dyalog APL",
   "language": "apl",
   "name": "dyalog-kernel"
  },
  "language_info": {
   "file_extension": ".apl",
   "mimetype": "text/apl",
   "name": "APL"
  }
 },
 "nbformat": 4,
 "nbformat_minor": 5
}
